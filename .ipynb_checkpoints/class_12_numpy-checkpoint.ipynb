{
 "cells": [
  {
   "cell_type": "code",
   "execution_count": 2,
   "id": "48c026b7-929c-437c-b73b-fd2381b30c74",
   "metadata": {},
   "outputs": [],
   "source": [
    "import numpy as np"
   ]
  },
  {
   "cell_type": "code",
   "execution_count": 4,
   "id": "0e2320c4-e6ac-4297-aa85-f8c609b24e8b",
   "metadata": {},
   "outputs": [
    {
     "data": {
      "text/plain": [
       "(2, 3)"
      ]
     },
     "execution_count": 4,
     "metadata": {},
     "output_type": "execute_result"
    }
   ],
   "source": [
    "## multi dimensional array 2D\n",
    "\n",
    "arr_2D = np.array ([[3,5,4],[4,5,6]])\n",
    "arr_2D.shape #returns number of rows and colomns"
   ]
  },
  {
   "cell_type": "code",
   "execution_count": 6,
   "id": "8e2234d5-5977-4d3e-a219-d02bdb4ca6ae",
   "metadata": {},
   "outputs": [],
   "source": [
    "row,col = arr_2D.shape"
   ]
  },
  {
   "cell_type": "code",
   "execution_count": 8,
   "id": "70ae5c5d-c0d0-4065-a8b4-bd17416baa08",
   "metadata": {},
   "outputs": [
    {
     "data": {
      "text/plain": [
       "(2, 3)"
      ]
     },
     "execution_count": 8,
     "metadata": {},
     "output_type": "execute_result"
    }
   ],
   "source": [
    "row,col"
   ]
  },
  {
   "cell_type": "code",
   "execution_count": 10,
   "id": "930d87df-5726-4def-8d28-d42be91ed3b5",
   "metadata": {},
   "outputs": [],
   "source": [
    "ones_matrix = np.ones(5)"
   ]
  },
  {
   "cell_type": "code",
   "execution_count": 12,
   "id": "4b0b616b-ebc3-4418-b9d5-6b9d91fa91d3",
   "metadata": {},
   "outputs": [
    {
     "data": {
      "text/plain": [
       "array([1., 1., 1., 1., 1.])"
      ]
     },
     "execution_count": 12,
     "metadata": {},
     "output_type": "execute_result"
    }
   ],
   "source": [
    "ones_matrix"
   ]
  },
  {
   "cell_type": "code",
   "execution_count": 14,
   "id": "cefee739-2fc3-42da-974a-aa120a19c6cd",
   "metadata": {},
   "outputs": [
    {
     "data": {
      "text/plain": [
       "array([[1., 1., 1.],\n",
       "       [1., 1., 1.],\n",
       "       [1., 1., 1.],\n",
       "       [1., 1., 1.]])"
      ]
     },
     "execution_count": 14,
     "metadata": {},
     "output_type": "execute_result"
    }
   ],
   "source": [
    "ones_matrix = np.ones([4,3])\n",
    "ones_matrix\n"
   ]
  },
  {
   "cell_type": "code",
   "execution_count": 16,
   "id": "c4d8b35e-7124-4dac-b3bf-eb759f13cbc0",
   "metadata": {},
   "outputs": [
    {
     "data": {
      "text/plain": [
       "array([[0., 0., 0.],\n",
       "       [0., 0., 0.],\n",
       "       [0., 0., 0.],\n",
       "       [0., 0., 0.]])"
      ]
     },
     "execution_count": 16,
     "metadata": {},
     "output_type": "execute_result"
    }
   ],
   "source": [
    "ones_matrix = np.zeros([4,3])\n",
    "ones_matrix\n"
   ]
  },
  {
   "cell_type": "code",
   "execution_count": 18,
   "id": "50d14b06-7957-4973-8009-45b1c97e78ef",
   "metadata": {},
   "outputs": [
    {
     "data": {
      "text/plain": [
       "array([ 0.        ,  0.52631579,  1.05263158,  1.57894737,  2.10526316,\n",
       "        2.63157895,  3.15789474,  3.68421053,  4.21052632,  4.73684211,\n",
       "        5.26315789,  5.78947368,  6.31578947,  6.84210526,  7.36842105,\n",
       "        7.89473684,  8.42105263,  8.94736842,  9.47368421, 10.        ])"
      ]
     },
     "execution_count": 18,
     "metadata": {},
     "output_type": "execute_result"
    }
   ],
   "source": [
    "# generate evenly space numbers\n",
    "np.linspace(0,10,20)"
   ]
  },
  {
   "cell_type": "code",
   "execution_count": 20,
   "id": "a191e7b1-16f8-4762-ade5-e4826499c2fc",
   "metadata": {},
   "outputs": [],
   "source": [
    "diagonals_matrix = np.eye(20)"
   ]
  },
  {
   "cell_type": "code",
   "execution_count": 22,
   "id": "f9a72a27-5a19-47e9-ac93-a391e520a65b",
   "metadata": {},
   "outputs": [
    {
     "data": {
      "text/plain": [
       "array([[1., 0., 0., 0., 0., 0., 0., 0., 0., 0., 0., 0., 0., 0., 0., 0.,\n",
       "        0., 0., 0., 0.],\n",
       "       [0., 1., 0., 0., 0., 0., 0., 0., 0., 0., 0., 0., 0., 0., 0., 0.,\n",
       "        0., 0., 0., 0.],\n",
       "       [0., 0., 1., 0., 0., 0., 0., 0., 0., 0., 0., 0., 0., 0., 0., 0.,\n",
       "        0., 0., 0., 0.],\n",
       "       [0., 0., 0., 1., 0., 0., 0., 0., 0., 0., 0., 0., 0., 0., 0., 0.,\n",
       "        0., 0., 0., 0.],\n",
       "       [0., 0., 0., 0., 1., 0., 0., 0., 0., 0., 0., 0., 0., 0., 0., 0.,\n",
       "        0., 0., 0., 0.],\n",
       "       [0., 0., 0., 0., 0., 1., 0., 0., 0., 0., 0., 0., 0., 0., 0., 0.,\n",
       "        0., 0., 0., 0.],\n",
       "       [0., 0., 0., 0., 0., 0., 1., 0., 0., 0., 0., 0., 0., 0., 0., 0.,\n",
       "        0., 0., 0., 0.],\n",
       "       [0., 0., 0., 0., 0., 0., 0., 1., 0., 0., 0., 0., 0., 0., 0., 0.,\n",
       "        0., 0., 0., 0.],\n",
       "       [0., 0., 0., 0., 0., 0., 0., 0., 1., 0., 0., 0., 0., 0., 0., 0.,\n",
       "        0., 0., 0., 0.],\n",
       "       [0., 0., 0., 0., 0., 0., 0., 0., 0., 1., 0., 0., 0., 0., 0., 0.,\n",
       "        0., 0., 0., 0.],\n",
       "       [0., 0., 0., 0., 0., 0., 0., 0., 0., 0., 1., 0., 0., 0., 0., 0.,\n",
       "        0., 0., 0., 0.],\n",
       "       [0., 0., 0., 0., 0., 0., 0., 0., 0., 0., 0., 1., 0., 0., 0., 0.,\n",
       "        0., 0., 0., 0.],\n",
       "       [0., 0., 0., 0., 0., 0., 0., 0., 0., 0., 0., 0., 1., 0., 0., 0.,\n",
       "        0., 0., 0., 0.],\n",
       "       [0., 0., 0., 0., 0., 0., 0., 0., 0., 0., 0., 0., 0., 1., 0., 0.,\n",
       "        0., 0., 0., 0.],\n",
       "       [0., 0., 0., 0., 0., 0., 0., 0., 0., 0., 0., 0., 0., 0., 1., 0.,\n",
       "        0., 0., 0., 0.],\n",
       "       [0., 0., 0., 0., 0., 0., 0., 0., 0., 0., 0., 0., 0., 0., 0., 1.,\n",
       "        0., 0., 0., 0.],\n",
       "       [0., 0., 0., 0., 0., 0., 0., 0., 0., 0., 0., 0., 0., 0., 0., 0.,\n",
       "        1., 0., 0., 0.],\n",
       "       [0., 0., 0., 0., 0., 0., 0., 0., 0., 0., 0., 0., 0., 0., 0., 0.,\n",
       "        0., 1., 0., 0.],\n",
       "       [0., 0., 0., 0., 0., 0., 0., 0., 0., 0., 0., 0., 0., 0., 0., 0.,\n",
       "        0., 0., 1., 0.],\n",
       "       [0., 0., 0., 0., 0., 0., 0., 0., 0., 0., 0., 0., 0., 0., 0., 0.,\n",
       "        0., 0., 0., 1.]])"
      ]
     },
     "execution_count": 22,
     "metadata": {},
     "output_type": "execute_result"
    }
   ],
   "source": [
    "diagonals_matrix"
   ]
  },
  {
   "cell_type": "code",
   "execution_count": 24,
   "id": "b96e876c-5ab2-4005-a0db-88b890d7ed91",
   "metadata": {},
   "outputs": [],
   "source": [
    "np.random.seed(42)\n"
   ]
  },
  {
   "cell_type": "code",
   "execution_count": 26,
   "id": "0cb89445-da03-4a66-8850-1e241eba3025",
   "metadata": {},
   "outputs": [
    {
     "data": {
      "text/plain": [
       "array([0.37454012, 0.95071431, 0.73199394, 0.59865848, 0.15601864])"
      ]
     },
     "execution_count": 26,
     "metadata": {},
     "output_type": "execute_result"
    }
   ],
   "source": [
    "np.random.rand(5)"
   ]
  },
  {
   "cell_type": "code",
   "execution_count": 28,
   "id": "91033bc3-531e-4698-859c-7f2cbf3f48fe",
   "metadata": {},
   "outputs": [
    {
     "data": {
      "text/plain": [
       "array([[0.15599452, 0.05808361, 0.86617615],\n",
       "       [0.60111501, 0.70807258, 0.02058449],\n",
       "       [0.96990985, 0.83244264, 0.21233911]])"
      ]
     },
     "execution_count": 28,
     "metadata": {},
     "output_type": "execute_result"
    }
   ],
   "source": [
    "np.random.rand(3,3)"
   ]
  },
  {
   "cell_type": "code",
   "execution_count": 30,
   "id": "3f2ecf90-48f6-467c-89b3-a5e01fa968eb",
   "metadata": {},
   "outputs": [
    {
     "data": {
      "text/plain": [
       "4"
      ]
     },
     "execution_count": 30,
     "metadata": {},
     "output_type": "execute_result"
    }
   ],
   "source": [
    "np.random.randint(1,5)"
   ]
  },
  {
   "cell_type": "code",
   "execution_count": 32,
   "id": "33cd66e8-3af2-40ef-8f67-95f05e8c99f1",
   "metadata": {},
   "outputs": [
    {
     "data": {
      "text/plain": [
       "array([[8, 5, 5, 8, 6, 6],\n",
       "       [5, 8, 5, 5, 7, 7],\n",
       "       [7, 6, 8, 8, 8, 8]])"
      ]
     },
     "execution_count": 32,
     "metadata": {},
     "output_type": "execute_result"
    }
   ],
   "source": [
    "np.random.randint(5,9,(3,6))"
   ]
  },
  {
   "cell_type": "code",
   "execution_count": 34,
   "id": "cae355c8-f066-4cf1-956c-ce9bb625cf41",
   "metadata": {},
   "outputs": [],
   "source": [
    "arr_rand = np.random.randint (1, 10, 20)"
   ]
  },
  {
   "cell_type": "code",
   "execution_count": 36,
   "id": "0c2efefa-703e-4fe1-a4e5-1d5aa8aebd02",
   "metadata": {},
   "outputs": [
    {
     "data": {
      "text/plain": [
       "array([3, 7, 4, 9, 3, 5, 3, 7, 5, 9, 7, 2, 4, 9, 2, 9, 5, 2, 4, 7])"
      ]
     },
     "execution_count": 36,
     "metadata": {},
     "output_type": "execute_result"
    }
   ],
   "source": [
    "arr_rand"
   ]
  },
  {
   "cell_type": "code",
   "execution_count": 38,
   "id": "a127a84e-3e6c-40b8-a9af-f21001f616f7",
   "metadata": {},
   "outputs": [
    {
     "data": {
      "text/plain": [
       "9"
      ]
     },
     "execution_count": 38,
     "metadata": {},
     "output_type": "execute_result"
    }
   ],
   "source": [
    "arr_rand.max()"
   ]
  },
  {
   "cell_type": "code",
   "execution_count": 40,
   "id": "d524398e-8898-4d9a-bbe3-dd1060152888",
   "metadata": {},
   "outputs": [
    {
     "data": {
      "text/plain": [
       "3"
      ]
     },
     "execution_count": 40,
     "metadata": {},
     "output_type": "execute_result"
    }
   ],
   "source": [
    "\n",
    "\n",
    "arr_rand.argmax() # tells location "
   ]
  },
  {
   "cell_type": "code",
   "execution_count": 42,
   "id": "34ed0bb8-31f9-4229-8cde-4671fd14a709",
   "metadata": {},
   "outputs": [
    {
     "data": {
      "text/plain": [
       "2"
      ]
     },
     "execution_count": 42,
     "metadata": {},
     "output_type": "execute_result"
    }
   ],
   "source": [
    "arr_rand.min()"
   ]
  },
  {
   "cell_type": "code",
   "execution_count": 44,
   "id": "8f983638-eabb-4d93-9705-5c4768e7b20d",
   "metadata": {},
   "outputs": [
    {
     "data": {
      "text/plain": [
       "11"
      ]
     },
     "execution_count": 44,
     "metadata": {},
     "output_type": "execute_result"
    }
   ],
   "source": [
    "arr_rand.argmin()"
   ]
  },
  {
   "cell_type": "code",
   "execution_count": 46,
   "id": "dad91426-0b5d-458a-8ee3-b0d3757f31a3",
   "metadata": {},
   "outputs": [
    {
     "data": {
      "text/plain": [
       "7"
      ]
     },
     "execution_count": 46,
     "metadata": {},
     "output_type": "execute_result"
    }
   ],
   "source": [
    "arr_rand[7] #tells what number is on 7th place"
   ]
  },
  {
   "cell_type": "code",
   "execution_count": 48,
   "id": "e5146e7b-4074-4d84-a73c-c90497e45cf3",
   "metadata": {},
   "outputs": [
    {
     "data": {
      "text/plain": [
       "array([7, 4, 2, 5, 9, 2, 9, 4, 2, 7, 9, 5, 7, 3, 5, 3, 9, 4, 7, 3])"
      ]
     },
     "execution_count": 48,
     "metadata": {},
     "output_type": "execute_result"
    }
   ],
   "source": [
    "arr_rand[::-1] #reverse order array "
   ]
  },
  {
   "cell_type": "code",
   "execution_count": 50,
   "id": "86edb5c3-5954-4a6e-aa3d-532627079d47",
   "metadata": {},
   "outputs": [
    {
     "data": {
      "text/plain": [
       "7"
      ]
     },
     "execution_count": 50,
     "metadata": {},
     "output_type": "execute_result"
    }
   ],
   "source": [
    "arr_rand[-1] # to retrievw last element"
   ]
  },
  {
   "cell_type": "code",
   "execution_count": 52,
   "id": "7ad7b9e1-bcf7-4474-987b-efe3b633e703",
   "metadata": {},
   "outputs": [
    {
     "data": {
      "text/plain": [
       "2"
      ]
     },
     "execution_count": 52,
     "metadata": {},
     "output_type": "execute_result"
    }
   ],
   "source": [
    " arr_rand[-3]"
   ]
  },
  {
   "cell_type": "code",
   "execution_count": 54,
   "id": "04b4db46-83e4-4396-bbc4-27910d94e187",
   "metadata": {},
   "outputs": [
    {
     "data": {
      "text/plain": [
       "array([[-1, -2, -3],\n",
       "       [-4, -5, -6],\n",
       "       [-7, -8, -9]])"
      ]
     },
     "execution_count": 54,
     "metadata": {},
     "output_type": "execute_result"
    }
   ],
   "source": [
    "a =np.array ( [[1,2,3],[4,5,6],[7,8,9]] )\n",
    "b = np.array ([[2,4,6],[8,10,12],[14,16,18]])\n",
    "c = a-b\n",
    "c"
   ]
  },
  {
   "cell_type": "code",
   "execution_count": 56,
   "id": "05797d22-d70e-4f73-9dae-ee578ebf13b2",
   "metadata": {},
   "outputs": [
    {
     "data": {
      "text/plain": [
       "array([[  2,   8,  18],\n",
       "       [ 32,  50,  72],\n",
       "       [ 98, 128, 162]])"
      ]
     },
     "execution_count": 56,
     "metadata": {},
     "output_type": "execute_result"
    }
   ],
   "source": [
    "a =np.array ( [[1,2,3],[4,5,6],[7,8,9]] )\n",
    "b = np.array ([[2,4,6],[8,10,12],[14,16,18]])\n",
    "c = a*b\n",
    "c"
   ]
  },
  {
   "cell_type": "code",
   "execution_count": 58,
   "id": "5eb08b44-d9b3-4688-bc15-3c5978c840e6",
   "metadata": {},
   "outputs": [
    {
     "data": {
      "text/plain": [
       "array([[1, 2, 3],\n",
       "       [4, 5, 6],\n",
       "       [7, 8, 9]])"
      ]
     },
     "execution_count": 58,
     "metadata": {},
     "output_type": "execute_result"
    }
   ],
   "source": [
    "a"
   ]
  },
  {
   "cell_type": "code",
   "execution_count": 60,
   "id": "69974e2a-02de-437a-b7ff-da05daac1869",
   "metadata": {},
   "outputs": [
    {
     "data": {
      "text/plain": [
       "array([[ 1,  4,  9],\n",
       "       [16, 25, 36],\n",
       "       [49, 64, 81]])"
      ]
     },
     "execution_count": 60,
     "metadata": {},
     "output_type": "execute_result"
    }
   ],
   "source": [
    "a**2"
   ]
  },
  {
   "cell_type": "code",
   "execution_count": 62,
   "id": "b665f7a0-8b3a-4e0f-a29b-605967f779a5",
   "metadata": {},
   "outputs": [
    {
     "data": {
      "text/plain": [
       "array([[  1,   8,  27],\n",
       "       [ 64, 125, 216],\n",
       "       [343, 512, 729]], dtype=int32)"
      ]
     },
     "execution_count": 62,
     "metadata": {},
     "output_type": "execute_result"
    }
   ],
   "source": [
    "a**3"
   ]
  },
  {
   "cell_type": "code",
   "execution_count": 64,
   "id": "fe6225cf-e792-4c5c-8ecf-a949a9e0a4c2",
   "metadata": {},
   "outputs": [
    {
     "data": {
      "text/plain": [
       "array([[    16,    256,   1296],\n",
       "       [  4096,  10000,  20736],\n",
       "       [ 38416,  65536, 104976]], dtype=int32)"
      ]
     },
     "execution_count": 64,
     "metadata": {},
     "output_type": "execute_result"
    }
   ],
   "source": [
    "b**4\n"
   ]
  },
  {
   "cell_type": "code",
   "execution_count": 66,
   "id": "97e3c95b-f543-40d7-86b9-082c9f96e04f",
   "metadata": {},
   "outputs": [],
   "source": [
    "row,col = a.shape\n",
    "for r in range(row):\n",
    "    for c in range(col):\n",
    "        a[r,c] = a[r,c] * 2"
   ]
  },
  {
   "cell_type": "code",
   "execution_count": 68,
   "id": "d7e8451d-223b-460b-807c-7869909c55dc",
   "metadata": {},
   "outputs": [
    {
     "data": {
      "text/plain": [
       "array([[ 2,  4,  6],\n",
       "       [ 8, 10, 12],\n",
       "       [14, 16, 18]])"
      ]
     },
     "execution_count": 68,
     "metadata": {},
     "output_type": "execute_result"
    }
   ],
   "source": [
    "a"
   ]
  },
  {
   "cell_type": "code",
   "execution_count": 70,
   "id": "c9d608ac-d902-479e-922f-34647f16c9b4",
   "metadata": {},
   "outputs": [],
   "source": [
    "# task \n",
    "# create a 3x3 matrix that contains 1 in the diagonals\n",
    "# rest are zero\n",
    "# create a 3x3 matrix of all ones\n",
    "# you need to perform matrix multiplication and save in new matrix i.e. c\n",
    "# perform the following operations in c matrix : find largest element\n",
    "# with its indx location\n",
    "# min and arg max\n",
    "\n",
    "A = np.eye(3)\n",
    "B = np.ones ((3,3))\n",
    "C = A*B"
   ]
  },
  {
   "cell_type": "code",
   "execution_count": 72,
   "id": "90ad4e4d-ed68-49d8-a4ba-a1935b8332d1",
   "metadata": {},
   "outputs": [
    {
     "data": {
      "text/plain": [
       "array([[1., 0., 0.],\n",
       "       [0., 1., 0.],\n",
       "       [0., 0., 1.]])"
      ]
     },
     "execution_count": 72,
     "metadata": {},
     "output_type": "execute_result"
    }
   ],
   "source": [
    "C"
   ]
  },
  {
   "cell_type": "code",
   "execution_count": 74,
   "id": "487d2d04-822b-4e29-a56c-8a2269b1d134",
   "metadata": {},
   "outputs": [
    {
     "data": {
      "text/plain": [
       "1.0"
      ]
     },
     "execution_count": 74,
     "metadata": {},
     "output_type": "execute_result"
    }
   ],
   "source": [
    "C.max()"
   ]
  },
  {
   "cell_type": "code",
   "execution_count": 76,
   "id": "ea2543f4-0220-46fa-b2ec-085bf9e7e672",
   "metadata": {},
   "outputs": [
    {
     "data": {
      "text/plain": [
       "0"
      ]
     },
     "execution_count": 76,
     "metadata": {},
     "output_type": "execute_result"
    }
   ],
   "source": [
    "C.argmax()"
   ]
  },
  {
   "cell_type": "code",
   "execution_count": 78,
   "id": "29093fcd-4fb4-4ff6-96e8-583e3823a35f",
   "metadata": {},
   "outputs": [
    {
     "data": {
      "text/plain": [
       "0.0"
      ]
     },
     "execution_count": 78,
     "metadata": {},
     "output_type": "execute_result"
    }
   ],
   "source": [
    "C.min()"
   ]
  },
  {
   "cell_type": "code",
   "execution_count": 80,
   "id": "89f84211-7ad6-44b5-9849-c1da3df85a03",
   "metadata": {},
   "outputs": [
    {
     "data": {
      "text/plain": [
       "1"
      ]
     },
     "execution_count": 80,
     "metadata": {},
     "output_type": "execute_result"
    }
   ],
   "source": [
    "C.argmin()"
   ]
  },
  {
   "cell_type": "code",
   "execution_count": 82,
   "id": "0f9ff7e6-ef7e-4a18-a3a2-76e359417c72",
   "metadata": {},
   "outputs": [
    {
     "data": {
      "text/plain": [
       "array([[6.23042070e-307, 4.67296746e-307],\n",
       "       [1.69121096e-306, 7.56595733e-307],\n",
       "       [6.23054633e-307, 2.22526399e-307]])"
      ]
     },
     "execution_count": 82,
     "metadata": {},
     "output_type": "execute_result"
    }
   ],
   "source": [
    "np.empty([3,2]) #garbage values"
   ]
  },
  {
   "cell_type": "code",
   "execution_count": 84,
   "id": "82ccc926-e9b9-469f-a013-a4f206cbf8fc",
   "metadata": {},
   "outputs": [
    {
     "data": {
      "text/plain": [
       "array([10, 15, 20])"
      ]
     },
     "execution_count": 84,
     "metadata": {},
     "output_type": "execute_result"
    }
   ],
   "source": [
    "np.arange(10,25,5)"
   ]
  },
  {
   "cell_type": "code",
   "execution_count": 86,
   "id": "dfabdc16-6e07-4074-818c-453248b35c7f",
   "metadata": {},
   "outputs": [
    {
     "name": "stdin",
     "output_type": "stream",
     "text": [
      "Enter number to find: 3\n"
     ]
    },
    {
     "name": "stdout",
     "output_type": "stream",
     "text": [
      "3 found at 0\n"
     ]
    }
   ],
   "source": [
    "value = int(input(\"Enter number to find:\"))\n",
    "\n",
    "len =arr_rand.shape[0]\n",
    "flag = 0\n",
    "\n",
    "for i in range(len):\n",
    "    if(value == arr_rand[i]):\n",
    "        flag = 1 \n",
    "        print(value,\"found at\", i)\n",
    "        # break is used to immediate terminate the loop\n",
    "        break\n",
    "if( flag == 0):\n",
    "        print(value,\"is not found\")   "
   ]
  },
  {
   "cell_type": "code",
   "execution_count": 88,
   "id": "34db78da-faca-4363-885d-c1ad5cfdc243",
   "metadata": {},
   "outputs": [
    {
     "data": {
      "text/plain": [
       "array(['urwa', 'salman khan', 'govinda', 'samra'], dtype='<U11')"
      ]
     },
     "execution_count": 88,
     "metadata": {},
     "output_type": "execute_result"
    }
   ],
   "source": [
    "std_lst =np.array ([\"urwa\", \"salman khan\", \"govinda\", \"samra\"])\n",
    "std_lst"
   ]
  },
  {
   "cell_type": "code",
   "execution_count": 2,
   "id": "3e30f8da-387c-44ee-80e4-dab09ad2d116",
   "metadata": {},
   "outputs": [
    {
     "name": "stdin",
     "output_type": "stream",
     "text": [
      "Enter name to find: urwa\n"
     ]
    },
    {
     "ename": "NameError",
     "evalue": "name 'std_lst' is not defined",
     "output_type": "error",
     "traceback": [
      "\u001b[1;31m---------------------------------------------------------------------------\u001b[0m",
      "\u001b[1;31mNameError\u001b[0m                                 Traceback (most recent call last)",
      "Cell \u001b[1;32mIn[2], line 3\u001b[0m\n\u001b[0;32m      1\u001b[0m name \u001b[38;5;241m=\u001b[39m \u001b[38;5;28minput\u001b[39m(\u001b[38;5;124m\"\u001b[39m\u001b[38;5;124mEnter name to find:\u001b[39m\u001b[38;5;124m\"\u001b[39m)\n\u001b[1;32m----> 3\u001b[0m \u001b[38;5;28mlen\u001b[39m \u001b[38;5;241m=\u001b[39mstd_lst\u001b[38;5;241m.\u001b[39mshape[\u001b[38;5;241m0\u001b[39m]\n\u001b[0;32m      4\u001b[0m flag \u001b[38;5;241m=\u001b[39m \u001b[38;5;241m0\u001b[39m\n\u001b[0;32m      6\u001b[0m \u001b[38;5;28;01mfor\u001b[39;00m i \u001b[38;5;129;01min\u001b[39;00m \u001b[38;5;28mrange\u001b[39m(\u001b[38;5;28mlen\u001b[39m):\n",
      "\u001b[1;31mNameError\u001b[0m: name 'std_lst' is not defined"
     ]
    }
   ],
   "source": [
    "name = input(\"Enter name to find:\")\n",
    "\n",
    "len =std_lst.shape[0]\n",
    "flag = 0\n",
    "\n",
    "for i in range(len):\n",
    "    if(name == std_lst[i]):\n",
    "        flag = 1 \n",
    "        print(name,\"found at\", i)\n",
    "        # break is used to immediate terminate the loop\n",
    "        break\n",
    "if( flag == 0):\n",
    "        print(name,\"is not found\")   "
   ]
  },
  {
   "cell_type": "code",
   "execution_count": 92,
   "id": "c2141b14-54ca-4128-8307-394fea291e56",
   "metadata": {},
   "outputs": [],
   "source": [
    "# find largest in array\n",
    "# find second smallest in array with index without built in functions"
   ]
  },
  {
   "cell_type": "code",
   "execution_count": 94,
   "id": "2ca2b618-7719-48a6-b428-10dfa4a121d5",
   "metadata": {},
   "outputs": [],
   "source": [
    "arr_rand = np.random.randint(1,10,20)"
   ]
  },
  {
   "cell_type": "code",
   "execution_count": 96,
   "id": "f9909ee8-84ca-44f5-b4d8-7fb7e16d481b",
   "metadata": {},
   "outputs": [
    {
     "data": {
      "text/plain": [
       "array([8, 3, 1, 4, 2, 8, 4, 2, 6, 6, 4, 6, 2, 2, 4, 8, 7, 9, 8, 5])"
      ]
     },
     "execution_count": 96,
     "metadata": {},
     "output_type": "execute_result"
    }
   ],
   "source": [
    "arr_rand"
   ]
  },
  {
   "cell_type": "code",
   "execution_count": 98,
   "id": "63e93753-d082-4692-9ec6-daeeb3ce2928",
   "metadata": {},
   "outputs": [
    {
     "name": "stdout",
     "output_type": "stream",
     "text": [
      "9 found at 17\n"
     ]
    }
   ],
   "source": [
    "len  = arr_rand.shape[0]\n",
    "largest = arr_rand[0]\n",
    "flag = 0\n",
    "for i in range(len):\n",
    "    if(arr_rand[i] > largest):\n",
    "        largest = arr_rand[i]\n",
    "        flag = i\n",
    "        print(largest, \"found at\", i)\n",
    "        break"
   ]
  },
  {
   "cell_type": "code",
   "execution_count": 100,
   "id": "d8065ae2-1d88-4d6e-8ff7-70640ad6fd52",
   "metadata": {},
   "outputs": [
    {
     "name": "stdout",
     "output_type": "stream",
     "text": [
      "8 second largest found at 16\n"
     ]
    }
   ],
   "source": [
    "len  = arr_rand.shape[0]\n",
    "largest = arr_rand[0]\n",
    "sec_large = arr_rand.min() #initialize to a very low value\n",
    "flag1 = 0\n",
    "flag2 = 1\n",
    "for i in range(len):\n",
    "    if(arr_rand[i] > largest):\n",
    "        sec_large = largest\n",
    "        largest = arr_rand[i]\n",
    "        flag1 = i\n",
    "    elif(arr_rand[i] > sec_large and arr_rand[i] != largest):\n",
    "        sec_large = arr_rand[i]\n",
    "        flag2 = i\n",
    "print(sec_large, \"second largest found at\", flag2)\n"
   ]
  },
  {
   "cell_type": "code",
   "execution_count": 110,
   "id": "e3056982-b1a1-4161-8e5f-87078e9dcc46",
   "metadata": {},
   "outputs": [
    {
     "name": "stdout",
     "output_type": "stream",
     "text": [
      "8 second largest found at 1\n"
     ]
    }
   ],
   "source": [
    "len  = arr_rand.shape[0]\n",
    "largest = arr_rand[0]\n",
    "sec_large = arr_rand.min() #initialize to a very low value\n",
    "th_large = arr_rand.min()\n",
    "flag1 = 0\n",
    "flag2 = 1\n",
    "flag3 = 1\n",
    "for i in range(len):\n",
    "    if(arr_rand[i] > sec_large):\n",
    "        th_large = sec_large\n",
    "        flag3 = flag2\n",
    "        sec_large = largest\n",
    "        largest = arr_rand[i]\n",
    "        flag1 = i\n",
    "    elif(arr_rand[i] > sec_large and arr_rand[i] != sec_large and arr_rand[i] != largest):\n",
    "        sec_large = arr_rand[i]\n",
    "        flag2 = i\n",
    "print(sec_large, \"second largest found at\", flag2)"
   ]
  },
  {
   "cell_type": "code",
   "execution_count": 112,
   "id": "ec722562-83b7-4eb7-801f-fbf53940d464",
   "metadata": {},
   "outputs": [
    {
     "name": "stdout",
     "output_type": "stream",
     "text": [
      "2 Second smallest found at: 4\n"
     ]
    }
   ],
   "source": [
    "len = arr_rand.shape[0]\n",
    "smallest = arr_rand[0]\n",
    "sec_smallest = arr_rand.max()  # Initialize to the largest element in the array\n",
    "flag1 = 0\n",
    "flag2 = -1\n",
    "for i in range(1, len):\n",
    "    if( arr_rand[i] < smallest):\n",
    "        sec_smallest = smallest\n",
    "        smallest = arr_rand[i]\n",
    "        flag1 = i\n",
    "    elif (arr_rand[i] < sec_smallest and arr_rand[i] != smallest):\n",
    "        sec_smallest = arr_rand[i]\n",
    "        flag2 = i\n",
    "\n",
    "print(sec_smallest,\"Second smallest found at:\",flag2)\n"
   ]
  },
  {
   "cell_type": "code",
   "execution_count": 114,
   "id": "60b501db-b647-4c67-8782-44a6d1659ccf",
   "metadata": {},
   "outputs": [
    {
     "name": "stdout",
     "output_type": "stream",
     "text": [
      "3 third smallest found at: 1\n"
     ]
    }
   ],
   "source": [
    "len = arr_rand.shape[0]\n",
    "smallest = arr_rand[0]\n",
    "sec_small = arr_rand.max()\n",
    "th_small = arr_rand.max()\n",
    "flag1 = 0\n",
    "flag2 = -1\n",
    "flag3= -1\n",
    "for i in range(1, len):\n",
    "    if arr_rand[i] < smallest:\n",
    "        th_small = sec_small\n",
    "        flag3 = flag2\n",
    "        sec_small = smallest\n",
    "        flag2 = flag1\n",
    "        smallest = arr_rand[i]\n",
    "        flag1 = i\n",
    "    elif arr_rand[i] < sec_small and arr_rand[i] != smallest:\n",
    "        th_small = sec_small\n",
    "        flag3 = flag2\n",
    "        sec_small = arr_rand[i]\n",
    "        flag2 = i\n",
    "    elif arr_rand[i] < th_small and arr_rand[i] != sec_small and arr_rand[i] != smallest:\n",
    "        th_small = arr_rand[i]\n",
    "        flag3 = i\n",
    "\n",
    "print(th_small,\"third smallest found at:\",flag3)\n"
   ]
  },
  {
   "cell_type": "code",
   "execution_count": 106,
   "id": "b85b3215-94b3-486b-afda-5a7272ce6620",
   "metadata": {},
   "outputs": [
    {
     "name": "stdout",
     "output_type": "stream",
     "text": [
      "4 fourth smallest found at: 3\n"
     ]
    }
   ],
   "source": [
    "len = arr_rand.shape[0]\n",
    "smallest = arr_rand[0]\n",
    "sec_small = arr_rand.max()\n",
    "th_small = arr_rand.max()\n",
    "fr_small = arr_rand.max()\n",
    "flag1 = 0\n",
    "flag2 = -1\n",
    "flag3= -1\n",
    "flag4 = -1\n",
    "for i in range(1, len):\n",
    "    if arr_rand[i] < smallest:\n",
    "        fr_small = th_small\n",
    "        flag4 = flag3\n",
    "        th_small = sec_small\n",
    "        flag3 = flag2\n",
    "        sec_small = smallest\n",
    "        flag2 = flag1\n",
    "        smallest = arr_rand[i]\n",
    "        flag1 = i\n",
    "    elif arr_rand[i] < sec_small and arr_rand[i] != smallest:\n",
    "        fr_small = th_small\n",
    "        flag4 = flag3\n",
    "        th_small = sec_small\n",
    "        flag3 = flag2\n",
    "        sec_small = arr_rand[i]\n",
    "        flag2 = i\n",
    "    elif arr_rand[i] < th_small and arr_rand[i] != sec_small and arr_rand[i] != smallest:\n",
    "        fr_small = th_small\n",
    "        flag4 = flag3\n",
    "        th_small = arr_rand[i]\n",
    "        flag3 = i \n",
    "    elif arr_rand[i] < fr_small and th_small != arr_rand[i] and sec_small != arr_rand[i] and smalles != arr_rand[i]:\n",
    "        fr_small = arr_rand[i]\n",
    "        flag4 = i\n",
    "\n",
    "print(fr_small,\"fourth smallest found at:\",flag4)\n"
   ]
  },
  {
   "cell_type": "code",
   "execution_count": null,
   "id": "5d6c127d-1d48-4b3a-a5a1-91e7def57e8a",
   "metadata": {},
   "outputs": [],
   "source": []
  },
  {
   "cell_type": "code",
   "execution_count": null,
   "id": "6563a06b-1012-4263-a65a-dd791586632e",
   "metadata": {},
   "outputs": [],
   "source": []
  },
  {
   "cell_type": "code",
   "execution_count": null,
   "id": "eaffa5db-d498-46ba-9b61-1e2f18bb1646",
   "metadata": {},
   "outputs": [],
   "source": []
  }
 ],
 "metadata": {
  "kernelspec": {
   "display_name": "Python 3 (ipykernel)",
   "language": "python",
   "name": "python3"
  },
  "language_info": {
   "codemirror_mode": {
    "name": "ipython",
    "version": 3
   },
   "file_extension": ".py",
   "mimetype": "text/x-python",
   "name": "python",
   "nbconvert_exporter": "python",
   "pygments_lexer": "ipython3",
   "version": "3.12.4"
  }
 },
 "nbformat": 4,
 "nbformat_minor": 5
}
