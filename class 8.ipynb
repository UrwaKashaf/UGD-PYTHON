{
 "cells": [
  {
   "cell_type": "code",
   "execution_count": 3,
   "id": "77516c93-d442-4419-bfa6-aff77056062d",
   "metadata": {},
   "outputs": [
    {
     "name": "stdout",
     "output_type": "stream",
     "text": [
      "0 0 0 \n",
      "0 1 2 \n",
      "0 2 4 \n",
      "0 3 6 \n",
      "0 4 8 \n"
     ]
    }
   ],
   "source": [
    "## nested loops\n",
    "## i = 5, k = 5 , i*k\n",
    "for i in range(5):\n",
    "    for k in range(3):\n",
    "        print(i*k, end=\" \") #end = \" \" is used for space\n",
    "    print()\n",
    "\n"
   ]
  },
  {
   "cell_type": "code",
   "execution_count": 7,
   "id": "f97661bf-309e-45f8-a7d1-323b1b3570fe",
   "metadata": {},
   "outputs": [
    {
     "name": "stdout",
     "output_type": "stream",
     "text": [
      "0 0 0 0 0 \n",
      "0 1 2 3 4 \n",
      "0 2 4 6 8 \n",
      "0 3 6 9 12 \n",
      "0 4 8 12 16 \n"
     ]
    }
   ],
   "source": [
    "i = 0\n",
    "while(i<5): # nested while loop\n",
    "    k=0\n",
    "    while(k<5):\n",
    "        print(i*k, end=\" \")\n",
    "        k = k+1\n",
    "    print()\n",
    "    i = i + 1\n",
    " # when value of inner loop is false their would be increment in outer loop\n",
    "# when value of outer loop is false the whole condition will terminate\n"
   ]
  },
  {
   "cell_type": "code",
   "execution_count": 15,
   "id": "c19bb0d7-cf90-45c7-8e7d-4b73cb02c7ca",
   "metadata": {},
   "outputs": [
    {
     "name": "stdout",
     "output_type": "stream",
     "text": [
      "* \n",
      "* * \n",
      "* * * \n",
      "* * * * \n",
      "* * * * * \n"
     ]
    }
   ],
   "source": [
    "for r in range(1,6):\n",
    "    for c in range(1, r+1):\n",
    "        print(\"*\", end=\" \")\n",
    "    print()"
   ]
  },
  {
   "cell_type": "code",
   "execution_count": 37,
   "id": "dfcc116d-e17c-4b8c-99e3-41cb9a4c00e7",
   "metadata": {},
   "outputs": [
    {
     "name": "stdout",
     "output_type": "stream",
     "text": [
      "* \n",
      "* * \n",
      "* * * \n",
      "* * * * \n",
      "* * * * * \n",
      "* * * * * \n",
      "* * * * \n",
      "* * * \n",
      "* * \n",
      "* \n"
     ]
    }
   ],
   "source": [
    "# task to print full triangle\n",
    "\n",
    "for r in range(1,6):\n",
    "    for c in range(1, r+1):\n",
    "        print(\"*\", end=\" \")\n",
    "    print()\n",
    "for r in range(5,0, -1): #condition is reversed # -1 is used for reverse \n",
    "    for c in range(r,0, -1):\n",
    "        print(\"*\", end=\" \")\n",
    "    print()\n",
    "    \n",
    "             "
   ]
  },
  {
   "cell_type": "code",
   "execution_count": 49,
   "id": "d3113d88-0eb7-438a-92a5-41d2e340abc6",
   "metadata": {},
   "outputs": [
    {
     "name": "stdout",
     "output_type": "stream",
     "text": [
      "1 \n",
      "1 2 \n",
      "1 2 3 \n",
      "1 2 3 4 \n",
      "1 2 3 4 5 \n",
      "5 4 3 2 1 \n",
      "4 3 2 1 \n",
      "3 2 1 \n",
      "2 1 \n",
      "1 \n"
     ]
    }
   ],
   "source": [
    "## task print\n",
    "# 1\n",
    "# 1 2 \n",
    "# 1 2 3 \n",
    "# 1 2 3 4 \n",
    "# 1 2 3 4 5\n",
    "\n",
    "for r in range(1,6):\n",
    "    for c in range(1, r+1):\n",
    "        print(c, end= \" \")\n",
    "    print()\n",
    "for r in range(5,0,-1):\n",
    "    for c in range(r, 0, -1):\n",
    "        print(c, end= \" \")\n",
    "    print()"
   ]
  },
  {
   "cell_type": "code",
   "execution_count": 55,
   "id": "16a58d70-d723-4395-879e-e3101e167aaa",
   "metadata": {},
   "outputs": [
    {
     "name": "stdin",
     "output_type": "stream",
     "text": [
      "enter start range: 1\n",
      "enter end range: 10\n"
     ]
    },
    {
     "name": "stdout",
     "output_type": "stream",
     "text": [
      "sum of odd numbers: 25\n"
     ]
    }
   ],
   "source": [
    "# suum of odd numberss\n",
    "\n",
    "start = int(input(\"enter start range:\"))\n",
    "end = int(input(\"enter end range:\"))\n",
    "sum_odd = 0\n",
    "\n",
    "for i in range(start, end +1):\n",
    "    if(i% 2 != 0):\n",
    "        sum_odd = sum_odd + i\n",
    "print(\"sum of odd numbers:\", sum_odd)\n"
   ]
  },
  {
   "cell_type": "code",
   "execution_count": 75,
   "id": "9dd72000-0ac1-4af7-a07a-7f14b19c7c09",
   "metadata": {},
   "outputs": [
    {
     "name": "stdout",
     "output_type": "stream",
     "text": [
      "1 \n",
      "2 4 \n",
      "3 6 9 \n",
      "4 8 12 16 \n",
      "5 10 15 20 25 \n",
      "6 12 18 24 30 36 \n",
      "7 14 21 28 35 42 49 \n"
     ]
    }
   ],
   "source": [
    "for r in range(1,8):\n",
    "    for c in range(1,r + 1):\n",
    "        print(r*c, end=\" \")\n",
    "    print()\n",
    "\n"
   ]
  },
  {
   "cell_type": "code",
   "execution_count": 79,
   "id": "77aaf4fd-c2dd-4e1e-b43e-f491c422e3ab",
   "metadata": {},
   "outputs": [
    {
     "name": "stdin",
     "output_type": "stream",
     "text": [
      "enter starting range: 2\n",
      "enter end range: 10\n"
     ]
    },
    {
     "name": "stdout",
     "output_type": "stream",
     "text": [
      "2 x 1 = 2\n",
      "2 x 2 = 4\n",
      "2 x 3 = 6\n",
      "2 x 4 = 8\n",
      "2 x 5 = 10\n",
      "2 x 6 = 12\n",
      "2 x 7 = 14\n",
      "2 x 8 = 16\n",
      "2 x 9 = 18\n",
      "\n",
      "3 x 1 = 3\n",
      "3 x 2 = 6\n",
      "3 x 3 = 9\n",
      "3 x 4 = 12\n",
      "3 x 5 = 15\n",
      "3 x 6 = 18\n",
      "3 x 7 = 21\n",
      "3 x 8 = 24\n",
      "3 x 9 = 27\n",
      "\n",
      "4 x 1 = 4\n",
      "4 x 2 = 8\n",
      "4 x 3 = 12\n",
      "4 x 4 = 16\n",
      "4 x 5 = 20\n",
      "4 x 6 = 24\n",
      "4 x 7 = 28\n",
      "4 x 8 = 32\n",
      "4 x 9 = 36\n",
      "\n",
      "5 x 1 = 5\n",
      "5 x 2 = 10\n",
      "5 x 3 = 15\n",
      "5 x 4 = 20\n",
      "5 x 5 = 25\n",
      "5 x 6 = 30\n",
      "5 x 7 = 35\n",
      "5 x 8 = 40\n",
      "5 x 9 = 45\n",
      "\n",
      "6 x 1 = 6\n",
      "6 x 2 = 12\n",
      "6 x 3 = 18\n",
      "6 x 4 = 24\n",
      "6 x 5 = 30\n",
      "6 x 6 = 36\n",
      "6 x 7 = 42\n",
      "6 x 8 = 48\n",
      "6 x 9 = 54\n",
      "\n",
      "7 x 1 = 7\n",
      "7 x 2 = 14\n",
      "7 x 3 = 21\n",
      "7 x 4 = 28\n",
      "7 x 5 = 35\n",
      "7 x 6 = 42\n",
      "7 x 7 = 49\n",
      "7 x 8 = 56\n",
      "7 x 9 = 63\n",
      "\n",
      "8 x 1 = 8\n",
      "8 x 2 = 16\n",
      "8 x 3 = 24\n",
      "8 x 4 = 32\n",
      "8 x 5 = 40\n",
      "8 x 6 = 48\n",
      "8 x 7 = 56\n",
      "8 x 8 = 64\n",
      "8 x 9 = 72\n",
      "\n",
      "9 x 1 = 9\n",
      "9 x 2 = 18\n",
      "9 x 3 = 27\n",
      "9 x 4 = 36\n",
      "9 x 5 = 45\n",
      "9 x 6 = 54\n",
      "9 x 7 = 63\n",
      "9 x 8 = 72\n",
      "9 x 9 = 81\n",
      "\n",
      "10 x 1 = 10\n",
      "10 x 2 = 20\n",
      "10 x 3 = 30\n",
      "10 x 4 = 40\n",
      "10 x 5 = 50\n",
      "10 x 6 = 60\n",
      "10 x 7 = 70\n",
      "10 x 8 = 80\n",
      "10 x 9 = 90\n",
      "\n"
     ]
    }
   ],
   "source": [
    "# task 2 \n",
    "# take  the user input startig and ending e.g = 1 - 5\n",
    "\n",
    "start = int(input(\"enter starting range:\"))\n",
    "end = int(input(\"enter end range:\"))\n",
    "\n",
    "for r in range(start,end+1):\n",
    "    for c in range(1,10):\n",
    "        print(r, \"x\", c, \"=\", r*c)\n",
    "    print()"
   ]
  },
  {
   "cell_type": "code",
   "execution_count": null,
   "id": "fc7f5257-7f12-4c44-9e43-93ae41420550",
   "metadata": {},
   "outputs": [],
   "source": []
  }
 ],
 "metadata": {
  "kernelspec": {
   "display_name": "Python 3 (ipykernel)",
   "language": "python",
   "name": "python3"
  },
  "language_info": {
   "codemirror_mode": {
    "name": "ipython",
    "version": 3
   },
   "file_extension": ".py",
   "mimetype": "text/x-python",
   "name": "python",
   "nbconvert_exporter": "python",
   "pygments_lexer": "ipython3",
   "version": "3.12.4"
  }
 },
 "nbformat": 4,
 "nbformat_minor": 5
}
