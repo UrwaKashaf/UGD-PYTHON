{
 "cells": [
  {
   "cell_type": "markdown",
   "id": "466eaca8-b75c-493d-bfe5-9a48c4f849e8",
   "metadata": {},
   "source": [
    "# QUESTION NO 1 : "
   ]
  },
  {
   "cell_type": "code",
   "execution_count": 86,
   "id": "494b9891-5d84-41fa-ac08-c09c42dbf139",
   "metadata": {},
   "outputs": [
    {
     "name": "stdin",
     "output_type": "stream",
     "text": [
      "Enter any number: 3\n",
      "Enter any number: 2\n"
     ]
    }
   ],
   "source": [
    "# write a program to make a simple calculator with four arthimetic operations ( +,-,*,%) \n",
    "#output to looks like 3+4=7\n",
    "\n",
    "num1 = int(input(\"Enter any number:\"))\n",
    "num2 = int(input(\"Enter any number:\"))\n",
    "\n",
    "\n",
    "\n"
   ]
  },
  {
   "cell_type": "markdown",
   "id": "d825177d-6b96-43f3-abe4-74ee48a7743e",
   "metadata": {},
   "source": [
    "# QUESTION NO 2 "
   ]
  },
  {
   "cell_type": "code",
   "execution_count": 28,
   "id": "527e9880-71b7-4d65-9de6-03be399618a1",
   "metadata": {},
   "outputs": [
    {
     "name": "stdin",
     "output_type": "stream",
     "text": [
      "Enter cost price: 250\n",
      "Enter selling price: 200\n"
     ]
    },
    {
     "name": "stdout",
     "output_type": "stream",
     "text": [
      "total loss = 50\n"
     ]
    }
   ],
   "source": [
    "# write a program to input cost price and selling price of  a product and check profit or loss \n",
    "# also calculate total profit or loss\n",
    "# using profit = sp - cp and loss = cp - sp\n",
    "\n",
    "cost = int(input(\"Enter cost price:\"))\n",
    "sell = int(input(\"Enter selling price:\"))\n",
    "\n",
    "profit = sell - cost\n",
    "loss = cost - sell\n",
    "\n",
    "if(sell > cost):\n",
    "    print(\"total profit =\", profit)\n",
    "else:\n",
    "    print(\"total loss =\", loss)\n",
    "\n"
   ]
  },
  {
   "cell_type": "markdown",
   "id": "7dd113f2-b3c9-4382-a7f6-434373a2dfff",
   "metadata": {},
   "source": [
    "# QUESTION NO 3"
   ]
  },
  {
   "cell_type": "code",
   "execution_count": 31,
   "id": "1efe9acf-48da-4480-866f-cd1bdf70e394",
   "metadata": {},
   "outputs": [
    {
     "name": "stdin",
     "output_type": "stream",
     "text": [
      "enter math marks: 76\n",
      "enter physics marks: 56\n",
      "enter chemistry marks: 67\n",
      "enter english marks: 54\n",
      "enter biology marks: 39.5\n"
     ]
    },
    {
     "name": "stdout",
     "output_type": "stream",
     "text": [
      "E grade\n",
      "\n",
      " final grade is FAIL\n",
      "obtained marks : 292.5\n",
      "percentage: 58.5\n"
     ]
    }
   ],
   "source": [
    "#write a program to input marks of a student of five subjects\n",
    "# \n",
    "\n",
    "maths = float(input(\"enter math marks:\"))\n",
    "phy = float(input(\"enter physics marks:\"))\n",
    "chem = float(input(\"enter chemistry marks:\"))\n",
    "eng = float(input(\"enter english marks:\"))\n",
    "bio = float(input(\"enter biology marks:\"))\n",
    "\n",
    "obtained = maths+phy+bio+eng+chem\n",
    "per = obtained/500 * 100\n",
    "\n",
    "if( per >= 90 ):\n",
    "    print(\"A grade\")\n",
    "elif( per >= 80):\n",
    "    print(\"B grade\")\n",
    "elif( per >= 70):\n",
    "    print(\"C grade\")\n",
    "elif( per >= 60):\n",
    "    print(\"D grade\")\n",
    "elif(per >+ 50):\n",
    "    print(\"E grade\")\n",
    "\n",
    "if(maths < 40 or eng < 40 or bio < 40 or chem < 40 or phy < 40):\n",
    "    print(\"\\n final grade is FAIL\")\n",
    "\n",
    "print(\"obtained marks :\", obtained)\n",
    "print(\"percentage:\", per)\n",
    "    "
   ]
  },
  {
   "cell_type": "markdown",
   "id": "d8ba53ee-d9af-469c-bfdb-b2fb210e01c1",
   "metadata": {},
   "source": [
    "# QUESTION NO 4"
   ]
  },
  {
   "cell_type": "code",
   "execution_count": 46,
   "id": "0c183571-975f-4c0c-881e-f8f4593f4e4a",
   "metadata": {},
   "outputs": [
    {
     "name": "stdin",
     "output_type": "stream",
     "text": [
      "Enter starting range: 1\n",
      "Enter ending range: 21\n"
     ]
    },
    {
     "name": "stdout",
     "output_type": "stream",
     "text": [
      "1\n",
      "3\n",
      "5\n",
      "7\n",
      "9\n",
      "11\n",
      "13\n",
      "15\n",
      "17\n",
      "19\n",
      "41\n"
     ]
    }
   ],
   "source": [
    "# write a program that takes user input starting and ending range of the numbers and the print \n",
    "# the sum of odd numbers using for loop\n",
    "\n",
    "start = int(input(\"Enter starting range:\"))\n",
    "end = int(input(\"Enter ending range:\"))\n",
    "sum = start + end\n",
    "for i in range(start,end,2):\n",
    "    print(i)\n",
    "sum =  sum + i  \n",
    "print(sum)\n"
   ]
  },
  {
   "cell_type": "markdown",
   "id": "ef4d2673-7e09-456c-aa40-5565201a12c6",
   "metadata": {},
   "source": [
    "# QUESTION NO 5"
   ]
  },
  {
   "cell_type": "code",
   "execution_count": null,
   "id": "1aac9383-52ec-46c9-a1e6-50980ab03969",
   "metadata": {},
   "outputs": [],
   "source": [
    "#1,1,2,3,5,8,13,21,34,55\n",
    "\n",
    "for i in range(1,56):\n",
    "    result = "
   ]
  },
  {
   "cell_type": "markdown",
   "id": "9410224d-c071-4896-b3e8-cb5ea7b117d5",
   "metadata": {},
   "source": [
    "# QUESTION NO 6"
   ]
  },
  {
   "cell_type": "code",
   "execution_count": 50,
   "id": "fd24b94c-b305-4de8-b6ce-014af6d4188d",
   "metadata": {},
   "outputs": [
    {
     "name": "stdout",
     "output_type": "stream",
     "text": [
      "[54, 45, 66, 56, 67]\n"
     ]
    }
   ],
   "source": [
    "batting_sc = [54,45,66,56,67]\n",
    "print(batting_sc)"
   ]
  },
  {
   "cell_type": "code",
   "execution_count": 52,
   "id": "e03a4a2c-f99c-4a1c-8522-380c7fe40d88",
   "metadata": {},
   "outputs": [],
   "source": [
    "batting_sc.sort()"
   ]
  },
  {
   "cell_type": "code",
   "execution_count": 56,
   "id": "c396e638-f5dd-429d-b017-29875733b4fe",
   "metadata": {},
   "outputs": [
    {
     "data": {
      "text/plain": [
       "[45, 54, 56, 66, 67]"
      ]
     },
     "execution_count": 56,
     "metadata": {},
     "output_type": "execute_result"
    }
   ],
   "source": [
    "batting_sc"
   ]
  },
  {
   "cell_type": "code",
   "execution_count": 58,
   "id": "9daa35cd-77ad-4d56-bee2-707b5a56a5a4",
   "metadata": {},
   "outputs": [],
   "source": [
    "batting_sc.remove(66)"
   ]
  },
  {
   "cell_type": "code",
   "execution_count": 60,
   "id": "77ef72a2-473f-427d-a5c2-113c50908703",
   "metadata": {},
   "outputs": [
    {
     "data": {
      "text/plain": [
       "[45, 54, 56, 67]"
      ]
     },
     "execution_count": 60,
     "metadata": {},
     "output_type": "execute_result"
    }
   ],
   "source": [
    "batting_sc"
   ]
  },
  {
   "cell_type": "code",
   "execution_count": 62,
   "id": "8114cc22-ec19-48e5-b6f1-1f331ac3bcff",
   "metadata": {},
   "outputs": [],
   "source": [
    "batting_sc.append(49)"
   ]
  },
  {
   "cell_type": "code",
   "execution_count": 64,
   "id": "0004ff17-5d81-4ee3-bef9-8872ac165a04",
   "metadata": {},
   "outputs": [
    {
     "data": {
      "text/plain": [
       "[45, 54, 56, 67, 49]"
      ]
     },
     "execution_count": 64,
     "metadata": {},
     "output_type": "execute_result"
    }
   ],
   "source": [
    "batting_sc"
   ]
  },
  {
   "cell_type": "code",
   "execution_count": null,
   "id": "068e48ee-52ec-422b-85d4-38fe4f572873",
   "metadata": {},
   "outputs": [],
   "source": []
  }
 ],
 "metadata": {
  "kernelspec": {
   "display_name": "Python 3 (ipykernel)",
   "language": "python",
   "name": "python3"
  },
  "language_info": {
   "codemirror_mode": {
    "name": "ipython",
    "version": 3
   },
   "file_extension": ".py",
   "mimetype": "text/x-python",
   "name": "python",
   "nbconvert_exporter": "python",
   "pygments_lexer": "ipython3",
   "version": "3.12.4"
  }
 },
 "nbformat": 4,
 "nbformat_minor": 5
}
