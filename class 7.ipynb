{
 "cells": [
  {
   "cell_type": "code",
   "execution_count": 3,
   "id": "2b6c8c6a-81f8-4a85-8746-6c799ef4522b",
   "metadata": {},
   "outputs": [
    {
     "name": "stdout",
     "output_type": "stream",
     "text": [
      "1\n",
      "4\n",
      "7\n"
     ]
    }
   ],
   "source": [
    "## while loop\n",
    "## this variable a is a loop variable called while loop variable\n",
    "# 3 parts of loop \n",
    "# 1) starting condition i.e variable\n",
    "# 2) stopping condition\n",
    "# 3) increment or decrement condition\n",
    "\n",
    "a = 1\n",
    "\n",
    "while(a<=9):\n",
    "    print(a)\n",
    "    #increment condition\n",
    "    a = a+3"
   ]
  },
  {
   "cell_type": "code",
   "execution_count": 1,
   "id": "004dfb12-7bd4-4dd2-885c-5e50ebdf0319",
   "metadata": {},
   "outputs": [
    {
     "name": "stdout",
     "output_type": "stream",
     "text": [
      "9\n",
      "8\n",
      "7\n",
      "6\n",
      "5\n",
      "4\n",
      "3\n",
      "2\n",
      "1\n"
     ]
    }
   ],
   "source": [
    "a = 9\n",
    "\n",
    "while(a>=1):\n",
    "    print(a)\n",
    "    #decrement condition\n",
    "    a = a-1"
   ]
  },
  {
   "cell_type": "code",
   "execution_count": 7,
   "id": "6bb23531-0392-4efc-9951-b2ab90e746e6",
   "metadata": {},
   "outputs": [
    {
     "name": "stdin",
     "output_type": "stream",
     "text": [
      "Enter any number: 4\n"
     ]
    },
    {
     "name": "stdout",
     "output_type": "stream",
     "text": [
      "the factorial of 4 is 24\n"
     ]
    }
   ],
   "source": [
    "# 3! is factorial operator\n",
    "# 3! = 3x2x1 = 6\n",
    "# 4! = 4x3x2x1 = 24\n",
    "# 5! = 5x4x3x2x1 = 125\n",
    "\n",
    "num = int(input(\"Enter any number:\"))\n",
    "# eg ; 4\n",
    "a = num \n",
    "result = 1\n",
    "while(a>=1):\n",
    "    result = result * a\n",
    "    a = a-1\n",
    "# print is outside while condition\n",
    "print(\"the factorial of\", num, \"is\", result)\n",
    "\n",
    "# 1) result = 1*4 = 4\n",
    "# 2) result =  4*3 = 12\n",
    "# 3) result = 12*2 = 24\n",
    "# 4) result = 24 * 1 = 24"
   ]
  },
  {
   "cell_type": "code",
   "execution_count": 13,
   "id": "b592ec61-e4a7-456a-a724-ec3c20feec84",
   "metadata": {},
   "outputs": [
    {
     "name": "stdin",
     "output_type": "stream",
     "text": [
      "Enter any number: 5\n"
     ]
    },
    {
     "name": "stdout",
     "output_type": "stream",
     "text": [
      "5 x 1 = 5\n",
      "5 x 2 = 10\n",
      "5 x 3 = 15\n",
      "5 x 4 = 20\n",
      "5 x 5 = 25\n",
      "5 x 6 = 30\n",
      "5 x 7 = 35\n",
      "5 x 8 = 40\n",
      "5 x 9 = 45\n",
      "5 x 10 = 50\n"
     ]
    }
   ],
   "source": [
    "###\n",
    "# 3 x 1 = 3\n",
    "# 3 x 2 = 6\n",
    "# 3 x 3 = 9\n",
    "# 3 x 10 = 30\n",
    "\n",
    "num = int(input(\"Enter any number:\"))\n",
    "result\n",
    "for i in range(1,11):\n",
    "    result = num * i\n",
    "  print(num, \"x\", i, \"=\", result)"
   ]
  },
  {
   "cell_type": "code",
   "execution_count": 29,
   "id": "f87bfcc5-e4b4-4083-ab4b-f3d3a3904656",
   "metadata": {},
   "outputs": [
    {
     "name": "stdin",
     "output_type": "stream",
     "text": [
      "Enter any number: 5\n"
     ]
    },
    {
     "name": "stdout",
     "output_type": "stream",
     "text": [
      "5 x 1 = 5\n",
      "5 x 2 = 10\n",
      "5 x 3 = 15\n",
      "5 x 4 = 20\n",
      "5 x 5 = 25\n",
      "5 x 6 = 30\n",
      "5 x 7 = 35\n",
      "5 x 8 = 40\n",
      "5 x 9 = 45\n",
      "5 x 10 = 50\n"
     ]
    }
   ],
   "source": [
    "## for table in while loop\n",
    "\n",
    "num = int(input(\"Enter any number:\"))\n",
    "a = 1\n",
    "result = 0\n",
    "while(a<=10):\n",
    "    result = num * a\n",
    "    print(num, \"x\", a, \"=\", result)\n",
    "    a = a + 1"
   ]
  },
  {
   "cell_type": "code",
   "execution_count": 1,
   "id": "2b9995fe-1084-4efc-9d55-3e5b0c9dd2cf",
   "metadata": {},
   "outputs": [
    {
     "name": "stdin",
     "output_type": "stream",
     "text": [
      "Enter starting range: 10\n",
      "Enter end range: 50\n"
     ]
    },
    {
     "name": "stdout",
     "output_type": "stream",
     "text": [
      "10\n",
      "12\n",
      "14\n",
      "16\n",
      "18\n",
      "20\n",
      "22\n",
      "24\n",
      "26\n",
      "28\n",
      "30\n",
      "32\n",
      "34\n",
      "36\n",
      "38\n",
      "40\n",
      "42\n",
      "44\n",
      "46\n",
      "48\n",
      "50\n"
     ]
    }
   ],
   "source": [
    "start = int(input(\"Enter starting range:\"))\n",
    "end = int(input(\"Enter end range:\"))\n",
    "\n",
    "while(start<=end):\n",
    "    if(start%2==0):\n",
    "        print(start)\n",
    "    start = start + 1"
   ]
  },
  {
   "cell_type": "code",
   "execution_count": 13,
   "id": "b45e81ce-dfea-4385-8bb2-6bd09242610e",
   "metadata": {},
   "outputs": [
    {
     "name": "stdin",
     "output_type": "stream",
     "text": [
      "Enter starting range: 10\n",
      "Enter end range: 50\n"
     ]
    },
    {
     "name": "stdout",
     "output_type": "stream",
     "text": [
      "10\n",
      "12\n",
      "14\n",
      "16\n",
      "18\n",
      "20\n",
      "22\n",
      "24\n",
      "26\n",
      "28\n",
      "30\n",
      "32\n",
      "34\n",
      "36\n",
      "38\n",
      "40\n",
      "42\n",
      "44\n",
      "46\n",
      "48\n",
      "50\n",
      "2593\n"
     ]
    }
   ],
   "source": [
    "## task to sum all the even numbers given by the user range\n",
    "\n",
    "start = int(input(\"Enter starting range:\"))\n",
    "end = int(input(\"Enter end range:\"))\n",
    "\n",
    "while(start<=end):\n",
    "    if(start%2==0):\n",
    "        print(start)\n",
    "    start = start + 1\n",
    "    sum = sum +start\n",
    "print(sum)\n",
    "    \n",
    "        "
   ]
  },
  {
   "cell_type": "code",
   "execution_count": null,
   "id": "22edcadb-0484-4060-9b8e-a0ae3b5c2387",
   "metadata": {},
   "outputs": [],
   "source": []
  }
 ],
 "metadata": {
  "kernelspec": {
   "display_name": "Python 3 (ipykernel)",
   "language": "python",
   "name": "python3"
  },
  "language_info": {
   "codemirror_mode": {
    "name": "ipython",
    "version": 3
   },
   "file_extension": ".py",
   "mimetype": "text/x-python",
   "name": "python",
   "nbconvert_exporter": "python",
   "pygments_lexer": "ipython3",
   "version": "3.12.4"
  }
 },
 "nbformat": 4,
 "nbformat_minor": 5
}
