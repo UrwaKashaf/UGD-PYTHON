{
 "cells": [
  {
   "cell_type": "code",
   "execution_count": null,
   "id": "4ce6e782-e3b3-4f97-9dae-3b1b309965b5",
   "metadata": {},
   "outputs": [],
   "source": [
    "#assigment no 1\n",
    "## the length and breadth of a rectange and radius of a circle\n",
    "##are input through th keyboard.\n",
    "##write a prgramme to calcuate the area and \n",
    "#the parameter of rectange and the area and \n",
    "##the circumfereence of the circle\n",
    "\n",
    "#area and perimeter of rectangle\n",
    "length = float(input(\"Enter the length of the rectangle:\"))\n",
    "breadth = float(input(\"Enter the breadth of the rectangle:\"))\n",
    "\n",
    "area_rec = length * breadth\n",
    "perim_rec = (length * breadth) * 2\n",
    "\n",
    "print(\"\\nArea of rectangle:\", area_rec)\n",
    "print(\"\\nPerimeter of rectangle:\", perim_rec)\n",
    "\n",
    "\n",
    "\n"
   ]
  },
  {
   "cell_type": "code",
   "execution_count": null,
   "id": "2a8763d0-b572-4068-8c31-f3010f870b4a",
   "metadata": {},
   "outputs": [],
   "source": []
  },
  {
   "cell_type": "code",
   "execution_count": null,
   "id": "21f2b341-0130-4fbf-a218-4d00202ae719",
   "metadata": {},
   "outputs": [],
   "source": [
    "\n",
    "\n",
    "# circumference and area of circle\n",
    "\n",
    "rad = float(input(\"enter the radius of the circle:\"))\n",
    "\n",
    "area_circle = (3.142*rad**2)\n",
    "circfer = 2*3.142*rad\n",
    "\n",
    "print(\"\\nArea of circle:\", area_circle)\n",
    "print(\"\\nCircumference of circle:\", circfer)"
   ]
  },
  {
   "cell_type": "code",
   "execution_count": null,
   "id": "6fd31681-8007-44e7-a731-b863b1ac301a",
   "metadata": {},
   "outputs": [],
   "source": []
  },
  {
   "cell_type": "code",
   "execution_count": null,
   "id": "733f32b6-532b-49e5-9408-bd55138acea1",
   "metadata": {},
   "outputs": [],
   "source": []
  },
  {
   "cell_type": "code",
   "execution_count": null,
   "id": "9ec0be82-1269-44c8-adc1-9fd874831cbb",
   "metadata": {},
   "outputs": [],
   "source": []
  },
  {
   "cell_type": "code",
   "execution_count": null,
   "id": "cff9e0d7-2572-4065-9f30-d15dcbae8a1c",
   "metadata": {},
   "outputs": [],
   "source": [
    "\n"
   ]
  },
  {
   "cell_type": "code",
   "execution_count": null,
   "id": "8f8e7cc1-f1dc-42ec-a3ae-6250fd73fac8",
   "metadata": {},
   "outputs": [],
   "source": []
  }
 ],
 "metadata": {
  "kernelspec": {
   "display_name": "Python 3 (ipykernel)",
   "language": "python",
   "name": "python3"
  },
  "language_info": {
   "codemirror_mode": {
    "name": "ipython",
    "version": 3
   },
   "file_extension": ".py",
   "mimetype": "text/x-python",
   "name": "python",
   "nbconvert_exporter": "python",
   "pygments_lexer": "ipython3",
   "version": "3.12.4"
  }
 },
 "nbformat": 4,
 "nbformat_minor": 5
}
