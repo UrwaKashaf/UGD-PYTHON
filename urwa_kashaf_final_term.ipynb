{
 "cells": [
  {
   "cell_type": "markdown",
   "id": "80732c85-2da1-4812-a31d-e95a48e53453",
   "metadata": {},
   "source": [
    "# QUESTION NO 1"
   ]
  },
  {
   "cell_type": "markdown",
   "id": "104466dd-d3cf-4429-bd37-c3393caf70d8",
   "metadata": {},
   "source": [
    "a)find the largest number in the 2D array"
   ]
  },
  {
   "cell_type": "code",
   "execution_count": 2,
   "id": "9d53fe8b-b4f2-475d-80bf-42d7bd254861",
   "metadata": {},
   "outputs": [],
   "source": [
    "import random "
   ]
  },
  {
   "cell_type": "code",
   "execution_count": 4,
   "id": "b9cc961f-3049-4a48-89de-5f95dea23c2a",
   "metadata": {},
   "outputs": [],
   "source": [
    "import numpy as np"
   ]
  },
  {
   "cell_type": "code",
   "execution_count": 6,
   "id": "370f728a-216b-4ef8-9574-ee7bd228b715",
   "metadata": {},
   "outputs": [],
   "source": [
    "import pandas as pd"
   ]
  },
  {
   "cell_type": "code",
   "execution_count": 8,
   "id": "bd4d9c11-5c14-4dec-8c36-0548632c4c6e",
   "metadata": {},
   "outputs": [],
   "source": [
    "import string"
   ]
  },
  {
   "cell_type": "code",
   "execution_count": 14,
   "id": "c2ab59da-6c64-4315-a6ab-db10989f83f8",
   "metadata": {},
   "outputs": [
    {
     "data": {
      "text/plain": [
       "array([[ 5,  2,  3],\n",
       "       [10, 13,  7]])"
      ]
     },
     "execution_count": 14,
     "metadata": {},
     "output_type": "execute_result"
    }
   ],
   "source": [
    "arr_rand = np.array([[5,2,3],[10,13,7]])\n",
    "arr_rand"
   ]
  },
  {
   "cell_type": "code",
   "execution_count": 34,
   "id": "c5f0ea76-5054-4398-8a89-49c870416682",
   "metadata": {},
   "outputs": [
    {
     "name": "stdout",
     "output_type": "stream",
     "text": [
      "10 found at (0, 0)\n"
     ]
    }
   ],
   "source": [
    "#finding the largest number in the given array, arr_rand :\n",
    "# array([[ 5,  2,  3],\n",
    "      # [10, 13,  7]])\n",
    "rows,cols = arr_rand.shape\n",
    "largest = arr_rand[0,0]\n",
    "index = (0,0)\n",
    "for i in range(rows):\n",
    "    for c in range(cols):\n",
    "        if(arr_rand[i,c] > largest):\n",
    "            largest = arr_rand[i,c]\n",
    "            flag = (i,c)\n",
    "            print(largest, \"found at\", index)\n",
    "        break"
   ]
  },
  {
   "cell_type": "code",
   "execution_count": 26,
   "id": "e01095ee-b309-40a3-9523-eaa3ccf092db",
   "metadata": {},
   "outputs": [
    {
     "name": "stdout",
     "output_type": "stream",
     "text": [
      "13 found at position (1, 1)\n"
     ]
    }
   ],
   "source": [
    "import numpy as np\n",
    "\n",
    "arr_rand = np.array([[5, 2, 3], [10, 13, 7]])\n",
    "rows, cols = arr_rand.shape\n",
    "\n",
    "largest = arr_rand[0, 0]\n",
    "position = (0, 0)\n",
    "\n",
    "for i in range(rows):\n",
    "    for c in range(cols):\n",
    "        if arr_rand[i, c] > largest:\n",
    "            largest = arr_rand[i, c]\n",
    "            position = (i, c)\n",
    "\n",
    "print(f\"{largest} found at position {position}\")\n"
   ]
  },
  {
   "cell_type": "markdown",
   "id": "42dd6c8b-7b8c-4c7b-a1b6-c4869187eca9",
   "metadata": {},
   "source": [
    "b) Make a list of 5 students name also add your full name as a first item in the\r\n",
    "list. Perform the following instructions;\r\n",
    "1. Convert it into Numpy Array\r\n",
    "2. Take a user input to find the name of any student from the array\r\n",
    "3. If the value found display on output with its index location\r\n",
    "4. If not found display on output screen “Not Found”"
   ]
  },
  {
   "cell_type": "code",
   "execution_count": 84,
   "id": "70a8cb6d-c1ee-4c56-ac5b-7db7bbca8ee3",
   "metadata": {},
   "outputs": [],
   "source": [
    "name_list = [\"Urwa Kashaf\",\"Samra Shahzad\", \"Uswah Batool\", \"Eman MIrza\",\"Ayesha Tariq\"]"
   ]
  },
  {
   "cell_type": "code",
   "execution_count": 86,
   "id": "12a6d960-4bad-4e33-bac9-e5a0db92d09a",
   "metadata": {},
   "outputs": [],
   "source": [
    "name_list = np.array([\"Urwa Kashaf\",\"Samra Shahzad\", \"Uswah Batool\", \"Eman MIrza\",\"Ayesha Tariq\"])"
   ]
  },
  {
   "cell_type": "code",
   "execution_count": 88,
   "id": "6d852162-90a0-4f43-9162-8070bfec07d3",
   "metadata": {},
   "outputs": [
    {
     "data": {
      "text/plain": [
       "array(['Urwa Kashaf', 'Samra Shahzad', 'Uswah Batool', 'Eman MIrza',\n",
       "       'Ayesha Tariq'], dtype='<U13')"
      ]
     },
     "execution_count": 88,
     "metadata": {},
     "output_type": "execute_result"
    }
   ],
   "source": [
    "name_list"
   ]
  },
  {
   "cell_type": "code",
   "execution_count": 96,
   "id": "ce57e99f-ea19-41da-a319-5cc7789bf9c0",
   "metadata": {},
   "outputs": [
    {
     "name": "stdin",
     "output_type": "stream",
     "text": [
      "Enter name to find: aimal ilyas\n"
     ]
    },
    {
     "name": "stdout",
     "output_type": "stream",
     "text": [
      "aimal ilyas is not found\n"
     ]
    }
   ],
   "source": [
    "# find a name from the array\n",
    "name = input(\"Enter name to find:\")\n",
    "\n",
    "len =name_list.shape[0]\n",
    "flag = 0\n",
    "\n",
    "for i in range(len):\n",
    "    if(name == name_list[i]):\n",
    "        flag = 1 \n",
    "        print(name,\"found at\", i)\n",
    "        break\n",
    "        # break is used to immediate terminate the loop\n",
    "if( flag == 0):\n",
    "        print(name,\"is not found\")   "
   ]
  },
  {
   "cell_type": "markdown",
   "id": "91f7583d-5bd0-41df-bf55-a1f3f401db87",
   "metadata": {},
   "source": [
    "# QUESTION 2\n",
    "a) What is Artificial Intelligence? Explain briefly the major branches of AI."
   ]
  },
  {
   "cell_type": "markdown",
   "id": "c11e3055-457d-40aa-9d51-6cbfdb3990d6",
   "metadata": {},
   "source": [
    "ANSWER : \n",
    "   Artificial Intelligence is a type of intelligence that can perform tasks efficiently initially requiring human input, AI is used in many fields in today's time AI has been assisting humans more efficiently in every field.\n",
    "   Major Branches of AI:\n",
    "robotics : AI is used vastly in robotics, robotics have taken over many human jobs even leading to lack of jobs and incomes for humans.\n",
    "machine learning : AI is used in machine learning for fields like data science etc\n"
   ]
  },
  {
   "cell_type": "markdown",
   "id": "c9f8de28-579b-4d08-a1a8-2dd3978e9b2d",
   "metadata": {},
   "source": [
    "b) Why is Artificial Intelligence becoming more popular these days? Provide\r\n",
    "some practical applications where AI is being used."
   ]
  },
  {
   "cell_type": "markdown",
   "id": "250ba2b6-5e99-4097-8704-9bd2ee79d086",
   "metadata": {},
   "source": [
    "ANSWER : in todays date and time artificial has taken over in every field, from medical, computers, restaurants, artificial intelligence is being used in every field for various purposes for its effcient and fast working, we can get any kind of data from AI more easily in seconds after giving the input.\n",
    "AI has even taken over human jobs, robots are being used in restaurants to serve the customer sinstead of human waiters in developed countries such as japan.\n",
    "AI is used in machinery or the making of hospital equipment."
   ]
  },
  {
   "cell_type": "markdown",
   "id": "f30e0612-1b26-40a9-83c4-ab595f6d3a12",
   "metadata": {},
   "source": [
    "## QUESTION 3\n",
    "Write a function to calculate the 10% discount on the total amount of the items\r\n",
    "purchased greater than 6000. Using the concept of pass by value to give as an\r\n",
    "input parameter. Finally display the discount given and final amount outside the\r\n",
    "function. Make the name of the function as discount_fn"
   ]
  },
  {
   "cell_type": "code",
   "execution_count": 120,
   "id": "a870dbe4-d406-40a6-8ac9-5e4c2a572f1a",
   "metadata": {},
   "outputs": [],
   "source": [
    "def discount_fn(amount):  \n",
    "    if(amount >= 6000):\n",
    "        discounted_price = amount * 0.1 #or 10/100\n",
    "        final_amount = amount - discounted_price\n",
    "    else:\n",
    "        discounted_price = 0\n",
    "        final_amount = amount\n",
    "    return discounted_price, final_amount #return is outside if statement\n",
    "    #bcz both conditions are finalixed\n",
    "# if i put it inside the if else statement it woukd gve error\n",
    "     "
   ]
  },
  {
   "cell_type": "code",
   "execution_count": 122,
   "id": "32e6b8f7-53ae-4201-906f-0360ac438b4b",
   "metadata": {},
   "outputs": [
    {
     "name": "stdin",
     "output_type": "stream",
     "text": [
      "enter price: 6700\n"
     ]
    },
    {
     "name": "stdout",
     "output_type": "stream",
     "text": [
      "670.0\n",
      "6030.0\n"
     ]
    }
   ],
   "source": [
    "price = int(input(\"enter price:\"))\n",
    "\n",
    "dis_price, fn_amount = discount_fn(price)\n",
    "\n",
    "print(dis_price)\n",
    "print(fn_amount)"
   ]
  },
  {
   "cell_type": "markdown",
   "id": "44626c3c-9a2c-4e95-ad58-d5a5e9b741b5",
   "metadata": {},
   "source": [
    "## QUESTION 4\n",
    "Write a program to generate a random password of minimum length 8 characters\r\n",
    "and maximum length not more than 12 characters. The password should satisfy\r\n",
    "the following criteria;\r\n",
    "1. Uppercase Alphabets\r\n",
    "2. Lowercase Alphabets\r\n",
    "3. Digits\r\n",
    "4. Special Characters (Dollar ($), Underscore ( _ ), Period (.))"
   ]
  },
  {
   "cell_type": "code",
   "execution_count": 159,
   "id": "f4f9ef3e-0c10-418d-96d9-9b5b12efd3d9",
   "metadata": {},
   "outputs": [
    {
     "name": "stdout",
     "output_type": "stream",
     "text": [
      "password: W$LIfGJRJ\n"
     ]
    }
   ],
   "source": [
    "characters = string.ascii_letters + string.digits + \"$_.\"\n",
    "pass_len = random.randint(8,12)\n",
    "password = \"\"\n",
    "\n",
    "for i in range(pass_len):\n",
    "    random_char = random.choice(characters)\n",
    "    password = password + random_char\n",
    "print(\"password:\", password)\n",
    "    "
   ]
  },
  {
   "cell_type": "markdown",
   "id": "fb2ef43d-1091-4fce-9039-496bc61eaed3",
   "metadata": {},
   "source": [
    "## QUESTION NO 5\n",
    "The titanic.csv dataset contains information about passengers aboard the Titanic,\r\n",
    "often used to explore survival rates and other factors related to the tragedy. Key\r\n",
    "variables include passenger survival status, class (1st, 2nd, or 3rd), age, gender,\r\n",
    "number of siblings/spouses aboard, number of parents/children aboard, fare paid,\r\n",
    "and port of embarkation. This dataset is commonly used for classification tasks\r\n",
    "and to analyze how factors like age, gender, and class influenced the likelihood\r\n",
    "of survival during the Titanic disaster."
   ]
  },
  {
   "cell_type": "code",
   "execution_count": 311,
   "id": "91ae1e49-86fd-42a7-8079-fc92a1946e9e",
   "metadata": {},
   "outputs": [],
   "source": [
    "df = pd.read_csv(\"titanic_train.csv\") # to save the file in csv"
   ]
  },
  {
   "cell_type": "code",
   "execution_count": 313,
   "id": "6d2a5646-a44f-49aa-a07b-c0330e8c5611",
   "metadata": {},
   "outputs": [
    {
     "data": {
      "text/html": [
       "<div>\n",
       "<style scoped>\n",
       "    .dataframe tbody tr th:only-of-type {\n",
       "        vertical-align: middle;\n",
       "    }\n",
       "\n",
       "    .dataframe tbody tr th {\n",
       "        vertical-align: top;\n",
       "    }\n",
       "\n",
       "    .dataframe thead th {\n",
       "        text-align: right;\n",
       "    }\n",
       "</style>\n",
       "<table border=\"1\" class=\"dataframe\">\n",
       "  <thead>\n",
       "    <tr style=\"text-align: right;\">\n",
       "      <th></th>\n",
       "      <th>PassengerId</th>\n",
       "      <th>Survived</th>\n",
       "      <th>Pclass</th>\n",
       "      <th>Name</th>\n",
       "      <th>Sex</th>\n",
       "      <th>Age</th>\n",
       "      <th>SibSp</th>\n",
       "      <th>Parch</th>\n",
       "      <th>Ticket</th>\n",
       "      <th>Fare</th>\n",
       "      <th>Cabin</th>\n",
       "      <th>Embarked</th>\n",
       "    </tr>\n",
       "  </thead>\n",
       "  <tbody>\n",
       "    <tr>\n",
       "      <th>0</th>\n",
       "      <td>1</td>\n",
       "      <td>0</td>\n",
       "      <td>3</td>\n",
       "      <td>Braund, Mr. Owen Harris</td>\n",
       "      <td>male</td>\n",
       "      <td>22.0</td>\n",
       "      <td>1</td>\n",
       "      <td>0</td>\n",
       "      <td>A/5 21171</td>\n",
       "      <td>7.2500</td>\n",
       "      <td>NaN</td>\n",
       "      <td>S</td>\n",
       "    </tr>\n",
       "    <tr>\n",
       "      <th>1</th>\n",
       "      <td>2</td>\n",
       "      <td>1</td>\n",
       "      <td>1</td>\n",
       "      <td>Cumings, Mrs. John Bradley (Florence Briggs Th...</td>\n",
       "      <td>female</td>\n",
       "      <td>38.0</td>\n",
       "      <td>1</td>\n",
       "      <td>0</td>\n",
       "      <td>PC 17599</td>\n",
       "      <td>71.2833</td>\n",
       "      <td>C85</td>\n",
       "      <td>C</td>\n",
       "    </tr>\n",
       "    <tr>\n",
       "      <th>2</th>\n",
       "      <td>3</td>\n",
       "      <td>1</td>\n",
       "      <td>3</td>\n",
       "      <td>Heikkinen, Miss. Laina</td>\n",
       "      <td>female</td>\n",
       "      <td>26.0</td>\n",
       "      <td>0</td>\n",
       "      <td>0</td>\n",
       "      <td>STON/O2. 3101282</td>\n",
       "      <td>7.9250</td>\n",
       "      <td>NaN</td>\n",
       "      <td>S</td>\n",
       "    </tr>\n",
       "    <tr>\n",
       "      <th>3</th>\n",
       "      <td>4</td>\n",
       "      <td>1</td>\n",
       "      <td>1</td>\n",
       "      <td>Futrelle, Mrs. Jacques Heath (Lily May Peel)</td>\n",
       "      <td>female</td>\n",
       "      <td>35.0</td>\n",
       "      <td>1</td>\n",
       "      <td>0</td>\n",
       "      <td>113803</td>\n",
       "      <td>53.1000</td>\n",
       "      <td>C123</td>\n",
       "      <td>S</td>\n",
       "    </tr>\n",
       "    <tr>\n",
       "      <th>4</th>\n",
       "      <td>5</td>\n",
       "      <td>0</td>\n",
       "      <td>3</td>\n",
       "      <td>Allen, Mr. William Henry</td>\n",
       "      <td>male</td>\n",
       "      <td>35.0</td>\n",
       "      <td>0</td>\n",
       "      <td>0</td>\n",
       "      <td>373450</td>\n",
       "      <td>8.0500</td>\n",
       "      <td>NaN</td>\n",
       "      <td>S</td>\n",
       "    </tr>\n",
       "    <tr>\n",
       "      <th>...</th>\n",
       "      <td>...</td>\n",
       "      <td>...</td>\n",
       "      <td>...</td>\n",
       "      <td>...</td>\n",
       "      <td>...</td>\n",
       "      <td>...</td>\n",
       "      <td>...</td>\n",
       "      <td>...</td>\n",
       "      <td>...</td>\n",
       "      <td>...</td>\n",
       "      <td>...</td>\n",
       "      <td>...</td>\n",
       "    </tr>\n",
       "    <tr>\n",
       "      <th>886</th>\n",
       "      <td>887</td>\n",
       "      <td>0</td>\n",
       "      <td>2</td>\n",
       "      <td>Montvila, Rev. Juozas</td>\n",
       "      <td>male</td>\n",
       "      <td>27.0</td>\n",
       "      <td>0</td>\n",
       "      <td>0</td>\n",
       "      <td>211536</td>\n",
       "      <td>13.0000</td>\n",
       "      <td>NaN</td>\n",
       "      <td>S</td>\n",
       "    </tr>\n",
       "    <tr>\n",
       "      <th>887</th>\n",
       "      <td>888</td>\n",
       "      <td>1</td>\n",
       "      <td>1</td>\n",
       "      <td>Graham, Miss. Margaret Edith</td>\n",
       "      <td>female</td>\n",
       "      <td>19.0</td>\n",
       "      <td>0</td>\n",
       "      <td>0</td>\n",
       "      <td>112053</td>\n",
       "      <td>30.0000</td>\n",
       "      <td>B42</td>\n",
       "      <td>S</td>\n",
       "    </tr>\n",
       "    <tr>\n",
       "      <th>888</th>\n",
       "      <td>889</td>\n",
       "      <td>0</td>\n",
       "      <td>3</td>\n",
       "      <td>Johnston, Miss. Catherine Helen \"Carrie\"</td>\n",
       "      <td>female</td>\n",
       "      <td>NaN</td>\n",
       "      <td>1</td>\n",
       "      <td>2</td>\n",
       "      <td>W./C. 6607</td>\n",
       "      <td>23.4500</td>\n",
       "      <td>NaN</td>\n",
       "      <td>S</td>\n",
       "    </tr>\n",
       "    <tr>\n",
       "      <th>889</th>\n",
       "      <td>890</td>\n",
       "      <td>1</td>\n",
       "      <td>1</td>\n",
       "      <td>Behr, Mr. Karl Howell</td>\n",
       "      <td>male</td>\n",
       "      <td>26.0</td>\n",
       "      <td>0</td>\n",
       "      <td>0</td>\n",
       "      <td>111369</td>\n",
       "      <td>30.0000</td>\n",
       "      <td>C148</td>\n",
       "      <td>C</td>\n",
       "    </tr>\n",
       "    <tr>\n",
       "      <th>890</th>\n",
       "      <td>891</td>\n",
       "      <td>0</td>\n",
       "      <td>3</td>\n",
       "      <td>Dooley, Mr. Patrick</td>\n",
       "      <td>male</td>\n",
       "      <td>32.0</td>\n",
       "      <td>0</td>\n",
       "      <td>0</td>\n",
       "      <td>370376</td>\n",
       "      <td>7.7500</td>\n",
       "      <td>NaN</td>\n",
       "      <td>Q</td>\n",
       "    </tr>\n",
       "  </tbody>\n",
       "</table>\n",
       "<p>891 rows × 12 columns</p>\n",
       "</div>"
      ],
      "text/plain": [
       "     PassengerId  Survived  Pclass  \\\n",
       "0              1         0       3   \n",
       "1              2         1       1   \n",
       "2              3         1       3   \n",
       "3              4         1       1   \n",
       "4              5         0       3   \n",
       "..           ...       ...     ...   \n",
       "886          887         0       2   \n",
       "887          888         1       1   \n",
       "888          889         0       3   \n",
       "889          890         1       1   \n",
       "890          891         0       3   \n",
       "\n",
       "                                                  Name     Sex   Age  SibSp  \\\n",
       "0                              Braund, Mr. Owen Harris    male  22.0      1   \n",
       "1    Cumings, Mrs. John Bradley (Florence Briggs Th...  female  38.0      1   \n",
       "2                               Heikkinen, Miss. Laina  female  26.0      0   \n",
       "3         Futrelle, Mrs. Jacques Heath (Lily May Peel)  female  35.0      1   \n",
       "4                             Allen, Mr. William Henry    male  35.0      0   \n",
       "..                                                 ...     ...   ...    ...   \n",
       "886                              Montvila, Rev. Juozas    male  27.0      0   \n",
       "887                       Graham, Miss. Margaret Edith  female  19.0      0   \n",
       "888           Johnston, Miss. Catherine Helen \"Carrie\"  female   NaN      1   \n",
       "889                              Behr, Mr. Karl Howell    male  26.0      0   \n",
       "890                                Dooley, Mr. Patrick    male  32.0      0   \n",
       "\n",
       "     Parch            Ticket     Fare Cabin Embarked  \n",
       "0        0         A/5 21171   7.2500   NaN        S  \n",
       "1        0          PC 17599  71.2833   C85        C  \n",
       "2        0  STON/O2. 3101282   7.9250   NaN        S  \n",
       "3        0            113803  53.1000  C123        S  \n",
       "4        0            373450   8.0500   NaN        S  \n",
       "..     ...               ...      ...   ...      ...  \n",
       "886      0            211536  13.0000   NaN        S  \n",
       "887      0            112053  30.0000   B42        S  \n",
       "888      2        W./C. 6607  23.4500   NaN        S  \n",
       "889      0            111369  30.0000  C148        C  \n",
       "890      0            370376   7.7500   NaN        Q  \n",
       "\n",
       "[891 rows x 12 columns]"
      ]
     },
     "execution_count": 313,
     "metadata": {},
     "output_type": "execute_result"
    }
   ],
   "source": [
    "df"
   ]
  },
  {
   "cell_type": "markdown",
   "id": "746c71d9-a0d4-479e-a91a-bf3c6355cbe4",
   "metadata": {},
   "source": [
    "Perform the following set of tasks on the above mentioned dataset;\r\n",
    "1. How many features have missing values?\r\n",
    "2. Find out what percent of the missing values for each features.\r\n",
    "3. Try removing all the rows from the dataset that contain missing values.\r\n",
    "4. How many rows left after removing missing values?\r\n",
    "5. Find the mean, median and standard deviation value of Fare feature\r\n",
    "6. How many number of male and female were on the ship?\r\n",
    "7. How many number of passengers who were able to survived and not\r\n",
    "survived"
   ]
  },
  {
   "cell_type": "markdown",
   "id": "0eca8a44-1521-4148-854d-0eaf304afaeb",
   "metadata": {},
   "source": [
    "# 1) missing values \n",
    "2 columns have missing values\n",
    "age and cabin"
   ]
  },
  {
   "cell_type": "code",
   "execution_count": 366,
   "id": "176dba64-c07d-44a7-9ea9-8fb5563a1a34",
   "metadata": {},
   "outputs": [
    {
     "data": {
      "text/plain": [
       "PassengerId      0\n",
       "Survived         0\n",
       "Pclass           0\n",
       "Name             0\n",
       "Sex              0\n",
       "Age            174\n",
       "SibSp            0\n",
       "Parch            0\n",
       "Fare             0\n",
       "Cabin          680\n",
       "Embarked         2\n",
       "dtype: int64"
      ]
     },
     "execution_count": 366,
     "metadata": {},
     "output_type": "execute_result"
    }
   ],
   "source": [
    "df.isnull().sum()"
   ]
  },
  {
   "cell_type": "markdown",
   "id": "b140209a-72ff-4119-9649-722d23b9836c",
   "metadata": {},
   "source": [
    "# 2)find out percent for missing values for each feature"
   ]
  },
  {
   "cell_type": "code",
   "execution_count": 371,
   "id": "8f768487-83a3-4b82-aff7-02826811bb12",
   "metadata": {},
   "outputs": [
    {
     "data": {
      "text/plain": [
       "Age\n",
       "24.00    4.225352\n",
       "22.00    3.661972\n",
       "18.00    3.661972\n",
       "19.00    3.521127\n",
       "28.00    3.521127\n",
       "           ...   \n",
       "36.50    0.140845\n",
       "55.50    0.140845\n",
       "0.92     0.140845\n",
       "23.50    0.140845\n",
       "74.00    0.140845\n",
       "Name: proportion, Length: 88, dtype: float64"
      ]
     },
     "execution_count": 371,
     "metadata": {},
     "output_type": "execute_result"
    }
   ],
   "source": [
    "df[\"Age\"].value_counts(normalize=True)*100"
   ]
  },
  {
   "cell_type": "code",
   "execution_count": 363,
   "id": "c047f6b9-b147-443e-8fe0-415959eebafd",
   "metadata": {},
   "outputs": [
    {
     "data": {
      "text/plain": [
       "Cabin\n",
       "B96 B98        1.960784\n",
       "G6             1.960784\n",
       "C23 C25 C27    1.960784\n",
       "C22 C26        1.470588\n",
       "F33            1.470588\n",
       "                 ...   \n",
       "E34            0.490196\n",
       "C7             0.490196\n",
       "C54            0.490196\n",
       "E36            0.490196\n",
       "C148           0.490196\n",
       "Name: proportion, Length: 147, dtype: float64"
      ]
     },
     "execution_count": 363,
     "metadata": {},
     "output_type": "execute_result"
    }
   ],
   "source": [
    "df[\"Cabin\"].value_counts(normalize=True)*100"
   ]
  },
  {
   "cell_type": "markdown",
   "id": "6d2fe88a-aa3c-4b3c-8965-aebc469116f7",
   "metadata": {},
   "source": [
    "# 3) Try removing all the rows from the dataset that contain missing values.\n",
    "##to remove the column\n",
    "#if you want to remove a column axis = 1\n",
    "#to delete a row axis = 0\n",
    "#to make permenant changes add true\n"
   ]
  },
  {
   "cell_type": "code",
   "execution_count": 323,
   "id": "2e3b7da9-8ffc-4a12-a0c7-3af1a377f79d",
   "metadata": {},
   "outputs": [
    {
     "data": {
      "text/html": [
       "<div>\n",
       "<style scoped>\n",
       "    .dataframe tbody tr th:only-of-type {\n",
       "        vertical-align: middle;\n",
       "    }\n",
       "\n",
       "    .dataframe tbody tr th {\n",
       "        vertical-align: top;\n",
       "    }\n",
       "\n",
       "    .dataframe thead th {\n",
       "        text-align: right;\n",
       "    }\n",
       "</style>\n",
       "<table border=\"1\" class=\"dataframe\">\n",
       "  <thead>\n",
       "    <tr style=\"text-align: right;\">\n",
       "      <th></th>\n",
       "      <th>PassengerId</th>\n",
       "      <th>Survived</th>\n",
       "      <th>Pclass</th>\n",
       "      <th>Name</th>\n",
       "      <th>Sex</th>\n",
       "      <th>Age</th>\n",
       "      <th>SibSp</th>\n",
       "      <th>Parch</th>\n",
       "      <th>Fare</th>\n",
       "      <th>Cabin</th>\n",
       "      <th>Embarked</th>\n",
       "    </tr>\n",
       "    <tr>\n",
       "      <th>Ticket</th>\n",
       "      <th></th>\n",
       "      <th></th>\n",
       "      <th></th>\n",
       "      <th></th>\n",
       "      <th></th>\n",
       "      <th></th>\n",
       "      <th></th>\n",
       "      <th></th>\n",
       "      <th></th>\n",
       "      <th></th>\n",
       "      <th></th>\n",
       "    </tr>\n",
       "  </thead>\n",
       "  <tbody>\n",
       "    <tr>\n",
       "      <th>A/5 21171</th>\n",
       "      <td>1</td>\n",
       "      <td>0</td>\n",
       "      <td>3</td>\n",
       "      <td>Braund, Mr. Owen Harris</td>\n",
       "      <td>male</td>\n",
       "      <td>22.0</td>\n",
       "      <td>1</td>\n",
       "      <td>0</td>\n",
       "      <td>7.2500</td>\n",
       "      <td>NaN</td>\n",
       "      <td>S</td>\n",
       "    </tr>\n",
       "    <tr>\n",
       "      <th>PC 17599</th>\n",
       "      <td>2</td>\n",
       "      <td>1</td>\n",
       "      <td>1</td>\n",
       "      <td>Cumings, Mrs. John Bradley (Florence Briggs Th...</td>\n",
       "      <td>female</td>\n",
       "      <td>38.0</td>\n",
       "      <td>1</td>\n",
       "      <td>0</td>\n",
       "      <td>71.2833</td>\n",
       "      <td>C85</td>\n",
       "      <td>C</td>\n",
       "    </tr>\n",
       "    <tr>\n",
       "      <th>STON/O2. 3101282</th>\n",
       "      <td>3</td>\n",
       "      <td>1</td>\n",
       "      <td>3</td>\n",
       "      <td>Heikkinen, Miss. Laina</td>\n",
       "      <td>female</td>\n",
       "      <td>26.0</td>\n",
       "      <td>0</td>\n",
       "      <td>0</td>\n",
       "      <td>7.9250</td>\n",
       "      <td>NaN</td>\n",
       "      <td>S</td>\n",
       "    </tr>\n",
       "    <tr>\n",
       "      <th>113803</th>\n",
       "      <td>4</td>\n",
       "      <td>1</td>\n",
       "      <td>1</td>\n",
       "      <td>Futrelle, Mrs. Jacques Heath (Lily May Peel)</td>\n",
       "      <td>female</td>\n",
       "      <td>35.0</td>\n",
       "      <td>1</td>\n",
       "      <td>0</td>\n",
       "      <td>53.1000</td>\n",
       "      <td>C123</td>\n",
       "      <td>S</td>\n",
       "    </tr>\n",
       "    <tr>\n",
       "      <th>373450</th>\n",
       "      <td>5</td>\n",
       "      <td>0</td>\n",
       "      <td>3</td>\n",
       "      <td>Allen, Mr. William Henry</td>\n",
       "      <td>male</td>\n",
       "      <td>35.0</td>\n",
       "      <td>0</td>\n",
       "      <td>0</td>\n",
       "      <td>8.0500</td>\n",
       "      <td>NaN</td>\n",
       "      <td>S</td>\n",
       "    </tr>\n",
       "    <tr>\n",
       "      <th>...</th>\n",
       "      <td>...</td>\n",
       "      <td>...</td>\n",
       "      <td>...</td>\n",
       "      <td>...</td>\n",
       "      <td>...</td>\n",
       "      <td>...</td>\n",
       "      <td>...</td>\n",
       "      <td>...</td>\n",
       "      <td>...</td>\n",
       "      <td>...</td>\n",
       "      <td>...</td>\n",
       "    </tr>\n",
       "    <tr>\n",
       "      <th>211536</th>\n",
       "      <td>887</td>\n",
       "      <td>0</td>\n",
       "      <td>2</td>\n",
       "      <td>Montvila, Rev. Juozas</td>\n",
       "      <td>male</td>\n",
       "      <td>27.0</td>\n",
       "      <td>0</td>\n",
       "      <td>0</td>\n",
       "      <td>13.0000</td>\n",
       "      <td>NaN</td>\n",
       "      <td>S</td>\n",
       "    </tr>\n",
       "    <tr>\n",
       "      <th>112053</th>\n",
       "      <td>888</td>\n",
       "      <td>1</td>\n",
       "      <td>1</td>\n",
       "      <td>Graham, Miss. Margaret Edith</td>\n",
       "      <td>female</td>\n",
       "      <td>19.0</td>\n",
       "      <td>0</td>\n",
       "      <td>0</td>\n",
       "      <td>30.0000</td>\n",
       "      <td>B42</td>\n",
       "      <td>S</td>\n",
       "    </tr>\n",
       "    <tr>\n",
       "      <th>W./C. 6607</th>\n",
       "      <td>889</td>\n",
       "      <td>0</td>\n",
       "      <td>3</td>\n",
       "      <td>Johnston, Miss. Catherine Helen \"Carrie\"</td>\n",
       "      <td>female</td>\n",
       "      <td>NaN</td>\n",
       "      <td>1</td>\n",
       "      <td>2</td>\n",
       "      <td>23.4500</td>\n",
       "      <td>NaN</td>\n",
       "      <td>S</td>\n",
       "    </tr>\n",
       "    <tr>\n",
       "      <th>111369</th>\n",
       "      <td>890</td>\n",
       "      <td>1</td>\n",
       "      <td>1</td>\n",
       "      <td>Behr, Mr. Karl Howell</td>\n",
       "      <td>male</td>\n",
       "      <td>26.0</td>\n",
       "      <td>0</td>\n",
       "      <td>0</td>\n",
       "      <td>30.0000</td>\n",
       "      <td>C148</td>\n",
       "      <td>C</td>\n",
       "    </tr>\n",
       "    <tr>\n",
       "      <th>370376</th>\n",
       "      <td>891</td>\n",
       "      <td>0</td>\n",
       "      <td>3</td>\n",
       "      <td>Dooley, Mr. Patrick</td>\n",
       "      <td>male</td>\n",
       "      <td>32.0</td>\n",
       "      <td>0</td>\n",
       "      <td>0</td>\n",
       "      <td>7.7500</td>\n",
       "      <td>NaN</td>\n",
       "      <td>Q</td>\n",
       "    </tr>\n",
       "  </tbody>\n",
       "</table>\n",
       "<p>891 rows × 11 columns</p>\n",
       "</div>"
      ],
      "text/plain": [
       "                  PassengerId  Survived  Pclass  \\\n",
       "Ticket                                            \n",
       "A/5 21171                   1         0       3   \n",
       "PC 17599                    2         1       1   \n",
       "STON/O2. 3101282            3         1       3   \n",
       "113803                      4         1       1   \n",
       "373450                      5         0       3   \n",
       "...                       ...       ...     ...   \n",
       "211536                    887         0       2   \n",
       "112053                    888         1       1   \n",
       "W./C. 6607                889         0       3   \n",
       "111369                    890         1       1   \n",
       "370376                    891         0       3   \n",
       "\n",
       "                                                               Name     Sex  \\\n",
       "Ticket                                                                        \n",
       "A/5 21171                                   Braund, Mr. Owen Harris    male   \n",
       "PC 17599          Cumings, Mrs. John Bradley (Florence Briggs Th...  female   \n",
       "STON/O2. 3101282                             Heikkinen, Miss. Laina  female   \n",
       "113803                 Futrelle, Mrs. Jacques Heath (Lily May Peel)  female   \n",
       "373450                                     Allen, Mr. William Henry    male   \n",
       "...                                                             ...     ...   \n",
       "211536                                        Montvila, Rev. Juozas    male   \n",
       "112053                                 Graham, Miss. Margaret Edith  female   \n",
       "W./C. 6607                 Johnston, Miss. Catherine Helen \"Carrie\"  female   \n",
       "111369                                        Behr, Mr. Karl Howell    male   \n",
       "370376                                          Dooley, Mr. Patrick    male   \n",
       "\n",
       "                   Age  SibSp  Parch     Fare Cabin Embarked  \n",
       "Ticket                                                        \n",
       "A/5 21171         22.0      1      0   7.2500   NaN        S  \n",
       "PC 17599          38.0      1      0  71.2833   C85        C  \n",
       "STON/O2. 3101282  26.0      0      0   7.9250   NaN        S  \n",
       "113803            35.0      1      0  53.1000  C123        S  \n",
       "373450            35.0      0      0   8.0500   NaN        S  \n",
       "...                ...    ...    ...      ...   ...      ...  \n",
       "211536            27.0      0      0  13.0000   NaN        S  \n",
       "112053            19.0      0      0  30.0000   B42        S  \n",
       "W./C. 6607         NaN      1      2  23.4500   NaN        S  \n",
       "111369            26.0      0      0  30.0000  C148        C  \n",
       "370376            32.0      0      0   7.7500   NaN        Q  \n",
       "\n",
       "[891 rows x 11 columns]"
      ]
     },
     "execution_count": 323,
     "metadata": {},
     "output_type": "execute_result"
    }
   ],
   "source": [
    "df = df.set_index(\"Ticket\") \n",
    "df"
   ]
  },
  {
   "cell_type": "code",
   "execution_count": 325,
   "id": "d5e37dc5-75d6-4dd0-9c7e-0b3147c4325c",
   "metadata": {},
   "outputs": [],
   "source": [
    "df.drop(\"A/5 21171\", axis=0,inplace=True)"
   ]
  },
  {
   "cell_type": "code",
   "execution_count": 327,
   "id": "9d066955-e88a-48e9-bc16-6c2710162885",
   "metadata": {},
   "outputs": [],
   "source": [
    "df.drop(\"373450\", axis=0,inplace=True)"
   ]
  },
  {
   "cell_type": "code",
   "execution_count": 329,
   "id": "3bd24c0a-f64d-48ca-b514-9b612cecf1ad",
   "metadata": {},
   "outputs": [],
   "source": [
    "df.drop(\"330877\", axis=0,inplace=True)"
   ]
  },
  {
   "cell_type": "code",
   "execution_count": 331,
   "id": "5a5be5cc-8902-4abb-8ae7-0ba03c28994c",
   "metadata": {},
   "outputs": [],
   "source": [
    "df.drop(\"211536\", axis=0,inplace=True)"
   ]
  },
  {
   "cell_type": "code",
   "execution_count": 333,
   "id": "019f9be0-69df-4ae0-b5d4-64fa185ea997",
   "metadata": {},
   "outputs": [],
   "source": [
    "df.drop(\"W./C. 6607\", axis=0,inplace=True)"
   ]
  },
  {
   "cell_type": "code",
   "execution_count": 335,
   "id": "31d69bb5-357c-4ed8-9ad0-7af718073ecb",
   "metadata": {},
   "outputs": [],
   "source": [
    "df.drop(\"370376\", axis=0,inplace=True)"
   ]
  },
  {
   "cell_type": "code",
   "execution_count": 337,
   "id": "295a50c8-dbec-4ca0-8bf6-4ad8907da8cd",
   "metadata": {},
   "outputs": [
    {
     "data": {
      "text/html": [
       "<div>\n",
       "<style scoped>\n",
       "    .dataframe tbody tr th:only-of-type {\n",
       "        vertical-align: middle;\n",
       "    }\n",
       "\n",
       "    .dataframe tbody tr th {\n",
       "        vertical-align: top;\n",
       "    }\n",
       "\n",
       "    .dataframe thead th {\n",
       "        text-align: right;\n",
       "    }\n",
       "</style>\n",
       "<table border=\"1\" class=\"dataframe\">\n",
       "  <thead>\n",
       "    <tr style=\"text-align: right;\">\n",
       "      <th></th>\n",
       "      <th>PassengerId</th>\n",
       "      <th>Survived</th>\n",
       "      <th>Pclass</th>\n",
       "      <th>Name</th>\n",
       "      <th>Sex</th>\n",
       "      <th>Age</th>\n",
       "      <th>SibSp</th>\n",
       "      <th>Parch</th>\n",
       "      <th>Fare</th>\n",
       "      <th>Cabin</th>\n",
       "      <th>Embarked</th>\n",
       "    </tr>\n",
       "    <tr>\n",
       "      <th>Ticket</th>\n",
       "      <th></th>\n",
       "      <th></th>\n",
       "      <th></th>\n",
       "      <th></th>\n",
       "      <th></th>\n",
       "      <th></th>\n",
       "      <th></th>\n",
       "      <th></th>\n",
       "      <th></th>\n",
       "      <th></th>\n",
       "      <th></th>\n",
       "    </tr>\n",
       "  </thead>\n",
       "  <tbody>\n",
       "    <tr>\n",
       "      <th>PC 17599</th>\n",
       "      <td>2</td>\n",
       "      <td>1</td>\n",
       "      <td>1</td>\n",
       "      <td>Cumings, Mrs. John Bradley (Florence Briggs Th...</td>\n",
       "      <td>female</td>\n",
       "      <td>38.0</td>\n",
       "      <td>1</td>\n",
       "      <td>0</td>\n",
       "      <td>71.2833</td>\n",
       "      <td>C85</td>\n",
       "      <td>C</td>\n",
       "    </tr>\n",
       "    <tr>\n",
       "      <th>STON/O2. 3101282</th>\n",
       "      <td>3</td>\n",
       "      <td>1</td>\n",
       "      <td>3</td>\n",
       "      <td>Heikkinen, Miss. Laina</td>\n",
       "      <td>female</td>\n",
       "      <td>26.0</td>\n",
       "      <td>0</td>\n",
       "      <td>0</td>\n",
       "      <td>7.9250</td>\n",
       "      <td>NaN</td>\n",
       "      <td>S</td>\n",
       "    </tr>\n",
       "    <tr>\n",
       "      <th>113803</th>\n",
       "      <td>4</td>\n",
       "      <td>1</td>\n",
       "      <td>1</td>\n",
       "      <td>Futrelle, Mrs. Jacques Heath (Lily May Peel)</td>\n",
       "      <td>female</td>\n",
       "      <td>35.0</td>\n",
       "      <td>1</td>\n",
       "      <td>0</td>\n",
       "      <td>53.1000</td>\n",
       "      <td>C123</td>\n",
       "      <td>S</td>\n",
       "    </tr>\n",
       "    <tr>\n",
       "      <th>17463</th>\n",
       "      <td>7</td>\n",
       "      <td>0</td>\n",
       "      <td>1</td>\n",
       "      <td>McCarthy, Mr. Timothy J</td>\n",
       "      <td>male</td>\n",
       "      <td>54.0</td>\n",
       "      <td>0</td>\n",
       "      <td>0</td>\n",
       "      <td>51.8625</td>\n",
       "      <td>E46</td>\n",
       "      <td>S</td>\n",
       "    </tr>\n",
       "    <tr>\n",
       "      <th>349909</th>\n",
       "      <td>8</td>\n",
       "      <td>0</td>\n",
       "      <td>3</td>\n",
       "      <td>Palsson, Master. Gosta Leonard</td>\n",
       "      <td>male</td>\n",
       "      <td>2.0</td>\n",
       "      <td>3</td>\n",
       "      <td>1</td>\n",
       "      <td>21.0750</td>\n",
       "      <td>NaN</td>\n",
       "      <td>S</td>\n",
       "    </tr>\n",
       "    <tr>\n",
       "      <th>...</th>\n",
       "      <td>...</td>\n",
       "      <td>...</td>\n",
       "      <td>...</td>\n",
       "      <td>...</td>\n",
       "      <td>...</td>\n",
       "      <td>...</td>\n",
       "      <td>...</td>\n",
       "      <td>...</td>\n",
       "      <td>...</td>\n",
       "      <td>...</td>\n",
       "      <td>...</td>\n",
       "    </tr>\n",
       "    <tr>\n",
       "      <th>C.A./SOTON 34068</th>\n",
       "      <td>884</td>\n",
       "      <td>0</td>\n",
       "      <td>2</td>\n",
       "      <td>Banfield, Mr. Frederick James</td>\n",
       "      <td>male</td>\n",
       "      <td>28.0</td>\n",
       "      <td>0</td>\n",
       "      <td>0</td>\n",
       "      <td>10.5000</td>\n",
       "      <td>NaN</td>\n",
       "      <td>S</td>\n",
       "    </tr>\n",
       "    <tr>\n",
       "      <th>SOTON/OQ 392076</th>\n",
       "      <td>885</td>\n",
       "      <td>0</td>\n",
       "      <td>3</td>\n",
       "      <td>Sutehall, Mr. Henry Jr</td>\n",
       "      <td>male</td>\n",
       "      <td>25.0</td>\n",
       "      <td>0</td>\n",
       "      <td>0</td>\n",
       "      <td>7.0500</td>\n",
       "      <td>NaN</td>\n",
       "      <td>S</td>\n",
       "    </tr>\n",
       "    <tr>\n",
       "      <th>382652</th>\n",
       "      <td>886</td>\n",
       "      <td>0</td>\n",
       "      <td>3</td>\n",
       "      <td>Rice, Mrs. William (Margaret Norton)</td>\n",
       "      <td>female</td>\n",
       "      <td>39.0</td>\n",
       "      <td>0</td>\n",
       "      <td>5</td>\n",
       "      <td>29.1250</td>\n",
       "      <td>NaN</td>\n",
       "      <td>Q</td>\n",
       "    </tr>\n",
       "    <tr>\n",
       "      <th>112053</th>\n",
       "      <td>888</td>\n",
       "      <td>1</td>\n",
       "      <td>1</td>\n",
       "      <td>Graham, Miss. Margaret Edith</td>\n",
       "      <td>female</td>\n",
       "      <td>19.0</td>\n",
       "      <td>0</td>\n",
       "      <td>0</td>\n",
       "      <td>30.0000</td>\n",
       "      <td>B42</td>\n",
       "      <td>S</td>\n",
       "    </tr>\n",
       "    <tr>\n",
       "      <th>111369</th>\n",
       "      <td>890</td>\n",
       "      <td>1</td>\n",
       "      <td>1</td>\n",
       "      <td>Behr, Mr. Karl Howell</td>\n",
       "      <td>male</td>\n",
       "      <td>26.0</td>\n",
       "      <td>0</td>\n",
       "      <td>0</td>\n",
       "      <td>30.0000</td>\n",
       "      <td>C148</td>\n",
       "      <td>C</td>\n",
       "    </tr>\n",
       "  </tbody>\n",
       "</table>\n",
       "<p>884 rows × 11 columns</p>\n",
       "</div>"
      ],
      "text/plain": [
       "                  PassengerId  Survived  Pclass  \\\n",
       "Ticket                                            \n",
       "PC 17599                    2         1       1   \n",
       "STON/O2. 3101282            3         1       3   \n",
       "113803                      4         1       1   \n",
       "17463                       7         0       1   \n",
       "349909                      8         0       3   \n",
       "...                       ...       ...     ...   \n",
       "C.A./SOTON 34068          884         0       2   \n",
       "SOTON/OQ 392076           885         0       3   \n",
       "382652                    886         0       3   \n",
       "112053                    888         1       1   \n",
       "111369                    890         1       1   \n",
       "\n",
       "                                                               Name     Sex  \\\n",
       "Ticket                                                                        \n",
       "PC 17599          Cumings, Mrs. John Bradley (Florence Briggs Th...  female   \n",
       "STON/O2. 3101282                             Heikkinen, Miss. Laina  female   \n",
       "113803                 Futrelle, Mrs. Jacques Heath (Lily May Peel)  female   \n",
       "17463                                       McCarthy, Mr. Timothy J    male   \n",
       "349909                               Palsson, Master. Gosta Leonard    male   \n",
       "...                                                             ...     ...   \n",
       "C.A./SOTON 34068                      Banfield, Mr. Frederick James    male   \n",
       "SOTON/OQ 392076                              Sutehall, Mr. Henry Jr    male   \n",
       "382652                         Rice, Mrs. William (Margaret Norton)  female   \n",
       "112053                                 Graham, Miss. Margaret Edith  female   \n",
       "111369                                        Behr, Mr. Karl Howell    male   \n",
       "\n",
       "                   Age  SibSp  Parch     Fare Cabin Embarked  \n",
       "Ticket                                                        \n",
       "PC 17599          38.0      1      0  71.2833   C85        C  \n",
       "STON/O2. 3101282  26.0      0      0   7.9250   NaN        S  \n",
       "113803            35.0      1      0  53.1000  C123        S  \n",
       "17463             54.0      0      0  51.8625   E46        S  \n",
       "349909             2.0      3      1  21.0750   NaN        S  \n",
       "...                ...    ...    ...      ...   ...      ...  \n",
       "C.A./SOTON 34068  28.0      0      0  10.5000   NaN        S  \n",
       "SOTON/OQ 392076   25.0      0      0   7.0500   NaN        S  \n",
       "382652            39.0      0      5  29.1250   NaN        Q  \n",
       "112053            19.0      0      0  30.0000   B42        S  \n",
       "111369            26.0      0      0  30.0000  C148        C  \n",
       "\n",
       "[884 rows x 11 columns]"
      ]
     },
     "execution_count": 337,
     "metadata": {},
     "output_type": "execute_result"
    }
   ],
   "source": [
    "df"
   ]
  },
  {
   "cell_type": "code",
   "execution_count": 339,
   "id": "52eea79c-0873-4e16-9350-fb9dc78072f4",
   "metadata": {},
   "outputs": [],
   "source": [
    "dff = df.add(df,fill_value=0) # to correct NAn use .add function"
   ]
  },
  {
   "cell_type": "code",
   "execution_count": 341,
   "id": "eb2306c4-4254-4abf-907d-1ba798fedc17",
   "metadata": {},
   "outputs": [
    {
     "data": {
      "text/html": [
       "<div>\n",
       "<style scoped>\n",
       "    .dataframe tbody tr th:only-of-type {\n",
       "        vertical-align: middle;\n",
       "    }\n",
       "\n",
       "    .dataframe tbody tr th {\n",
       "        vertical-align: top;\n",
       "    }\n",
       "\n",
       "    .dataframe thead th {\n",
       "        text-align: right;\n",
       "    }\n",
       "</style>\n",
       "<table border=\"1\" class=\"dataframe\">\n",
       "  <thead>\n",
       "    <tr style=\"text-align: right;\">\n",
       "      <th></th>\n",
       "      <th>PassengerId</th>\n",
       "      <th>Survived</th>\n",
       "      <th>Pclass</th>\n",
       "      <th>Name</th>\n",
       "      <th>Sex</th>\n",
       "      <th>Age</th>\n",
       "      <th>SibSp</th>\n",
       "      <th>Parch</th>\n",
       "      <th>Fare</th>\n",
       "      <th>Cabin</th>\n",
       "      <th>Embarked</th>\n",
       "    </tr>\n",
       "    <tr>\n",
       "      <th>Ticket</th>\n",
       "      <th></th>\n",
       "      <th></th>\n",
       "      <th></th>\n",
       "      <th></th>\n",
       "      <th></th>\n",
       "      <th></th>\n",
       "      <th></th>\n",
       "      <th></th>\n",
       "      <th></th>\n",
       "      <th></th>\n",
       "      <th></th>\n",
       "    </tr>\n",
       "  </thead>\n",
       "  <tbody>\n",
       "    <tr>\n",
       "      <th>PC 17599</th>\n",
       "      <td>4</td>\n",
       "      <td>2</td>\n",
       "      <td>2</td>\n",
       "      <td>Cumings, Mrs. John Bradley (Florence Briggs Th...</td>\n",
       "      <td>femalefemale</td>\n",
       "      <td>76.0</td>\n",
       "      <td>2</td>\n",
       "      <td>0</td>\n",
       "      <td>142.5666</td>\n",
       "      <td>C85C85</td>\n",
       "      <td>CC</td>\n",
       "    </tr>\n",
       "    <tr>\n",
       "      <th>STON/O2. 3101282</th>\n",
       "      <td>6</td>\n",
       "      <td>2</td>\n",
       "      <td>6</td>\n",
       "      <td>Heikkinen, Miss. LainaHeikkinen, Miss. Laina</td>\n",
       "      <td>femalefemale</td>\n",
       "      <td>52.0</td>\n",
       "      <td>0</td>\n",
       "      <td>0</td>\n",
       "      <td>15.8500</td>\n",
       "      <td>NaN</td>\n",
       "      <td>SS</td>\n",
       "    </tr>\n",
       "    <tr>\n",
       "      <th>113803</th>\n",
       "      <td>8</td>\n",
       "      <td>2</td>\n",
       "      <td>2</td>\n",
       "      <td>Futrelle, Mrs. Jacques Heath (Lily May Peel)Fu...</td>\n",
       "      <td>femalefemale</td>\n",
       "      <td>70.0</td>\n",
       "      <td>2</td>\n",
       "      <td>0</td>\n",
       "      <td>106.2000</td>\n",
       "      <td>C123C123</td>\n",
       "      <td>SS</td>\n",
       "    </tr>\n",
       "    <tr>\n",
       "      <th>17463</th>\n",
       "      <td>14</td>\n",
       "      <td>0</td>\n",
       "      <td>2</td>\n",
       "      <td>McCarthy, Mr. Timothy JMcCarthy, Mr. Timothy J</td>\n",
       "      <td>malemale</td>\n",
       "      <td>108.0</td>\n",
       "      <td>0</td>\n",
       "      <td>0</td>\n",
       "      <td>103.7250</td>\n",
       "      <td>E46E46</td>\n",
       "      <td>SS</td>\n",
       "    </tr>\n",
       "    <tr>\n",
       "      <th>349909</th>\n",
       "      <td>16</td>\n",
       "      <td>0</td>\n",
       "      <td>6</td>\n",
       "      <td>Palsson, Master. Gosta LeonardPalsson, Master....</td>\n",
       "      <td>malemale</td>\n",
       "      <td>4.0</td>\n",
       "      <td>6</td>\n",
       "      <td>2</td>\n",
       "      <td>42.1500</td>\n",
       "      <td>NaN</td>\n",
       "      <td>SS</td>\n",
       "    </tr>\n",
       "    <tr>\n",
       "      <th>...</th>\n",
       "      <td>...</td>\n",
       "      <td>...</td>\n",
       "      <td>...</td>\n",
       "      <td>...</td>\n",
       "      <td>...</td>\n",
       "      <td>...</td>\n",
       "      <td>...</td>\n",
       "      <td>...</td>\n",
       "      <td>...</td>\n",
       "      <td>...</td>\n",
       "      <td>...</td>\n",
       "    </tr>\n",
       "    <tr>\n",
       "      <th>C.A./SOTON 34068</th>\n",
       "      <td>1768</td>\n",
       "      <td>0</td>\n",
       "      <td>4</td>\n",
       "      <td>Banfield, Mr. Frederick JamesBanfield, Mr. Fre...</td>\n",
       "      <td>malemale</td>\n",
       "      <td>56.0</td>\n",
       "      <td>0</td>\n",
       "      <td>0</td>\n",
       "      <td>21.0000</td>\n",
       "      <td>NaN</td>\n",
       "      <td>SS</td>\n",
       "    </tr>\n",
       "    <tr>\n",
       "      <th>SOTON/OQ 392076</th>\n",
       "      <td>1770</td>\n",
       "      <td>0</td>\n",
       "      <td>6</td>\n",
       "      <td>Sutehall, Mr. Henry JrSutehall, Mr. Henry Jr</td>\n",
       "      <td>malemale</td>\n",
       "      <td>50.0</td>\n",
       "      <td>0</td>\n",
       "      <td>0</td>\n",
       "      <td>14.1000</td>\n",
       "      <td>NaN</td>\n",
       "      <td>SS</td>\n",
       "    </tr>\n",
       "    <tr>\n",
       "      <th>382652</th>\n",
       "      <td>1772</td>\n",
       "      <td>0</td>\n",
       "      <td>6</td>\n",
       "      <td>Rice, Mrs. William (Margaret Norton)Rice, Mrs....</td>\n",
       "      <td>femalefemale</td>\n",
       "      <td>78.0</td>\n",
       "      <td>0</td>\n",
       "      <td>10</td>\n",
       "      <td>58.2500</td>\n",
       "      <td>NaN</td>\n",
       "      <td>QQ</td>\n",
       "    </tr>\n",
       "    <tr>\n",
       "      <th>112053</th>\n",
       "      <td>1776</td>\n",
       "      <td>2</td>\n",
       "      <td>2</td>\n",
       "      <td>Graham, Miss. Margaret EdithGraham, Miss. Marg...</td>\n",
       "      <td>femalefemale</td>\n",
       "      <td>38.0</td>\n",
       "      <td>0</td>\n",
       "      <td>0</td>\n",
       "      <td>60.0000</td>\n",
       "      <td>B42B42</td>\n",
       "      <td>SS</td>\n",
       "    </tr>\n",
       "    <tr>\n",
       "      <th>111369</th>\n",
       "      <td>1780</td>\n",
       "      <td>2</td>\n",
       "      <td>2</td>\n",
       "      <td>Behr, Mr. Karl HowellBehr, Mr. Karl Howell</td>\n",
       "      <td>malemale</td>\n",
       "      <td>52.0</td>\n",
       "      <td>0</td>\n",
       "      <td>0</td>\n",
       "      <td>60.0000</td>\n",
       "      <td>C148C148</td>\n",
       "      <td>CC</td>\n",
       "    </tr>\n",
       "  </tbody>\n",
       "</table>\n",
       "<p>884 rows × 11 columns</p>\n",
       "</div>"
      ],
      "text/plain": [
       "                  PassengerId  Survived  Pclass  \\\n",
       "Ticket                                            \n",
       "PC 17599                    4         2       2   \n",
       "STON/O2. 3101282            6         2       6   \n",
       "113803                      8         2       2   \n",
       "17463                      14         0       2   \n",
       "349909                     16         0       6   \n",
       "...                       ...       ...     ...   \n",
       "C.A./SOTON 34068         1768         0       4   \n",
       "SOTON/OQ 392076          1770         0       6   \n",
       "382652                   1772         0       6   \n",
       "112053                   1776         2       2   \n",
       "111369                   1780         2       2   \n",
       "\n",
       "                                                               Name  \\\n",
       "Ticket                                                                \n",
       "PC 17599          Cumings, Mrs. John Bradley (Florence Briggs Th...   \n",
       "STON/O2. 3101282       Heikkinen, Miss. LainaHeikkinen, Miss. Laina   \n",
       "113803            Futrelle, Mrs. Jacques Heath (Lily May Peel)Fu...   \n",
       "17463                McCarthy, Mr. Timothy JMcCarthy, Mr. Timothy J   \n",
       "349909            Palsson, Master. Gosta LeonardPalsson, Master....   \n",
       "...                                                             ...   \n",
       "C.A./SOTON 34068  Banfield, Mr. Frederick JamesBanfield, Mr. Fre...   \n",
       "SOTON/OQ 392076        Sutehall, Mr. Henry JrSutehall, Mr. Henry Jr   \n",
       "382652            Rice, Mrs. William (Margaret Norton)Rice, Mrs....   \n",
       "112053            Graham, Miss. Margaret EdithGraham, Miss. Marg...   \n",
       "111369                   Behr, Mr. Karl HowellBehr, Mr. Karl Howell   \n",
       "\n",
       "                           Sex    Age  SibSp  Parch      Fare     Cabin  \\\n",
       "Ticket                                                                    \n",
       "PC 17599          femalefemale   76.0      2      0  142.5666    C85C85   \n",
       "STON/O2. 3101282  femalefemale   52.0      0      0   15.8500       NaN   \n",
       "113803            femalefemale   70.0      2      0  106.2000  C123C123   \n",
       "17463                 malemale  108.0      0      0  103.7250    E46E46   \n",
       "349909                malemale    4.0      6      2   42.1500       NaN   \n",
       "...                        ...    ...    ...    ...       ...       ...   \n",
       "C.A./SOTON 34068      malemale   56.0      0      0   21.0000       NaN   \n",
       "SOTON/OQ 392076       malemale   50.0      0      0   14.1000       NaN   \n",
       "382652            femalefemale   78.0      0     10   58.2500       NaN   \n",
       "112053            femalefemale   38.0      0      0   60.0000    B42B42   \n",
       "111369                malemale   52.0      0      0   60.0000  C148C148   \n",
       "\n",
       "                 Embarked  \n",
       "Ticket                     \n",
       "PC 17599               CC  \n",
       "STON/O2. 3101282       SS  \n",
       "113803                 SS  \n",
       "17463                  SS  \n",
       "349909                 SS  \n",
       "...                   ...  \n",
       "C.A./SOTON 34068       SS  \n",
       "SOTON/OQ 392076        SS  \n",
       "382652                 QQ  \n",
       "112053                 SS  \n",
       "111369                 CC  \n",
       "\n",
       "[884 rows x 11 columns]"
      ]
     },
     "execution_count": 341,
     "metadata": {},
     "output_type": "execute_result"
    }
   ],
   "source": [
    "dff"
   ]
  },
  {
   "cell_type": "markdown",
   "id": "3e988069-e2a5-45aa-b7d1-47de391aac5a",
   "metadata": {},
   "source": [
    "## 4) How many rows left after removing missing values?"
   ]
  },
  {
   "cell_type": "code",
   "execution_count": 344,
   "id": "9865229e-8a88-4922-b87e-15a5013505a2",
   "metadata": {},
   "outputs": [
    {
     "data": {
      "text/plain": [
       "(884, 11)"
      ]
     },
     "execution_count": 344,
     "metadata": {},
     "output_type": "execute_result"
    }
   ],
   "source": [
    "df.shape"
   ]
  },
  {
   "cell_type": "markdown",
   "id": "5ce7fd0a-773a-4da2-9d1c-c2ab7cd10af2",
   "metadata": {},
   "source": [
    "## 5) Find the mean, median and standard deviation value of Fare feature"
   ]
  },
  {
   "cell_type": "code",
   "execution_count": 347,
   "id": "36e7f458-e692-4dd6-bd7b-9dd03fc7fd8a",
   "metadata": {},
   "outputs": [
    {
     "name": "stdout",
     "output_type": "stream",
     "text": [
      "mean: 32.35581561085973\n"
     ]
    }
   ],
   "source": [
    "print(\"mean:\",df[\"Fare\"].mean())"
   ]
  },
  {
   "cell_type": "code",
   "execution_count": 349,
   "id": "b3584634-b0cf-4652-ab41-d433faf02473",
   "metadata": {},
   "outputs": [
    {
     "name": "stdout",
     "output_type": "stream",
     "text": [
      "median: 14.45625\n"
     ]
    }
   ],
   "source": [
    "print(\"median:\",df[\"Fare\"].median())"
   ]
  },
  {
   "cell_type": "code",
   "execution_count": 351,
   "id": "997841ba-0977-4faf-a5b9-fc023f5bedb9",
   "metadata": {},
   "outputs": [
    {
     "name": "stdout",
     "output_type": "stream",
     "text": [
      "standard deviation: 49.85696852837724\n"
     ]
    }
   ],
   "source": [
    "print(\"standard deviation:\", df[\"Fare\"].std())"
   ]
  },
  {
   "cell_type": "markdown",
   "id": "4bade95e-8d12-4487-b2b5-7fb3754d1307",
   "metadata": {},
   "source": [
    "# 6) How many number of male and female were on the ship?"
   ]
  },
  {
   "cell_type": "code",
   "execution_count": 354,
   "id": "3de0b3ac-c531-402a-abe6-18172c4f0a3f",
   "metadata": {},
   "outputs": [
    {
     "data": {
      "text/plain": [
       "Sex\n",
       "male      571\n",
       "female    313\n",
       "Name: count, dtype: int64"
      ]
     },
     "execution_count": 354,
     "metadata": {},
     "output_type": "execute_result"
    }
   ],
   "source": [
    "\n",
    "df[\"Sex\"].value_counts()\n",
    "# to check the ratio "
   ]
  },
  {
   "cell_type": "code",
   "execution_count": 356,
   "id": "fb6c9d9b-ce3d-4d7d-a06f-dca9ec9fb5b4",
   "metadata": {},
   "outputs": [
    {
     "data": {
      "text/plain": [
       "Sex\n",
       "male      64.59276\n",
       "female    35.40724\n",
       "Name: proportion, dtype: float64"
      ]
     },
     "execution_count": 356,
     "metadata": {},
     "output_type": "execute_result"
    }
   ],
   "source": [
    "df[\"Sex\"].value_counts(normalize=True)*100\n",
    "# tells the ratio in percentage"
   ]
  },
  {
   "cell_type": "markdown",
   "id": "7856d640-ac71-4fc5-821e-30fadfdecb13",
   "metadata": {},
   "source": [
    "## 7. How many number of passengers who were able to survived and not survived"
   ]
  },
  {
   "cell_type": "code",
   "execution_count": 359,
   "id": "148944e9-575f-416e-8864-4be8831f982b",
   "metadata": {},
   "outputs": [
    {
     "data": {
      "text/plain": [
       "Survived\n",
       "0    542\n",
       "1    342\n",
       "Name: count, dtype: int64"
      ]
     },
     "execution_count": 359,
     "metadata": {},
     "output_type": "execute_result"
    }
   ],
   "source": [
    "df[\"Survived\"].value_counts()"
   ]
  },
  {
   "cell_type": "code",
   "execution_count": null,
   "id": "f9746bbc-b4bb-45eb-b927-30e3ef1159e1",
   "metadata": {},
   "outputs": [],
   "source": []
  },
  {
   "cell_type": "code",
   "execution_count": null,
   "id": "f23ba702-4438-449e-bb1d-506bffd318bc",
   "metadata": {},
   "outputs": [],
   "source": []
  },
  {
   "cell_type": "code",
   "execution_count": null,
   "id": "131a3b21-7270-4a5a-8e0a-0596fc118d23",
   "metadata": {},
   "outputs": [],
   "source": []
  }
 ],
 "metadata": {
  "kernelspec": {
   "display_name": "Python 3 (ipykernel)",
   "language": "python",
   "name": "python3"
  },
  "language_info": {
   "codemirror_mode": {
    "name": "ipython",
    "version": 3
   },
   "file_extension": ".py",
   "mimetype": "text/x-python",
   "name": "python",
   "nbconvert_exporter": "python",
   "pygments_lexer": "ipython3",
   "version": "3.12.4"
  }
 },
 "nbformat": 4,
 "nbformat_minor": 5
}
