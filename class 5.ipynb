{
 "cells": [
  {
   "cell_type": "code",
   "execution_count": 9,
   "id": "109bac0c-5479-4144-af36-fb1c79551687",
   "metadata": {},
   "outputs": [
    {
     "name": "stdin",
     "output_type": "stream",
     "text": [
      "enter any day: monday\n"
     ]
    },
    {
     "name": "stdout",
     "output_type": "stream",
     "text": [
      "it is a working day\n"
     ]
    }
   ],
   "source": [
    "day = input(\"enter any day:\")\n",
    "\n",
    "if(day == \"saturday\" or day == \"sunday\"):\n",
    "    print(\"its a holiday\")\n",
    "else:\n",
    "    print(\"it is a working day\")"
   ]
  },
  {
   "cell_type": "code",
   "execution_count": 19,
   "id": "50045cd1-0488-4794-8a6a-67408ba8e143",
   "metadata": {},
   "outputs": [
    {
     "name": "stdin",
     "output_type": "stream",
     "text": [
      "enter any alphabet: z\n"
     ]
    },
    {
     "name": "stdout",
     "output_type": "stream",
     "text": [
      "Given alphabet is a consonant\n"
     ]
    }
   ],
   "source": [
    "# task take user input vowel or consonant \n",
    "# for eg. a ----- vowel\n",
    "# for eg. b ----- consonant\n",
    "\n",
    "alphabet = input(\"enter any alphabet:\")\n",
    "if(alphabet == \"a\" or alphabet == \"e\" or alphabet == \"i\" or alphabet == \"o\" or alphabet == \"u\"):\n",
    "    print(\"\\nGiven alphabet is a vowel\")\n",
    "else:\n",
    "    print(\"Given alphabet is a consonant\")\n",
    "    "
   ]
  },
  {
   "cell_type": "code",
   "execution_count": 5,
   "id": "6f9822b0-2e05-4315-823b-6968517bc85b",
   "metadata": {},
   "outputs": [
    {
     "name": "stdin",
     "output_type": "stream",
     "text": [
      "Enter your percentage: 60\n",
      "Enter aptitude percentage: 47\n"
     ]
    },
    {
     "name": "stdout",
     "output_type": "stream",
     "text": [
      "you are not eligible for BSCS\n"
     ]
    }
   ],
   "source": [
    "# inter percentage 60  or more\n",
    "# aptitude % 50 or more\n",
    "\n",
    "inter = float(input(\"Enter your percentage:\"))\n",
    "aptitude = float(input(\"Enter aptitude percentage:\"))\n",
    "\n",
    "if(inter >= 60 and aptitude >= 50):\n",
    "    print(\"you are eligible for BSCS\")\n",
    "else:\n",
    "    print(\"you are not eligible for BSCS\")\n"
   ]
  },
  {
   "cell_type": "code",
   "execution_count": 9,
   "id": "a218b71f-e3d8-4b17-add6-4790c0392006",
   "metadata": {},
   "outputs": [
    {
     "name": "stdin",
     "output_type": "stream",
     "text": [
      "Enter your username: coupshan95\n",
      "Enter your password: seventeen1234\n"
     ]
    },
    {
     "name": "stdout",
     "output_type": "stream",
     "text": [
      "invalid username or password\n"
     ]
    }
   ],
   "source": [
    "## you need to take two inputs from user \n",
    "# username\n",
    "#3 second input password\n",
    "# if condition satisfied print welcom mr -----\n",
    "# if false print invalid username or password\n",
    "\n",
    "user = input(\"Enter your username:\")\n",
    "passw = input(\"Enter your password:\")\n",
    "\n",
    "if(user == \"wonurideul97\" and passw == \"seventeen1234\"):\n",
    "    print(\"welcome, wonurideul97!\")\n",
    "\n",
    "else:\n",
    "    print(\"invalid username or password\")"
   ]
  },
  {
   "cell_type": "code",
   "execution_count": 21,
   "id": "17e3a80f-ee86-4c7c-98cc-ddea6c6eb3f9",
   "metadata": {},
   "outputs": [
    {
     "name": "stdin",
     "output_type": "stream",
     "text": [
      "Enter any positive number : -6\n"
     ]
    },
    {
     "name": "stdout",
     "output_type": "stream",
     "text": [
      "\n",
      "Only positive numbers are allowed\n"
     ]
    }
   ],
   "source": [
    "num = int(input(\"Enter any positive number :\"))\n",
    "\n",
    "if(num >= 0):\n",
    "    if(num%2 == 0): #inner if(nested if statement)\n",
    "        print(num,\"is even number\")\n",
    "    else:\n",
    "        print(num,\" is odd\")\n",
    "\n",
    "else: #this else statement is associated with the first(outer) if statemnet)\n",
    "    print(\"\\nOnly positive numbers are allowed\")\n",
    "    "
   ]
  },
  {
   "cell_type": "code",
   "execution_count": 35,
   "id": "5f11078e-b1e5-400a-b49b-38bf9555c593",
   "metadata": {},
   "outputs": [
    {
     "name": "stdin",
     "output_type": "stream",
     "text": [
      "Enter your username: wonurideul97\n",
      "Enter your password: seventeen1234\n",
      "Enter your 4 digit OTP: 2345\n"
     ]
    },
    {
     "name": "stdout",
     "output_type": "stream",
     "text": [
      "invalid OTP\n"
     ]
    }
   ],
   "source": [
    "# task  a program that takes otp username and password as an input and\n",
    "#if it matches than display the welcome message, otherwise display the error\n",
    "#if username and password are wrong \"isername or password is invalid\n",
    "#if otp is wrong then display error invalid otp\n",
    "\n",
    "username = input(\"Enter your username:\")\n",
    "passw = input(\"Enter your password:\")\n",
    "otp = int(input(\"Enter your 4 digit OTP:\"))\n",
    "\n",
    "if(username == \"wonurideul97\" and passw == \"seventeen1234\"):\n",
    "    if(otp ==3456):\n",
    "        print(\"welcome,wonurideul97\")\n",
    "    else:\n",
    "        print(\"invalid OTP\")\n",
    "else:\n",
    "    print(\"invalid username or password\")"
   ]
  },
  {
   "cell_type": "code",
   "execution_count": 41,
   "id": "e71a4324-2a5a-4572-bad5-83824e029805",
   "metadata": {},
   "outputs": [
    {
     "name": "stdin",
     "output_type": "stream",
     "text": [
      "Enter any number: 0\n"
     ]
    },
    {
     "name": "stdout",
     "output_type": "stream",
     "text": [
      "0 is zero\n"
     ]
    }
   ],
   "source": [
    "## 10, -10, 0,\n",
    "\n",
    "num = int(input(\"Enter any number:\"))\n",
    "\n",
    "if(num > 0):\n",
    "    print(num, \"is positive\")\n",
    "elif(num == 0):\n",
    "    print(num, \"is zero\")\n",
    "else:\n",
    "    print(num,\"is negative\")"
   ]
  },
  {
   "cell_type": "code",
   "execution_count": 47,
   "id": "57032548-fa57-47f5-9a6b-02230adb8f91",
   "metadata": {},
   "outputs": [
    {
     "name": "stdin",
     "output_type": "stream",
     "text": [
      "Enter maths marks: 65\n",
      "Enter biology marks: 45\n",
      "Enter english marks: 34\n",
      "Enter chemistry marks: 56\n",
      "Enter physics marks: 76\n"
     ]
    },
    {
     "name": "stdout",
     "output_type": "stream",
     "text": [
      "C grade\n",
      "\n",
      "final grade is : FAIL\n",
      "\n",
      "Obtained Marks: 276.0\n",
      "\n",
      "Percentage: 55.2\n"
     ]
    }
   ],
   "source": [
    "# w1rite a program to input 5 subjects marks, calculate % and grade according to the following\n",
    "\n",
    "# 80-89 : A1\n",
    "##70-79;A\n",
    "##60-69 ; B\n",
    "##50-59; C\n",
    "##40-49 ; D\n",
    "####BELOW 40 ; F\n",
    "# if student is fail in one subject then final grade will be fail\n",
    "\n",
    "\n",
    "maths = float(input(\"Enter maths marks:\"))\n",
    "bio = float(input(\"Enter biology marks:\"))\n",
    "eng = float(input(\"Enter english marks:\"))\n",
    "chem = float(input(\"Enter chemistry marks:\"))\n",
    "phy = float(input(\"Enter physics marks:\"))\n",
    "\n",
    "obtained = maths+bio+eng+chem+phy\n",
    "per = obtained/500 * 100\n",
    "\n",
    "if(per >= 80 and per <= 100):\n",
    "    print(\"A1 grade\")\n",
    "elif(per >= 70 and per <= 79):\n",
    "    print(\"A grade\")\n",
    "elif(per >= 60 and per <= 69):\n",
    "    print(\"B grade\")\n",
    "elif(per >= 50 and per <= 59):\n",
    "    print(\"C grade\")\n",
    "elif(per >= 40 and per <= 49):\n",
    "    print(\"D grade\")\n",
    "if(maths < 40 or eng < 40 or chem < 40 or bio < 40 or phy < 40):\n",
    "    print(\"\\nfinal grade is : FAIL\")\n",
    "\n",
    "print(\"\\nObtained Marks:\", obtained)\n",
    "print(\"\\nPercentage:\", per)"
   ]
  },
  {
   "cell_type": "code",
   "execution_count": null,
   "id": "38e45fc9-40f7-4f50-875d-3b5699f9b396",
   "metadata": {},
   "outputs": [],
   "source": []
  }
 ],
 "metadata": {
  "kernelspec": {
   "display_name": "Python 3 (ipykernel)",
   "language": "python",
   "name": "python3"
  },
  "language_info": {
   "codemirror_mode": {
    "name": "ipython",
    "version": 3
   },
   "file_extension": ".py",
   "mimetype": "text/x-python",
   "name": "python",
   "nbconvert_exporter": "python",
   "pygments_lexer": "ipython3",
   "version": "3.12.4"
  }
 },
 "nbformat": 4,
 "nbformat_minor": 5
}
