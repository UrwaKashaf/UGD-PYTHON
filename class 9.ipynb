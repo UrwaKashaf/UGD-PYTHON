{
 "cells": [
  {
   "cell_type": "markdown",
   "id": "2e067c34-5b35-4a5f-b08b-12e4dda3bef3",
   "metadata": {},
   "source": [
    "## NESTED LOOPS"
   ]
  },
  {
   "cell_type": "code",
   "execution_count": 16,
   "id": "73f23625-9670-4fcb-a53b-14141a8c50ef",
   "metadata": {},
   "outputs": [
    {
     "name": "stdout",
     "output_type": "stream",
     "text": [
      "0 0 0 0 0 \n",
      "0 1 2 3 4 \n",
      "0 2 4 6 8 \n",
      "0 3 6 9 12 \n",
      "0 4 8 12 16 \n"
     ]
    }
   ],
   "source": [
    "for i in range(5):\n",
    "    for r in range(5):\n",
    "        print(i*r, end=\" \")\n",
    "    print()"
   ]
  },
  {
   "cell_type": "code",
   "execution_count": 12,
   "id": "dce23c77-56c1-4787-8899-8c567c733795",
   "metadata": {},
   "outputs": [
    {
     "name": "stdout",
     "output_type": "stream",
     "text": [
      "rohail  qamar\n"
     ]
    }
   ],
   "source": [
    "print(\"rohail\", end=\"  \")\n",
    "print(\"qamar\")"
   ]
  },
  {
   "cell_type": "code",
   "execution_count": 20,
   "id": "2182c521-70ee-4439-83c1-970a798df0b7",
   "metadata": {},
   "outputs": [
    {
     "name": "stdout",
     "output_type": "stream",
     "text": [
      "0 0 0 0 0 \n",
      "0 1 2 3 4 \n",
      "0 2 4 6 8 \n",
      "0 3 6 9 12 \n",
      "0 4 8 12 16 \n"
     ]
    }
   ],
   "source": [
    "i = 0\n",
    "while(i<5):\n",
    "    k= 0\n",
    "    while(k<5):\n",
    "        print(i*k, end= \" \")\n",
    "        k = k+1\n",
    "    print()\n",
    "    i = i+1\n",
    "\n",
    "# inner loop condition flase will increment outer loops if outer loop's condition is false the whole nested loop will be terminated"
   ]
  },
  {
   "cell_type": "code",
   "execution_count": null,
   "id": "029aa96f-5ac1-4019-8971-137834e2babf",
   "metadata": {},
   "outputs": [],
   "source": [
    "*\n",
    "**\n",
    "***\n",
    "****\n",
    "*****\n",
    "\n",
    "#outer loop is used to itetate for coloumn\n",
    "    #inner lopp for row"
   ]
  },
  {
   "cell_type": "code",
   "execution_count": 38,
   "id": "6bed690c-0ea8-4b94-b9c1-fe0d2797ac59",
   "metadata": {},
   "outputs": [
    {
     "name": "stdout",
     "output_type": "stream",
     "text": [
      "* \n",
      "* * \n",
      "* * * \n",
      "* * * * \n",
      "* * * * * \n"
     ]
    }
   ],
   "source": [
    "for i in range(1,6):\n",
    "    for k in range(1,i+1):\n",
    "        print(\"*\",end= \" \")\n",
    "    print()"
   ]
  },
  {
   "cell_type": "code",
   "execution_count": 54,
   "id": "1e38a46a-8f50-4708-9888-0c1028c92e07",
   "metadata": {},
   "outputs": [
    {
     "name": "stdout",
     "output_type": "stream",
     "text": [
      "* \n",
      "* * \n",
      "* * * \n",
      "* * * * \n",
      "* * * * * \n",
      "* * * * * \n",
      "* * * * \n",
      "* * * \n",
      "* * \n",
      "* \n"
     ]
    }
   ],
   "source": [
    "for r in range(1,6):\n",
    "    for c in range(1,r+1):\n",
    "        print(\"*\", end=\" \")\n",
    "    print()\n",
    "for r in range(5,0,-1):\n",
    "    for c in range(r, 0, -1):\n",
    "        print(\"*\", end=\" \")\n",
    "    print()"
   ]
  },
  {
   "cell_type": "code",
   "execution_count": 60,
   "id": "5eeb8e09-9686-495c-8759-78c5e551b6d0",
   "metadata": {},
   "outputs": [
    {
     "name": "stdout",
     "output_type": "stream",
     "text": [
      "1 \n",
      "1 2 \n",
      "1 2 3 \n",
      "1 2 3 4 \n",
      "1 2 3 4 5 \n"
     ]
    }
   ],
   "source": [
    "for i in range(1,6):\n",
    "    for r in range(1, i + 1):\n",
    "        print(r, end=\" \")\n",
    "    print()"
   ]
  },
  {
   "cell_type": "code",
   "execution_count": 70,
   "id": "a592394d-78a7-4bf1-9da7-d232d65c7b07",
   "metadata": {},
   "outputs": [
    {
     "name": "stdout",
     "output_type": "stream",
     "text": [
      "1 \n",
      "1 2 \n",
      "1 2 3 \n",
      "1 2 3 4 \n",
      "1 2 3 4 5 \n",
      "4 3 2 1 \n",
      "3 2 1 \n",
      "2 1 \n",
      "1 \n"
     ]
    }
   ],
   "source": [
    "for i in range(1,6):\n",
    "    for r in range(1, i+1):\n",
    "        print(r, end=\" \")\n",
    "    print()\n",
    "for i in range(4, 0, -1):\n",
    "    for r in range(i, 0, -1):\n",
    "        print(r, end=\" \")\n",
    "    print()"
   ]
  },
  {
   "cell_type": "code",
   "execution_count": 72,
   "id": "3f4834ff-28a0-49dd-b96b-89ed7ec08e5a",
   "metadata": {},
   "outputs": [
    {
     "name": "stdout",
     "output_type": "stream",
     "text": [
      "the sum of first 1-10 numbers are: 55\n"
     ]
    }
   ],
   "source": [
    "sum = 0\n",
    "for i in range(1,11):\n",
    "    sum = sum + i\n",
    "print(\"the sum of first 1-10 numbers are:\", sum)"
   ]
  },
  {
   "cell_type": "code",
   "execution_count": 80,
   "id": "09c344ec-2826-4ffb-8116-da44c84b4c2b",
   "metadata": {},
   "outputs": [
    {
     "name": "stdin",
     "output_type": "stream",
     "text": [
      "enter start range: 1\n",
      "emter end range: 50\n"
     ]
    },
    {
     "name": "stdout",
     "output_type": "stream",
     "text": [
      "1275\n"
     ]
    }
   ],
   "source": [
    "start = int(input(\"enter start range:\"))\n",
    "end = int(input(\"emter end range:\"))\n",
    "sum_odd = 0\n",
    "for i in range(start, end+1):\n",
    "    if(start % 2 != 0):\n",
    "        sum_odd = sum_odd + i\n",
    "print(sum_odd)"
   ]
  },
  {
   "cell_type": "code",
   "execution_count": null,
   "id": "7efb8701-d33d-402b-ba4b-fb7f77bbab83",
   "metadata": {},
   "outputs": [],
   "source": [
    "# task 2\n",
    "# task take user input starting range and ending for eg 1-5\n",
    "\n",
    "start = int(input(\"enter start range:\"))\n",
    "end = int(input(\"enter start range:\"))\n",
    "for i in range(start, end + 1):\n",
    "    for c in ra\n",
    "    \n"
   ]
  }
 ],
 "metadata": {
  "kernelspec": {
   "display_name": "Python 3 (ipykernel)",
   "language": "python",
   "name": "python3"
  },
  "language_info": {
   "codemirror_mode": {
    "name": "ipython",
    "version": 3
   },
   "file_extension": ".py",
   "mimetype": "text/x-python",
   "name": "python",
   "nbconvert_exporter": "python",
   "pygments_lexer": "ipython3",
   "version": "3.12.4"
  }
 },
 "nbformat": 4,
 "nbformat_minor": 5
}
