{
 "cells": [
  {
   "cell_type": "code",
   "execution_count": 1,
   "id": "1a1dd5e6-9c62-4ef4-95f2-5f125ebe5779",
   "metadata": {},
   "outputs": [
    {
     "name": "stdout",
     "output_type": "stream",
     "text": [
      "my name is urwah\n"
     ]
    }
   ],
   "source": [
    " #string data type abc special @%$\n",
    "print(\"my name is urwah\")"
   ]
  },
  {
   "cell_type": "code",
   "execution_count": 5,
   "id": "a4106b32-0ed0-44e0-9dda-59b4c7a5a234",
   "metadata": {},
   "outputs": [
    {
     "name": "stdout",
     "output_type": "stream",
     "text": [
      "my name is urwah\n",
      "i am a student at ned\n",
      "i have two brothers\n"
     ]
    }
   ],
   "source": [
    "print(\"my name is urwah\")\n",
    "print(\"i am a student at ned\")\n",
    "print(\"i have two brothers\")"
   ]
  },
  {
   "cell_type": "code",
   "execution_count": 1,
   "id": "69db9fe3-1361-489f-9891-0ac1ffbec5bb",
   "metadata": {},
   "outputs": [
    {
     "name": "stdout",
     "output_type": "stream",
     "text": [
      "the cat says \"meow\" \n",
      "my name says \"urwah\" \n",
      "\"cat\" is an animal\n"
     ]
    }
   ],
   "source": [
    "print(\"the cat says \\\"meow\\\" \")\n",
    "print(\"my name says \\\"urwah\\\" \")\n",
    "print(\"\\\"cat\\\" is an animal\")"
   ]
  },
  {
   "cell_type": "code",
   "execution_count": null,
   "id": "e694009a-52a9-470d-bed5-95bea666066b",
   "metadata": {},
   "outputs": [],
   "source": [
    "# is used to comment on the code to hide from the python\n",
    "# so it cannot be executed\n",
    "# using ctrl * /"
   ]
  },
  {
   "cell_type": "code",
   "execution_count": 11,
   "id": "989dba4c-242e-4d59-97ab-d669e41ef690",
   "metadata": {},
   "outputs": [
    {
     "name": "stdout",
     "output_type": "stream",
     "text": [
      "the cat says \\meow\\ \n",
      "urwah is \\urwah\\\n"
     ]
    }
   ],
   "source": [
    "print(\"the cat says \\\\meow\\\\ \")\n",
    "print(\"urwah is \\\\urwah\\\\\")"
   ]
  },
  {
   "cell_type": "code",
   "execution_count": 11,
   "id": "cbbae855-04c6-4426-8747-d337cce550e3",
   "metadata": {},
   "outputs": [
    {
     "name": "stdout",
     "output_type": "stream",
     "text": [
      "25\n"
     ]
    }
   ],
   "source": [
    "print(25) #interger data type"
   ]
  },
  {
   "cell_type": "code",
   "execution_count": 13,
   "id": "363e8156-34cc-464b-b299-ef23e79f4e67",
   "metadata": {},
   "outputs": [
    {
     "name": "stdout",
     "output_type": "stream",
     "text": [
      "9.8\n"
     ]
    }
   ],
   "source": [
    "print(9.8) #float data type "
   ]
  },
  {
   "cell_type": "code",
   "execution_count": 3,
   "id": "6bdd7d0a-b3da-428a-a071-5aea16134166",
   "metadata": {},
   "outputs": [
    {
     "name": "stdout",
     "output_type": "stream",
     "text": [
      "student name: Urwah\n"
     ]
    }
   ],
   "source": [
    "# print student\\ bname,\n",
    "# age\n",
    "# height\n",
    "\n",
    "print(\"student name: Urwah\")\n"
   ]
  },
  {
   "cell_type": "code",
   "execution_count": 7,
   "id": "7e7ce92c-3c41-4d98-ab2b-135af673a274",
   "metadata": {},
   "outputs": [
    {
     "name": "stdout",
     "output_type": "stream",
     "text": [
      "your balance is: 3300\n",
      "your percentage: 62.27\n"
     ]
    }
   ],
   "source": [
    "print(\"your balance is:\",3300)\n",
    "print(\"your percentage:\", 62.27)\n"
   ]
  },
  {
   "cell_type": "code",
   "execution_count": 21,
   "id": "d7e3e466-7b45-46ef-b41f-e42d63e68d6f",
   "metadata": {},
   "outputs": [
    {
     "name": "stdout",
     "output_type": "stream",
     "text": [
      "my name is Urwah\n",
      "my cgpa is: 4.0\n",
      "my height is probably: 5\n"
     ]
    }
   ],
   "source": [
    "# print your name< your cgpa, and your height\n",
    "\n",
    "print(\"my name is Urwah\")\n",
    "print(\"my cgpa is:\",4.0)\n",
    "print(\"my height is probably:\",5)"
   ]
  },
  {
   "cell_type": "code",
   "execution_count": 23,
   "id": "d38ed08a-a646-4582-807d-a0d2ef17fcd0",
   "metadata": {},
   "outputs": [
    {
     "name": "stdout",
     "output_type": "stream",
     "text": [
      "22\n",
      "your balance is: 1000\n"
     ]
    }
   ],
   "source": [
    "# data types\n",
    "\n",
    "#string : a data that contains any alpha numeric data such as (abc) (@#$%), (12311223)\n",
    "# string example : email : khattakurwah5@gmail.com\n",
    "#string : URWA KASHAF, 18-12-2006\n",
    "\n",
    "# INTEGER : 22, 10000, 50, 1, -5, -10\n",
    "\n",
    "print(22)\n",
    "print(\"your balance is:\", 1000)"
   ]
  },
  {
   "cell_type": "code",
   "execution_count": 25,
   "id": "6bb1c7f9-c0f7-4ade-a810-f762c87d257f",
   "metadata": {},
   "outputs": [
    {
     "name": "stdout",
     "output_type": "stream",
     "text": [
      "88.09\n"
     ]
    }
   ],
   "source": [
    "#data type : float : 9.8, 7.8, 44.33\n",
    "print(88.09)"
   ]
  },
  {
   "cell_type": "code",
   "execution_count": 29,
   "id": "ddf7fe13-63a8-4c56-a916-c969d4ffaef6",
   "metadata": {},
   "outputs": [
    {
     "name": "stdout",
     "output_type": "stream",
     "text": [
      "True\n",
      "False\n"
     ]
    }
   ],
   "source": [
    "# boolean : true (1), false (0)\n",
    "#T and F will b capital\n",
    "\n",
    "print(True)\n",
    "print(False)"
   ]
  },
  {
   "cell_type": "code",
   "execution_count": 31,
   "id": "49df2e11-85bd-4d7a-88eb-9aed10438e03",
   "metadata": {},
   "outputs": [
    {
     "name": "stdout",
     "output_type": "stream",
     "text": [
      "1\n"
     ]
    }
   ],
   "source": [
    "print(1)"
   ]
  },
  {
   "cell_type": "code",
   "execution_count": 33,
   "id": "3c9188fc-4db5-4f4b-92bf-5539f4010560",
   "metadata": {},
   "outputs": [
    {
     "name": "stdout",
     "output_type": "stream",
     "text": [
      "0\n"
     ]
    }
   ],
   "source": [
    "print(0)"
   ]
  },
  {
   "cell_type": "code",
   "execution_count": 35,
   "id": "e484e5f3-16fa-4f95-b57b-405e6810573a",
   "metadata": {},
   "outputs": [],
   "source": [
    "#1 and 0 means true and false in binary language or machine languagge"
   ]
  },
  {
   "cell_type": "code",
   "execution_count": 37,
   "id": "311a9838-0d9b-43cf-88b2-b7b9cfbd5c3a",
   "metadata": {},
   "outputs": [
    {
     "name": "stdout",
     "output_type": "stream",
     "text": [
      "1.0\n"
     ]
    }
   ],
   "source": [
    "print(1.0)"
   ]
  },
  {
   "cell_type": "code",
   "execution_count": 39,
   "id": "34fcf843-b9ed-47ad-a7aa-8e162e2381c1",
   "metadata": {},
   "outputs": [
    {
     "name": "stdout",
     "output_type": "stream",
     "text": [
      "student name: urwah kashaf\n",
      "roll number: 10098\n",
      "age: 18\n",
      "grade: A1\n",
      "female: True\n"
     ]
    }
   ],
   "source": [
    "# variables : is a container to store the data\n",
    "# data such as float, int, etc\n",
    "\n",
    "std_name = \"urwah kashaf\"\n",
    "roll_num = 10098\n",
    "age = 18\n",
    "grade = \"A1\"\n",
    "is_female = True \n",
    "\n",
    "print(\"student name:\", std_name)\n",
    "print(\"roll number:\", roll_num)\n",
    "print(\"age:\", age)\n",
    "print(\"grade:\", grade)\n",
    "print(\"female:\", is_female)\n"
   ]
  },
  {
   "cell_type": "code",
   "execution_count": 43,
   "id": "26185f77-affa-4d39-99f0-8d2a24440c4b",
   "metadata": {},
   "outputs": [
    {
     "name": "stdout",
     "output_type": "stream",
     "text": [
      "Name of Student: Urwa Kashaf\n",
      "Age: 18\n",
      "Email: khattakurwah5@gmail.com\n",
      "Account Balance: 43000 PKR\n",
      "Student Address: Al-raheem apartments, nagan chowrangi\n"
     ]
    }
   ],
   "source": [
    "#task to save three places of information\n",
    "# email, acc balance, address, student, age\n",
    "\n",
    "email = \"khattakurwah5@gmail.com\"\n",
    "acc_bal = 43000\n",
    "address = \"Al-raheem apartments, nagan chowrangi\"\n",
    "std = \"Urwa Kashaf\"\n",
    "age = 18\n",
    "\n",
    "print(\"Name of Student:\", std)\n",
    "print(\"Age:\", age)\n",
    "print(\"Email:\", email)\n",
    "print(\"Account Balance:\", acc_bal, \"PKR\")\n",
    "print(\"Student Address:\", address)"
   ]
  },
  {
   "cell_type": "code",
   "execution_count": 45,
   "id": "1ab53e9a-538b-4d4d-a39e-be0f13a4050d",
   "metadata": {},
   "outputs": [
    {
     "name": "stdout",
     "output_type": "stream",
     "text": [
      "age of student: 18\n"
     ]
    }
   ],
   "source": [
    "print(\"age of student:\", age)"
   ]
  },
  {
   "cell_type": "code",
   "execution_count": 11,
   "id": "a6205a0b-1bbc-4b12-a752-cea7424b94ec",
   "metadata": {},
   "outputs": [
    {
     "name": "stdout",
     "output_type": "stream",
     "text": [
      "Student Name: urwa kashaf\n",
      "result: 88.76\n",
      "age: 18\n"
     ]
    }
   ],
   "source": [
    "result_pr = 88.76\n",
    "name_st = \"urwa kashaf\"\n",
    "age = 18\n",
    "print(\"Student Name:\", name_st)\n",
    "print(\"result:\", result_pr)\n",
    "print(\"age:\", age)\n"
   ]
  },
  {
   "cell_type": "code",
   "execution_count": null,
   "id": "d438ecf9-b48a-4466-b49e-8655be6ead57",
   "metadata": {},
   "outputs": [],
   "source": [
    "#email acc number balance name \n",
    "# show in output"
   ]
  }
 ],
 "metadata": {
  "kernelspec": {
   "display_name": "Python 3 (ipykernel)",
   "language": "python",
   "name": "python3"
  },
  "language_info": {
   "codemirror_mode": {
    "name": "ipython",
    "version": 3
   },
   "file_extension": ".py",
   "mimetype": "text/x-python",
   "name": "python",
   "nbconvert_exporter": "python",
   "pygments_lexer": "ipython3",
   "version": "3.12.4"
  }
 },
 "nbformat": 4,
 "nbformat_minor": 5
}
