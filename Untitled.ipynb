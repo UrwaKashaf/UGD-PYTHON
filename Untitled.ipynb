{
 "cells": [
  {
   "cell_type": "code",
   "execution_count": null,
   "id": "b6149aaa-a729-4ad8-ad70-16e82a4f4c14",
   "metadata": {},
   "outputs": [],
   "source": [
    "## lists in pyhton\n",
    "4 types of complex in data\n",
    "1) list\n",
    "2) double\n",
    "3) set of tuples \n",
    "4) dictionary\n",
    "#list functions\n",
    "# adding a new name of a student in the given list\n",
    "std_name_list.append(\"urwah\") append is used to add a new value\n",
    ".remove() is used to remove a certain value in a list\n",
    ".reverse() is used for reversing a list like last value turn into first value \n",
    "    .pop() used to delete the last value\n",
    ".sort() used to sort lists in ascending and descending orders\n",
    "\n",
    "#set\n",
    "    used to store multiple values\n",
    "in set no redunt value is allowed\n",
    "set are display by {}\n",
    "# tuples\n",
    "tuples cannot be deleted or inserted or change\n",
    "used to store multiple values\n",
    "# dictionary\n",
    "is used for collection it is also nabsed on key values\n"
   ]
  }
 ],
 "metadata": {
  "kernelspec": {
   "display_name": "Python 3 (ipykernel)",
   "language": "python",
   "name": "python3"
  },
  "language_info": {
   "codemirror_mode": {
    "name": "ipython",
    "version": 3
   },
   "file_extension": ".py",
   "mimetype": "text/x-python",
   "name": "python",
   "nbconvert_exporter": "python",
   "pygments_lexer": "ipython3",
   "version": "3.12.4"
  }
 },
 "nbformat": 4,
 "nbformat_minor": 5
}
