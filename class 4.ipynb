{
 "cells": [
  {
   "cell_type": "markdown",
   "id": "d3aad2dc-4dca-42b4-b1ec-2815303f14c7",
   "metadata": {},
   "source": [
    "#decision statements"
   ]
  },
  {
   "cell_type": "code",
   "execution_count": 16,
   "id": "6e12f1c1-8676-4b6a-89e6-594f71bec1dd",
   "metadata": {},
   "outputs": [
    {
     "name": "stdin",
     "output_type": "stream",
     "text": [
      "Enter your temperature: 15\n"
     ]
    },
    {
     "name": "stdout",
     "output_type": "stream",
     "text": [
      "room temperature is not cold\n"
     ]
    }
   ],
   "source": [
    "temp = float(input(\"Enter your temperature:\"))\n",
    "\n",
    "if(temp <  15):\n",
    "    print(\"room temperature is cold. you should wear warm clothes\")\n",
    "\n",
    "else:\n",
    "    print(\"room temperature is not cold\")"
   ]
  },
  {
   "cell_type": "code",
   "execution_count": null,
   "id": "123dc307-d560-4a8f-8ae8-9e776601ce93",
   "metadata": {},
   "outputs": [],
   "source": [
    "## operators\n",
    "# == : equal\n",
    "# != : not equal\n",
    "# > : greater tham\n",
    "# < less than \n",
    "# >= greater thana nd equal tp\n",
    "# <= less than and equal to\n"
   ]
  },
  {
   "cell_type": "code",
   "execution_count": 14,
   "id": "b156250d-65bd-4ee8-b09d-31f71dd853dd",
   "metadata": {},
   "outputs": [],
   "source": [
    "temp = 15\n",
    "# temp is >= 15 -- F\n",
    "# temp is <= 15 -- T\n",
    "# temp is < 15 -- T\n",
    "#temp is > 15 -- F\n",
    "#temp is == 15 -- F\n",
    "# temp is != 15 -- T"
   ]
  },
  {
   "cell_type": "code",
   "execution_count": 18,
   "id": "3e416102-2d91-4567-bfff-51c872f0a18b",
   "metadata": {},
   "outputs": [
    {
     "name": "stdout",
     "output_type": "stream",
     "text": [
      "2.0\n"
     ]
    }
   ],
   "source": [
    "print(4/2)"
   ]
  },
  {
   "cell_type": "code",
   "execution_count": 20,
   "id": "1d5bc0c8-c861-454a-9d3b-3b705a15c689",
   "metadata": {},
   "outputs": [
    {
     "name": "stdout",
     "output_type": "stream",
     "text": [
      "0\n"
     ]
    }
   ],
   "source": [
    "print(4%2) #tells reminder"
   ]
  },
  {
   "cell_type": "code",
   "execution_count": 22,
   "id": "3a531bfc-f125-4ca4-a11a-9a1ee9a52b8b",
   "metadata": {},
   "outputs": [
    {
     "name": "stdout",
     "output_type": "stream",
     "text": [
      "1\n"
     ]
    }
   ],
   "source": [
    " print(5%2)"
   ]
  },
  {
   "cell_type": "code",
   "execution_count": 30,
   "id": "7252ae7f-3191-44ee-880e-418e6af5758b",
   "metadata": {},
   "outputs": [
    {
     "name": "stdin",
     "output_type": "stream",
     "text": [
      "Enter a number: 66\n"
     ]
    },
    {
     "name": "stdout",
     "output_type": "stream",
     "text": [
      "66 is even number\n"
     ]
    }
   ],
   "source": [
    "num = int(input(\"Enter a number:\"))\n",
    "\n",
    "if(num%2 == 0):\n",
    "    print(num, \"is even number\")\n",
    "\n",
    "else:\n",
    "    print(num, \"is odd number\")\n"
   ]
  },
  {
   "cell_type": "code",
   "execution_count": 32,
   "id": "7d3337db-d617-4f0b-924f-434693d3f04a",
   "metadata": {},
   "outputs": [
    {
     "name": "stdin",
     "output_type": "stream",
     "text": [
      "Enter any year 2020\n"
     ]
    },
    {
     "name": "stdout",
     "output_type": "stream",
     "text": [
      "2020 is a leap year\n"
     ]
    }
   ],
   "source": [
    "## write a program totake user input a number and finds given year is leap or not\n",
    "\n",
    "year = int(input(\"Enter any year\"))\n",
    "if(year%4 == 0):\n",
    "    print(year, \"is a leap year\")\n",
    "else:\n",
    "    print(year, \"is not a leap year\")"
   ]
  },
  {
   "cell_type": "code",
   "execution_count": 44,
   "id": "7c2007a1-c227-414b-b3b7-affbe752ae59",
   "metadata": {},
   "outputs": [
    {
     "name": "stdin",
     "output_type": "stream",
     "text": [
      "Enter your overtime hours: 48\n"
     ]
    },
    {
     "name": "stdout",
     "output_type": "stream",
     "text": [
      "\n",
      "Final salery after overtime is: 58000\n"
     ]
    }
   ],
   "source": [
    "# task an employe 40rs salary = 50000\n",
    "# for e.g 45hrs of overtime he will get 1000Rs extra in his salary\n",
    "\n",
    "salary = 50000\n",
    "hours = int(input(\"Enter your overtime hours:\"))\n",
    "\n",
    "if(hours > 40):\n",
    "    overtime = hours - 40\n",
    "    bonus = overtime * 1000\n",
    "    final_salary = salary + bonus\n",
    "    print(\"\\nFinal salery after overtime is:\", final_salary)\n",
    "\n",
    "else:\n",
    "    print(\"your final salary is:\", salary)\n",
    "\n",
    "\n"
   ]
  },
  {
   "cell_type": "code",
   "execution_count": 48,
   "id": "1be5c602-05eb-4d46-904d-357a2d69c706",
   "metadata": {},
   "outputs": [
    {
     "name": "stdin",
     "output_type": "stream",
     "text": [
      "Enter your username: usama\n"
     ]
    },
    {
     "name": "stdout",
     "output_type": "stream",
     "text": [
      "wrong username. please try again\n"
     ]
    }
   ],
   "source": [
    "username = input(\"Enter your username:\")\n",
    "\n",
    "if(username == \"urwakashaf12\"):\n",
    "    print(\"welcome miss\", username)\n",
    "\n",
    "else:\n",
    "    print(\"wrong username. please try again\")\n"
   ]
  },
  {
   "cell_type": "code",
   "execution_count": 50,
   "id": "01e11697-ee7f-4d9d-96d8-e2060ed85630",
   "metadata": {},
   "outputs": [
    {
     "name": "stdout",
     "output_type": "stream",
     "text": [
      "6\n"
     ]
    }
   ],
   "source": [
    "# to turn negative into positive (-6* -1)\n",
    "print(-6*-1)"
   ]
  },
  {
   "cell_type": "code",
   "execution_count": null,
   "id": "9139de83-a50a-4be1-83c9-45743bbcfea4",
   "metadata": {},
   "outputs": [],
   "source": [
    "##### if the customer buys groceries of amount more than 5000\n",
    "## so the discount is 5%\n",
    "\n",
    "amount = int(input(\"Enter total amount:\"))\n",
    "if(amount > 5000):\n",
    "    discount = 5/100\n",
    "    amnt = amount-(amount * discount)\n",
    "    print(\"your discounted total is\", amnt)\n",
    "\n",
    "else:\n",
    "    print(\"your total is\", amount)\n",
    "    "
   ]
  },
  {
   "cell_type": "code",
   "execution_count": null,
   "id": "27573ce7-e6ac-4cfc-82d5-9d56561c01e0",
   "metadata": {},
   "outputs": [],
   "source": [
    "amount = int(input(\"Enter total amount:\"))\n",
    "if(amount > 5000):\n",
    "    discount = 5/100\n",
    "    amnt = amount-(amount * discount)\n",
    "    print(\"your discounted total is\", amnt)\n",
    "\n",
    "else:\n",
    "    print(\"your total is\", amount)"
   ]
  },
  {
   "cell_type": "code",
   "execution_count": null,
   "id": "032ab7e1-3d0a-4e3f-b9c2-2bf38ff8fe30",
   "metadata": {},
   "outputs": [],
   "source": []
  }
 ],
 "metadata": {
  "kernelspec": {
   "display_name": "Python 3 (ipykernel)",
   "language": "python",
   "name": "python3"
  },
  "language_info": {
   "codemirror_mode": {
    "name": "ipython",
    "version": 3
   },
   "file_extension": ".py",
   "mimetype": "text/x-python",
   "name": "python",
   "nbconvert_exporter": "python",
   "pygments_lexer": "ipython3",
   "version": "3.12.4"
  }
 },
 "nbformat": 4,
 "nbformat_minor": 5
}
