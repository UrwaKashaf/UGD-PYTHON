{
 "cells": [
  {
   "cell_type": "markdown",
   "id": "6ea451b6-d2d8-4b24-9f35-f28be5533e3b",
   "metadata": {},
   "source": [
    "## FUNCTIONS "
   ]
  },
  {
   "cell_type": "code",
   "execution_count": 2,
   "id": "1366cb16-0904-409c-8740-4a15268b6352",
   "metadata": {},
   "outputs": [],
   "source": [
    "# sum is function name and the whole thing is function\n",
    "#part 1 : to define a function\n",
    "def sum():\n",
    "    a = int(input(\"enter any number:\"))\n",
    "    b = int(input(\"enter any number:\"))\n",
    "    result = a + b\n",
    "    print(\"the sum of two numbers is:\", result)"
   ]
  },
  {
   "cell_type": "code",
   "execution_count": 6,
   "id": "ffc7c7c9-2ad1-479d-b18e-6c95d51e3b8f",
   "metadata": {},
   "outputs": [
    {
     "name": "stdin",
     "output_type": "stream",
     "text": [
      "enter any number: 4\n",
      "enter any number: 5\n"
     ]
    },
    {
     "name": "stdout",
     "output_type": "stream",
     "text": [
      "the sum of two numbers is: 9\n"
     ]
    },
    {
     "name": "stdin",
     "output_type": "stream",
     "text": [
      "enter any number: 6\n",
      "enter any number: 7\n"
     ]
    },
    {
     "name": "stdout",
     "output_type": "stream",
     "text": [
      "the sum of two numbers is: 13\n"
     ]
    }
   ],
   "source": [
    "# part 2 : to call a function\n",
    "sum()\n",
    "sum()"
   ]
  },
  {
   "cell_type": "code",
   "execution_count": 8,
   "id": "d5955367-d57d-4878-8a69-23376a99b72c",
   "metadata": {},
   "outputs": [],
   "source": [
    "def sum(a,b):\n",
    "    result = a + b\n",
    "    print(\"the sum:\", result)"
   ]
  },
  {
   "cell_type": "code",
   "execution_count": 16,
   "id": "396c0b8c-1481-4658-971e-7d9f6a215902",
   "metadata": {},
   "outputs": [
    {
     "name": "stdin",
     "output_type": "stream",
     "text": [
      "enter any number: 3\n",
      "enter any number: 4\n"
     ]
    },
    {
     "name": "stdout",
     "output_type": "stream",
     "text": [
      "the sum: 7\n"
     ]
    }
   ],
   "source": [
    "num1 = int(input(\"enter any number:\"))\n",
    "num2 = int(input(\"enter any number:\"))\n",
    "\n",
    "sum(num1,num2)\n"
   ]
  },
  {
   "cell_type": "code",
   "execution_count": 15,
   "id": "0fb83f3d-5bfc-43bf-bce0-e9abdcff1030",
   "metadata": {},
   "outputs": [],
   "source": [
    "# task take  the user input start and end range \n",
    "# 10-20 you need to sum all the values make a function name user_sum\n",
    " # user defined functions\n",
    "# for loops, if else, while loop, input is built in functions\n",
    "def user_sum(start,end):\n",
    "    sum = 0\n",
    "    for i in range(start,end):\n",
    "        sum = sum + i\n",
    "    print(\"the sum of numbers between\", start, \"and\", end, \"is\", sum)\n",
    "    "
   ]
  },
  {
   "cell_type": "code",
   "execution_count": 17,
   "id": "7702364a-7759-40fe-8ed7-3546c7fc4ac7",
   "metadata": {},
   "outputs": [
    {
     "name": "stdin",
     "output_type": "stream",
     "text": [
      "enter start range: 10\n",
      "enter end range: 20\n"
     ]
    },
    {
     "name": "stdout",
     "output_type": "stream",
     "text": [
      "the sum of numbers between 10 and 20 is 145\n"
     ]
    }
   ],
   "source": [
    "start = int(input(\"enter start range:\"))\n",
    "end = int(input(\"enter end range:\"))\n",
    "\n",
    "user_sum(start,end)"
   ]
  },
  {
   "cell_type": "code",
   "execution_count": 55,
   "id": "24a7c3d4-fb52-40a7-8739-ce06f6d70a16",
   "metadata": {},
   "outputs": [],
   "source": [
    "def discount(amount): #this function will only tak one input\n",
    "    if(amount >= 5000):\n",
    "        discounted_price = amount * 0.1 #or 10/100\n",
    "        final_amount = amount - discounted_price\n",
    "    else:\n",
    "        discounted_price = 0\n",
    "        final_amount = amount\n",
    "    return discounted_price, final_amount #return is outside if statement\n",
    "    #bcz both conditions are finalixed\n",
    "# if i put it inside the if else statement it woukd gve error\n",
    "    \n",
    "    "
   ]
  },
  {
   "cell_type": "code",
   "execution_count": 2,
   "id": "36159c11-46ba-4188-aeee-f653b354da1e",
   "metadata": {},
   "outputs": [
    {
     "name": "stdin",
     "output_type": "stream",
     "text": [
      "enter price: 2000\n"
     ]
    },
    {
     "ename": "NameError",
     "evalue": "name 'discount' is not defined",
     "output_type": "error",
     "traceback": [
      "\u001b[1;31m---------------------------------------------------------------------------\u001b[0m",
      "\u001b[1;31mNameError\u001b[0m                                 Traceback (most recent call last)",
      "Cell \u001b[1;32mIn[2], line 3\u001b[0m\n\u001b[0;32m      1\u001b[0m price \u001b[38;5;241m=\u001b[39m \u001b[38;5;28mint\u001b[39m(\u001b[38;5;28minput\u001b[39m(\u001b[38;5;124m\"\u001b[39m\u001b[38;5;124menter price:\u001b[39m\u001b[38;5;124m\"\u001b[39m))\n\u001b[1;32m----> 3\u001b[0m dis_price, fn_amount \u001b[38;5;241m=\u001b[39m discount(price)\n\u001b[0;32m      5\u001b[0m \u001b[38;5;28mprint\u001b[39m(dis_price)\n\u001b[0;32m      6\u001b[0m \u001b[38;5;28mprint\u001b[39m(fn_amount)\n",
      "\u001b[1;31mNameError\u001b[0m: name 'discount' is not defined"
     ]
    }
   ],
   "source": [
    "price = int(input(\"enter price:\"))\n",
    "\n",
    "dis_price, fn_amount = discount(price)\n",
    "\n",
    "print(dis_price)\n",
    "print(fn_amount)"
   ]
  },
  {
   "cell_type": "markdown",
   "id": "bea026fd-ad30-41a9-bfbf-f1df144da611",
   "metadata": {},
   "source": [
    "## built in functions"
   ]
  },
  {
   "cell_type": "code",
   "execution_count": 70,
   "id": "9e05177f-9b67-4dc2-95d1-0b91f9d8048a",
   "metadata": {},
   "outputs": [
    {
     "name": "stdout",
     "output_type": "stream",
     "text": [
      "ALI AKMAL\n",
      "ali akmal\n",
      "Ali akmal\n"
     ]
    }
   ],
   "source": [
    "std_name = \"ali akmal\"\n",
    "cap = std_name.upper()\n",
    "lower = std_name.lower()\n",
    "cap_std_name = std_name.capitalize()\n",
    "print(cap)\n",
    "print(lower)\n",
    "print(cap_std_name)\n",
    "\n"
   ]
  },
  {
   "cell_type": "code",
   "execution_count": 80,
   "id": "34ad1cf7-3e88-4fd7-912e-cd4500dd7160",
   "metadata": {},
   "outputs": [
    {
     "name": "stdout",
     "output_type": "stream",
     "text": [
      "-1\n",
      "the dog is jumping over the dog\n",
      "the cat is jumping over the cat\n"
     ]
    }
   ],
   "source": [
    "phrase = \"the dog is jumping over the dog\"\n",
    "print(phrase.find(\"fox\"))\n",
    "print(phrase.replace(\"fox\",\"cat\"))\n",
    "print(phrase.replace(\"dog\",\"cat\"))"
   ]
  },
  {
   "cell_type": "code",
   "execution_count": 82,
   "id": "efeca262-d1c3-427a-b98d-0bbf6d55a808",
   "metadata": {},
   "outputs": [],
   "source": [
    "import random"
   ]
  },
  {
   "cell_type": "code",
   "execution_count": 86,
   "id": "a49a8ee5-12b3-4efd-891e-724b1f2694da",
   "metadata": {},
   "outputs": [
    {
     "name": "stdout",
     "output_type": "stream",
     "text": [
      "4\n"
     ]
    }
   ],
   "source": [
    "random_num = random.randint(1,10)\n",
    "print(random_num)"
   ]
  },
  {
   "cell_type": "code",
   "execution_count": 94,
   "id": "033b3c34-219e-4265-8f05-825d690eb3d5",
   "metadata": {},
   "outputs": [],
   "source": [
    "random_num = random.uniform(-1,-5)"
   ]
  },
  {
   "cell_type": "code",
   "execution_count": 96,
   "id": "eb983ebd-f623-4b03-be39-61e566bbf603",
   "metadata": {},
   "outputs": [
    {
     "name": "stdout",
     "output_type": "stream",
     "text": [
      "-1.336253085694704\n"
     ]
    }
   ],
   "source": [
    "print(random_num)"
   ]
  },
  {
   "cell_type": "code",
   "execution_count": 102,
   "id": "70f8367b-c2ce-4475-b5bc-eb12f04b9bc8",
   "metadata": {},
   "outputs": [
    {
     "name": "stdout",
     "output_type": "stream",
     "text": [
      "head\n"
     ]
    }
   ],
   "source": [
    "coin = [\"head\", \"tail\"]\n",
    "result = random.choice(coin)\n",
    "print(result)"
   ]
  },
  {
   "cell_type": "code",
   "execution_count": 118,
   "id": "e45fcec7-fe8f-4110-a717-2f88a4275446",
   "metadata": {},
   "outputs": [
    {
     "name": "stdout",
     "output_type": "stream",
     "text": [
      "samsung\n"
     ]
    }
   ],
   "source": [
    "phone = [\"samsung\",\"infinix\",\"iphone\", \"tecno\"]\n",
    "result = random.choice(phone)\n",
    "print(result)"
   ]
  },
  {
   "cell_type": "code",
   "execution_count": 120,
   "id": "5cfb4721-1e09-4583-b54a-5d3342c9ca71",
   "metadata": {},
   "outputs": [
    {
     "name": "stdout",
     "output_type": "stream",
     "text": [
      "[20, 24, 1, 122, 10, 23, 56]\n"
     ]
    }
   ],
   "source": [
    "numbers =[1, 20,56,23,24,122,10]\n",
    "random.shuffle(numbers)\n",
    "print(numbers)"
   ]
  },
  {
   "cell_type": "code",
   "execution_count": 21,
   "id": "408925ca-2cfc-4eb8-991c-212e1bb0d9a9",
   "metadata": {},
   "outputs": [
    {
     "name": "stdin",
     "output_type": "stream",
     "text": [
      "enter any number from 1 to 5: 3\n"
     ]
    },
    {
     "name": "stdout",
     "output_type": "stream",
     "text": [
      "wrong guess, try again\n"
     ]
    },
    {
     "name": "stdin",
     "output_type": "stream",
     "text": [
      "enter any number from 1 to 5: 4\n"
     ]
    },
    {
     "name": "stdout",
     "output_type": "stream",
     "text": [
      "wrong guess, try again\n"
     ]
    },
    {
     "name": "stdin",
     "output_type": "stream",
     "text": [
      "enter any number from 1 to 5: 5\n"
     ]
    },
    {
     "name": "stdout",
     "output_type": "stream",
     "text": [
      "wrong guess, try again\n"
     ]
    },
    {
     "name": "stdin",
     "output_type": "stream",
     "text": [
      "enter any number from 1 to 5: 2\n"
     ]
    },
    {
     "name": "stdout",
     "output_type": "stream",
     "text": [
      "wrong guess, try again\n"
     ]
    },
    {
     "name": "stdin",
     "output_type": "stream",
     "text": [
      "enter any number from 1 to 5: 1\n"
     ]
    },
    {
     "name": "stdout",
     "output_type": "stream",
     "text": [
      "you win\n",
      "the number was 1\n"
     ]
    },
    {
     "ename": "SyntaxError",
     "evalue": "'return' outside function (3705662592.py, line 19)",
     "output_type": "error",
     "traceback": [
      "\u001b[1;36m  Cell \u001b[1;32mIn[21], line 19\u001b[1;36m\u001b[0m\n\u001b[1;33m    return\u001b[0m\n\u001b[1;37m    ^\u001b[0m\n\u001b[1;31mSyntaxError\u001b[0m\u001b[1;31m:\u001b[0m 'return' outside function\n"
     ]
    }
   ],
   "source": [
    "# task to make a guessing game take user input from 1-5\n",
    "#compare it with random number\n",
    "# if both are same print you won\n",
    "# id not equal print wrong guess and try again\n",
    "import random\n",
    "random = random.randint(1,5)\n",
    "\n",
    "for i in range(1,6):\n",
    "    user_guess = int(input(\"enter any number from 1 to 5:\"))\n",
    "    \n",
    "    if(user_guess < 1 or user_guess > 5):\n",
    "        print(\"please enter a valid number, try again\")\n",
    "    elif(user_guess != random):\n",
    "        print(\"wrong guess, try again\")\n",
    "    else: \n",
    "        print(\"you win\")\n",
    "\n",
    "print(\"the number was\", random)\n",
    "return\n",
    "\n"
   ]
  },
  {
   "cell_type": "code",
   "execution_count": null,
   "id": "767fdf5f-c6ee-408b-819f-6f7a0002be4c",
   "metadata": {},
   "outputs": [],
   "source": []
  },
  {
   "cell_type": "code",
   "execution_count": null,
   "id": "a79ceb4b-8cb4-451b-8aa9-e542abbaba7d",
   "metadata": {},
   "outputs": [],
   "source": []
  },
  {
   "cell_type": "code",
   "execution_count": null,
   "id": "52a54826-b677-4e12-966c-4a0a10de83a6",
   "metadata": {},
   "outputs": [],
   "source": []
  }
 ],
 "metadata": {
  "kernelspec": {
   "display_name": "Python 3 (ipykernel)",
   "language": "python",
   "name": "python3"
  },
  "language_info": {
   "codemirror_mode": {
    "name": "ipython",
    "version": 3
   },
   "file_extension": ".py",
   "mimetype": "text/x-python",
   "name": "python",
   "nbconvert_exporter": "python",
   "pygments_lexer": "ipython3",
   "version": "3.12.4"
  }
 },
 "nbformat": 4,
 "nbformat_minor": 5
}
