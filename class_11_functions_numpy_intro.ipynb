{
 "cells": [
  {
   "cell_type": "markdown",
   "id": "e9a900e9-74e4-40fb-976c-02814b079b9e",
   "metadata": {},
   "source": [
    "## RANDOM FUNCTION"
   ]
  },
  {
   "cell_type": "code",
   "execution_count": 1,
   "id": "62ea8448-2b2d-4be9-b576-2ea3ce3cb273",
   "metadata": {},
   "outputs": [],
   "source": [
    "import random"
   ]
  },
  {
   "cell_type": "code",
   "execution_count": 3,
   "id": "e10fe383-5beb-4a43-a370-e90727061173",
   "metadata": {},
   "outputs": [],
   "source": [
    "import string"
   ]
  },
  {
   "cell_type": "code",
   "execution_count": 4,
   "id": "f3ac06ea-c93d-47a5-92b2-f15de4a5c823",
   "metadata": {},
   "outputs": [],
   "source": [
    "## to genberate a random password containing alpha numeric characters \n"
   ]
  },
  {
   "cell_type": "code",
   "execution_count": 5,
   "id": "6aed7725-25ed-43a6-b045-e9c4857cbcb1",
   "metadata": {},
   "outputs": [],
   "source": [
    "pass_len = 8\n",
    "characters = string.ascii_letters + string.digits + string.punctuation\n",
    "password = \"\"\n",
    "\n",
    "for _ in range(pass_len): # _ only used to iterate i am not using loop variable inside for loop\n",
    "    random_char = random.choice(characters)"
   ]
  },
  {
   "cell_type": "code",
   "execution_count": 9,
   "id": "d27ac2b0-e79d-4fc5-a25e-3918830684f3",
   "metadata": {},
   "outputs": [
    {
     "name": "stdout",
     "output_type": "stream",
     "text": [
      "password: {Vxy$7}ch?ON\n"
     ]
    }
   ],
   "source": [
    "# pssword generator min 8 and max 12 character\n",
    "characters = string.ascii_letters + string.digits + string.punctuation\n",
    "pass_len = random.randint(8,12)\n",
    "password = \"\"\n",
    "\n",
    "for i in range(pass_len):\n",
    "    random_char = random.choice(characters)\n",
    "    password = password + random_char\n",
    "print(\"password:\", password)\n",
    "    "
   ]
  },
  {
   "cell_type": "code",
   "execution_count": 11,
   "id": "18ca8e9d-07f8-459b-ad6d-123dfc83652c",
   "metadata": {},
   "outputs": [
    {
     "data": {
      "text/plain": [
       "'abcdefghijklmnopqrstuvwxyzABCDEFGHIJKLMNOPQRSTUVWXYZ0123456789!\"#$%&\\'()*+,-./:;<=>?@[\\\\]^_`{|}~'"
      ]
     },
     "execution_count": 11,
     "metadata": {},
     "output_type": "execute_result"
    }
   ],
   "source": [
    "random.choice(characters)\n",
    "characters"
   ]
  },
  {
   "cell_type": "code",
   "execution_count": 13,
   "id": "fe0c1a0f-624b-47cc-ab23-9fb4a22ceaf2",
   "metadata": {},
   "outputs": [
    {
     "data": {
      "text/plain": [
       "'q'"
      ]
     },
     "execution_count": 13,
     "metadata": {},
     "output_type": "execute_result"
    }
   ],
   "source": [
    "random.choice(characters)\n"
   ]
  },
  {
   "cell_type": "code",
   "execution_count": 15,
   "id": "6fa49059-9f7e-4901-b03a-1363b695deb0",
   "metadata": {},
   "outputs": [
    {
     "data": {
      "text/plain": [
       "'urwahkashaf'"
      ]
     },
     "execution_count": 15,
     "metadata": {},
     "output_type": "execute_result"
    }
   ],
   "source": [
    "# the plus + sign wehn dealing wirth strings it isnt adding its actually merging the two strings \n",
    "fname = \"urwah\"\n",
    "lname = \"kashaf\"\n",
    "fullname = fname + lname \n",
    "fullname"
   ]
  },
  {
   "cell_type": "code",
   "execution_count": 17,
   "id": "4297c0ad-4cea-412a-a097-4f8f0a06fa96",
   "metadata": {},
   "outputs": [
    {
     "name": "stdout",
     "output_type": "stream",
     "text": [
      "password: |1\")Y\"u,\n"
     ]
    }
   ],
   "source": [
    "pass_len = 8\n",
    "characters = string.ascii_letters + string.digits + string.punctuation\n",
    "password = \"\"\n",
    "\n",
    "for _ in range(pass_len): # _ only used to iterate i am not using loop variable inside for loop\n",
    "    random_char = random.choice(characters)\n",
    "    password = password + random_char\n",
    "print(\"password:\", password)\n",
    "    "
   ]
  },
  {
   "cell_type": "code",
   "execution_count": 19,
   "id": "9fd845cc-2d2c-4abe-8ecd-749953b18c86",
   "metadata": {},
   "outputs": [],
   "source": [
    "# implement a random pass generator \n",
    "# only lowercase alphabets,digits and special characters($,_,.)"
   ]
  },
  {
   "cell_type": "code",
   "execution_count": 21,
   "id": "b5905815-3be9-4724-98cb-b1db1e818b3a",
   "metadata": {},
   "outputs": [
    {
     "name": "stdout",
     "output_type": "stream",
     "text": [
      "password: JXingQTR\n"
     ]
    }
   ],
   "source": [
    "pass_len = 8\n",
    "characters = string.ascii_letters + string.digits + \"$_.\"\n",
    "password = \"\"\n",
    "\n",
    "for _ in range(pass_len): # _ only used to iterate i am not using loop variable inside for loop\n",
    "    random_char = random.choice(characters)\n",
    "    password = password + random_char\n",
    "print(\"password:\", password)"
   ]
  },
  {
   "cell_type": "code",
   "execution_count": 23,
   "id": "5c735169-2fda-45cf-be1e-92de01c5f139",
   "metadata": {},
   "outputs": [],
   "source": [
    "import random"
   ]
  },
  {
   "cell_type": "code",
   "execution_count": 25,
   "id": "76d5d1d2-4d12-4899-bbfb-9666efb207b5",
   "metadata": {},
   "outputs": [],
   "source": [
    "import string"
   ]
  },
  {
   "cell_type": "markdown",
   "id": "88f7ab31-1f97-48f8-8241-300e36ec62d0",
   "metadata": {},
   "source": [
    "## NUMPY"
   ]
  },
  {
   "cell_type": "code",
   "execution_count": 28,
   "id": "ba0d7bf7-824e-4860-ac76-9c42b03cfd2e",
   "metadata": {},
   "outputs": [],
   "source": [
    "import numpy as np\n",
    "# array is the collection of homogenous data types"
   ]
  },
  {
   "cell_type": "code",
   "execution_count": 30,
   "id": "d2b21537-a2e2-49f2-9ccc-fd13ff37cee5",
   "metadata": {},
   "outputs": [
    {
     "data": {
      "text/plain": [
       "list"
      ]
     },
     "execution_count": 30,
     "metadata": {},
     "output_type": "execute_result"
    }
   ],
   "source": [
    "std_age = [20,22,24,26,30]\n",
    "type(std_age)"
   ]
  },
  {
   "cell_type": "code",
   "execution_count": 32,
   "id": "d8b80434-e0c2-4dd4-9fdd-ee32539fc53b",
   "metadata": {},
   "outputs": [
    {
     "data": {
      "text/plain": [
       "numpy.ndarray"
      ]
     },
     "execution_count": 32,
     "metadata": {},
     "output_type": "execute_result"
    }
   ],
   "source": [
    "std_age_arr = np.array(std_age) # pyhton considers both as list to convert list to array \n",
    "type(std_age_arr)"
   ]
  },
  {
   "cell_type": "code",
   "execution_count": 34,
   "id": "26b5d3e2-124e-4994-aa61-c3b67cd7e184",
   "metadata": {},
   "outputs": [
    {
     "data": {
      "text/plain": [
       "array([20, 22, 24, 26, 30])"
      ]
     },
     "execution_count": 34,
     "metadata": {},
     "output_type": "execute_result"
    }
   ],
   "source": [
    "std_per = [70.7,45.8,98.65,54.34,78.43]\n",
    "std_age_arr"
   ]
  },
  {
   "cell_type": "code",
   "execution_count": 36,
   "id": "904ea47e-c2c8-4cfe-9aa8-1548e95b125a",
   "metadata": {},
   "outputs": [],
   "source": [
    "std_name = [\"urwah\",\"rida\",\"samra\",\"uswah\"]"
   ]
  },
  {
   "cell_type": "code",
   "execution_count": 38,
   "id": "30b8688a-ea85-4872-b911-18f97af5877f",
   "metadata": {},
   "outputs": [],
   "source": [
    "lst = [\"ali\", \"22\", \"70.7\"] # list contains heterogenous data types"
   ]
  },
  {
   "cell_type": "code",
   "execution_count": 40,
   "id": "71093d5d-ec9e-4d7d-a9f4-5c5197beed22",
   "metadata": {},
   "outputs": [
    {
     "data": {
      "text/plain": [
       "float"
      ]
     },
     "execution_count": 40,
     "metadata": {},
     "output_type": "execute_result"
    }
   ],
   "source": [
    "age = 22\n",
    "name = \"ismah\"\n",
    "pi = 3.142\n",
    "type(pi)"
   ]
  },
  {
   "cell_type": "code",
   "execution_count": 42,
   "id": "ccc1c56e-d374-463c-be90-3a6a319822bc",
   "metadata": {},
   "outputs": [
    {
     "data": {
      "text/plain": [
       "array([20, 22, 24, 26, 30])"
      ]
     },
     "execution_count": 42,
     "metadata": {},
     "output_type": "execute_result"
    }
   ],
   "source": [
    "# 1-d array or linear array\n",
    "std_age_arr"
   ]
  },
  {
   "cell_type": "code",
   "execution_count": 44,
   "id": "5a159fcf-0973-40a5-9482-2275d3617889",
   "metadata": {},
   "outputs": [
    {
     "data": {
      "text/plain": [
       "numpy.ndarray"
      ]
     },
     "execution_count": 44,
     "metadata": {},
     "output_type": "execute_result"
    }
   ],
   "source": [
    "#2-D array or multi dimension array 3*3\n",
    "\n",
    "my_matrix = np.array ([[1,2,3,],[4,5,6],[7,8,9]])\n",
    "type(my_matrix)"
   ]
  },
  {
   "cell_type": "code",
   "execution_count": 46,
   "id": "22c2b517-391b-4c63-a1db-2414e523a451",
   "metadata": {},
   "outputs": [
    {
     "data": {
      "text/plain": [
       "array([[1, 2],\n",
       "       [5, 6],\n",
       "       [8, 9]])"
      ]
     },
     "execution_count": 46,
     "metadata": {},
     "output_type": "execute_result"
    }
   ],
   "source": [
    "#2-D array or multi dimension array 2*3\n",
    "\n",
    "my_matrix = np.array ([[1,2,],[5,6],[8,9]])\n",
    "type(my_matrix)\n",
    "my_matrix"
   ]
  },
  {
   "cell_type": "code",
   "execution_count": 48,
   "id": "e3f7dbdb-0bde-45cd-950a-2c8d54b94534",
   "metadata": {},
   "outputs": [
    {
     "data": {
      "text/plain": [
       "array([[1, 2],\n",
       "       [5, 6],\n",
       "       [8, 9]])"
      ]
     },
     "execution_count": 48,
     "metadata": {},
     "output_type": "execute_result"
    }
   ],
   "source": [
    "my_matrix"
   ]
  },
  {
   "cell_type": "code",
   "execution_count": null,
   "id": "c3f25488-6755-4007-a9ba-796fd7b1631f",
   "metadata": {},
   "outputs": [],
   "source": []
  },
  {
   "cell_type": "code",
   "execution_count": null,
   "id": "7466ad83-14d4-47ea-a9ae-262fed5e9f2c",
   "metadata": {},
   "outputs": [],
   "source": []
  },
  {
   "cell_type": "code",
   "execution_count": null,
   "id": "26dbe30c-85e4-46a4-a0a0-1751818e34c7",
   "metadata": {},
   "outputs": [],
   "source": []
  }
 ],
 "metadata": {
  "kernelspec": {
   "display_name": "Python 3 (ipykernel)",
   "language": "python",
   "name": "python3"
  },
  "language_info": {
   "codemirror_mode": {
    "name": "ipython",
    "version": 3
   },
   "file_extension": ".py",
   "mimetype": "text/x-python",
   "name": "python",
   "nbconvert_exporter": "python",
   "pygments_lexer": "ipython3",
   "version": "3.12.4"
  }
 },
 "nbformat": 4,
 "nbformat_minor": 5
}
