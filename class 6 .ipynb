{
 "cells": [
  {
   "cell_type": "code",
   "execution_count": null,
   "id": "58748218-3d3b-4d5a-a217-a0a45c4d123a",
   "metadata": {},
   "outputs": [],
   "source": [
    "## 80-100 : A1 if\n",
    "## 70-79 : A elif\n",
    "## 60-69 : B elif\n",
    "## 50-59 : C elif\n",
    "## 40-49 : D elif\n",
    "## below 40 F else\n",
    "\n",
    "## 5 subjects then calculate the percentage \n",
    "# if(percentage >= 80 and percentage <= 100):\n",
    "# print(\"A1 grade\")\n",
    "# elif(percentage >= 70 and percentage <= 79)\n"
   ]
  },
  {
   "cell_type": "code",
   "execution_count": 9,
   "id": "a7f0a083-cb1c-418c-8f86-d74b51acb130",
   "metadata": {},
   "outputs": [
    {
     "name": "stdin",
     "output_type": "stream",
     "text": [
      "enter maths marks: 87\n",
      "enter bio marks: 90\n",
      "enter english marks: 76\n"
     ]
    },
    {
     "name": "stdout",
     "output_type": "stream",
     "text": [
      "grade A1\n",
      "obtain marks: 253.0\n",
      "percentage: 84.33333333333334\n"
     ]
    }
   ],
   "source": [
    "maths = float(input(\"enter maths marks:\"))\n",
    "bio = float(input(\"enter bio marks:\"))\n",
    "english = float(input(\"enter english marks:\"))\n",
    "\n",
    "obtained = maths+bio+english\n",
    "per = (obtained/300) * 100\n",
    "\n",
    "if(per >= 80 and per <= 100):\n",
    "    print(\"grade A1\")\n",
    "elif(per >= 70 and per <= 79):\n",
    "    print(\"grade A\")\n",
    "elif(per >= 60 and per <= 69):\n",
    "    print(\"grade B\")\n",
    "\n",
    "elif(per >= 50 and per <= 59):\n",
    "    print(\"grade C\")\n",
    "\n",
    "elif(per >= 40 and per <= 49):\n",
    "    print(\"grade D\")\n",
    "\n",
    "else:\n",
    "    print(\"FAIL\")\n",
    "print(\"obtain marks:\", obtained)\n",
    "print(\"percentage:\", per)"
   ]
  },
  {
   "cell_type": "code",
   "execution_count": 15,
   "id": "5dda2cc0-4f36-471e-8e16-1006a8f6b508",
   "metadata": {},
   "outputs": [
    {
     "name": "stdin",
     "output_type": "stream",
     "text": [
      "enter maths marks: 87\n",
      "enter bio marks: 90\n",
      "enter english marks: 34\n"
     ]
    },
    {
     "name": "stdout",
     "output_type": "stream",
     "text": [
      "grade A\n",
      "FAIL\n",
      "obtain marks: 211.0\n",
      "percentage: 70.33333333333334\n"
     ]
    }
   ],
   "source": [
    "maths = float(input(\"enter maths marks:\"))\n",
    "bio = float(input(\"enter bio marks:\"))\n",
    "english = float(input(\"enter english marks:\"))\n",
    "\n",
    "obtained = maths+bio+english\n",
    "per = (obtained/300) * 100\n",
    "\n",
    "\n",
    "if(math < 40 or english < 40 or bio < 40):\n",
    "    print(\"FAIL\")\n",
    "\n",
    "else:\n",
    "    \n",
    "\n",
    "print(\"obtain marks:\", obtained)\n",
    "print(\"percentage:\", per)"
   ]
  },
  {
   "cell_type": "code",
   "execution_count": 1,
   "id": "86f3ff2f-357d-47b0-a8ce-0b0f4777ca13",
   "metadata": {},
   "outputs": [
    {
     "name": "stdin",
     "output_type": "stream",
     "text": [
      "enter maths marks: 76\n",
      "enter bio marks: 98\n",
      "enter english marks: 79\n"
     ]
    },
    {
     "name": "stdout",
     "output_type": "stream",
     "text": [
      "obtain marks: 253.0\n",
      "percentage: 84.33333333333334\n"
     ]
    }
   ],
   "source": [
    "maths = float(input(\"enter maths marks:\"))\n",
    "bio = float(input(\"enter bio marks:\"))\n",
    "english = float(input(\"enter english marks:\"))\n",
    "\n",
    "obtained = maths+bio+english\n",
    "per = (obtained/300) * 100\n",
    "if(maths < 40 or english < 40 or bio < 40):\n",
    "    print(\"FAIL\")\n",
    "\n",
    "\n",
    "print(\"obtain marks:\", obtained)\n",
    "print(\"percentage:\", per)"
   ]
  },
  {
   "cell_type": "code",
   "execution_count": 9,
   "id": "b0e3e669-01dc-40db-9d45-9d2495147ac2",
   "metadata": {},
   "outputs": [
    {
     "name": "stdin",
     "output_type": "stream",
     "text": [
      "enter maths marks: 87\n",
      "enter bio marks: 90\n",
      "enter english marks: 76\n"
     ]
    },
    {
     "name": "stdout",
     "output_type": "stream",
     "text": [
      "grade A1\n",
      "obtain marks: 253.0\n",
      "percentage: 84.33333333333334\n"
     ]
    }
   ],
   "source": [
    "maths = float(input(\"enter maths marks:\"))\n",
    "bio = float(input(\"enter bio marks:\"))\n",
    "english = float(input(\"enter english marks:\"))\n",
    "\n",
    "obtained = maths+bio+english\n",
    "per = (obtained/300) * 100\n",
    "\n",
    "if(per >= 80 and per <= 100):\n",
    "    print(\"grade A1\")\n",
    "elif(per >= 70 and per <= 79):\n",
    "    print(\"grade A\")\n",
    "elif(per >= 60 and per <= 69):\n",
    "    print(\"grade B\")\n",
    "\n",
    "elif(per >= 50 and per <= 59):\n",
    "    print(\"grade C\")\n",
    "\n",
    "elif(per >= 40 and per <= 49):\n",
    "    print(\"grade D\")\n",
    "\n",
    "else:\n",
    "    print(\"FAIL\")\n",
    "print(\"obtain marks:\", obtained)\n",
    "print(\"percentage:\", per)"
   ]
  },
  {
   "cell_type": "code",
   "execution_count": null,
   "id": "cd4caeee-24a4-48b0-8812-f87f9df36804",
   "metadata": {},
   "outputs": [],
   "source": [
    "## two numbers a = 5, b = 10\n",
    "## a is greater than b\n",
    "## b is greater than a \n",
    "## a and b are equal\n",
    "## determine which number is greater or equal"
   ]
  },
  {
   "cell_type": "code",
   "execution_count": 19,
   "id": "40b74149-a26d-43e4-9e3e-e28b71232f68",
   "metadata": {},
   "outputs": [
    {
     "name": "stdin",
     "output_type": "stream",
     "text": [
      "enter value of a: 55\n",
      "enter value of b: 45\n"
     ]
    },
    {
     "name": "stdout",
     "output_type": "stream",
     "text": [
      "55 is less than 45\n"
     ]
    }
   ],
   "source": [
    "a = int(input(\"enter value of a:\"))\n",
    "b = int(input(\"enter value of b:\"))\n",
    "\n",
    "if(\"a < b\"):\n",
    "    print(a, \"is less than\", b)\n",
    "elif(\"a > b\"):\n",
    "    print(a, \"is greater than\", b)\n",
    "else:\n",
    "\n",
    "    print(a, \"is equal to\", b)\n"
   ]
  },
  {
   "cell_type": "code",
   "execution_count": null,
   "id": "4a91ca4a-153e-4426-8db3-928e363b2332",
   "metadata": {},
   "outputs": [],
   "source": [
    "## write a program to compare the ages of imran, wasim and waqar\n",
    "## determine which one is eldest among all three"
   ]
  },
  {
   "cell_type": "code",
   "execution_count": 31,
   "id": "e7d140a9-a560-4ae3-bd46-49f93646a6d8",
   "metadata": {},
   "outputs": [
    {
     "name": "stdin",
     "output_type": "stream",
     "text": [
      "enter age of imran 18\n",
      "enter age of wasim 23\n",
      "enter age of waqar 28\n"
     ]
    },
    {
     "name": "stdout",
     "output_type": "stream",
     "text": [
      "waqar is elder than imran and wasim\n"
     ]
    }
   ],
   "source": [
    "imran = input(\"enter age of imran\")\n",
    "wasim = input(\"enter age of wasim\")\n",
    "waqar = input(\"enter age of waqar\")\n",
    "\n",
    "if(imran > wasim and imran > waqar):\n",
    "    print(\"imran is elder than wasim and waqar\")\n",
    "elif(wasim > imran and wasim > waqar):\n",
    "    print(\"wasim is elder than imran and waqar\")\n",
    "else:\n",
    "    print(\"waqar is elder than imran and wasim\")\n",
    "    "
   ]
  },
  {
   "cell_type": "code",
   "execution_count": null,
   "id": "d6592768-cf8a-4b83-bac0-9162cb7417a2",
   "metadata": {},
   "outputs": [],
   "source": [
    "##loop or ilterations"
   ]
  },
  {
   "cell_type": "code",
   "execution_count": 33,
   "id": "8e0ab1ff-0802-4135-ad5d-3ff2231de3ca",
   "metadata": {},
   "outputs": [
    {
     "name": "stdout",
     "output_type": "stream",
     "text": [
      "hello world\n",
      "hello world\n",
      "hello world\n",
      "hello world\n",
      "hello world\n",
      "hello world\n",
      "hello world\n",
      "hello world\n",
      "hello world\n",
      "hello world\n"
     ]
    }
   ],
   "source": [
    "for i in range(10):\n",
    "    print(\"hello world\")"
   ]
  },
  {
   "cell_type": "code",
   "execution_count": 35,
   "id": "59b15d24-eb7f-44c9-a929-ebae54e516e0",
   "metadata": {},
   "outputs": [
    {
     "name": "stdout",
     "output_type": "stream",
     "text": [
      "hello world\n",
      "i am urwah\n",
      "hello world\n",
      "i am urwah\n",
      "hello world\n",
      "i am urwah\n",
      "hello world\n",
      "i am urwah\n",
      "hello world\n",
      "i am urwah\n"
     ]
    }
   ],
   "source": [
    "for i in range(5):\n",
    "    print(\"hello world\")\n",
    "    print(\"i am urwah\")"
   ]
  },
  {
   "cell_type": "code",
   "execution_count": 37,
   "id": "e234b6bf-2f5b-41a9-89e4-489ce84c0bd8",
   "metadata": {},
   "outputs": [
    {
     "name": "stdout",
     "output_type": "stream",
     "text": [
      "0\n",
      "1\n",
      "2\n",
      "3\n",
      "4\n"
     ]
    }
   ],
   "source": [
    "for i in range(5):\n",
    "    print(i)"
   ]
  },
  {
   "cell_type": "code",
   "execution_count": 39,
   "id": "dc0f4c0e-b433-4646-86ae-c3bc23096671",
   "metadata": {},
   "outputs": [
    {
     "name": "stdout",
     "output_type": "stream",
     "text": [
      "2\n",
      "3\n",
      "4\n"
     ]
    }
   ],
   "source": [
    "#start = 2, end = 5\n",
    "for i in range(2,5):\n",
    "    print(i)"
   ]
  },
  {
   "cell_type": "code",
   "execution_count": 43,
   "id": "ed0bbde8-47b2-4136-8aa2-2d09ee054508",
   "metadata": {},
   "outputs": [
    {
     "name": "stdout",
     "output_type": "stream",
     "text": [
      "2\n",
      "4\n",
      "6\n",
      "8\n",
      "10\n",
      "12\n",
      "14\n",
      "16\n",
      "18\n",
      "20\n"
     ]
    }
   ],
   "source": [
    "#want to print even numbers from 2-20\n",
    "#start=2, jump=2, end= 22-1=21\n",
    "for i in range(2,22,2):\n",
    "    print(i)"
   ]
  },
  {
   "cell_type": "code",
   "execution_count": 55,
   "id": "63e4f012-e493-48e6-bde1-9a07966c3c1f",
   "metadata": {},
   "outputs": [
    {
     "name": "stdout",
     "output_type": "stream",
     "text": [
      "1\n",
      "3\n",
      "5\n",
      "7\n",
      "9\n",
      "11\n",
      "13\n",
      "15\n",
      "17\n",
      "19\n"
     ]
    }
   ],
   "source": [
    "#want to print odd numbers from 1-20\n",
    "#start=1, jump=2, end= 21\n",
    "for i in range(1,21,2):\n",
    "    print(i)\n",
    "    "
   ]
  },
  {
   "cell_type": "code",
   "execution_count": 3,
   "id": "5f907569-0b67-4824-b64b-d56a0859c6e9",
   "metadata": {},
   "outputs": [
    {
     "name": "stdout",
     "output_type": "stream",
     "text": [
      "3\n",
      "5\n",
      "7\n",
      "9\n",
      "11\n",
      "13\n",
      "15\n",
      "17\n",
      "19\n",
      "21\n",
      "23\n",
      "25\n",
      "27\n",
      "29\n"
     ]
    }
   ],
   "source": [
    "for i in range(3,30,2):\n",
    "    print(i)"
   ]
  },
  {
   "cell_type": "code",
   "execution_count": 9,
   "id": "815554b0-ec33-4ba7-9311-da365028bfcd",
   "metadata": {},
   "outputs": [
    {
     "name": "stdout",
     "output_type": "stream",
     "text": [
      "HELLO ASHAR PAGAL\n",
      "minecraft\n",
      "HELLO ASHAR PAGAL\n",
      "minecraft\n",
      "HELLO ASHAR PAGAL\n",
      "minecraft\n",
      "HELLO ASHAR PAGAL\n",
      "minecraft\n",
      "HELLO ASHAR PAGAL\n",
      "minecraft\n",
      "HELLO ASHAR PAGAL\n",
      "minecraft\n",
      "HELLO ASHAR PAGAL\n",
      "minecraft\n",
      "HELLO ASHAR PAGAL\n",
      "minecraft\n",
      "HELLO ASHAR PAGAL\n",
      "minecraft\n",
      "HELLO ASHAR PAGAL\n",
      "minecraft\n",
      "HELLO ASHAR PAGAL\n",
      "minecraft\n",
      "HELLO ASHAR PAGAL\n",
      "minecraft\n",
      "HELLO ASHAR PAGAL\n",
      "minecraft\n",
      "HELLO ASHAR PAGAL\n",
      "minecraft\n",
      "HELLO ASHAR PAGAL\n",
      "minecraft\n",
      "HELLO ASHAR PAGAL\n",
      "minecraft\n",
      "HELLO ASHAR PAGAL\n",
      "minecraft\n",
      "HELLO ASHAR PAGAL\n",
      "minecraft\n",
      "HELLO ASHAR PAGAL\n",
      "minecraft\n",
      "HELLO ASHAR PAGAL\n",
      "minecraft\n"
     ]
    }
   ],
   "source": [
    "for i in range(20):\n",
    "    print(\"HELLO ASHAR PAGAL\")\n",
    "    print(\"minecraft\")"
   ]
  },
  {
   "cell_type": "code",
   "execution_count": null,
   "id": "863bea6e-f4e5-4665-9b3b-d216676cc253",
   "metadata": {},
   "outputs": [],
   "source": []
  }
 ],
 "metadata": {
  "kernelspec": {
   "display_name": "Python 3 (ipykernel)",
   "language": "python",
   "name": "python3"
  },
  "language_info": {
   "codemirror_mode": {
    "name": "ipython",
    "version": 3
   },
   "file_extension": ".py",
   "mimetype": "text/x-python",
   "name": "python",
   "nbconvert_exporter": "python",
   "pygments_lexer": "ipython3",
   "version": "3.12.4"
  }
 },
 "nbformat": 4,
 "nbformat_minor": 5
}
