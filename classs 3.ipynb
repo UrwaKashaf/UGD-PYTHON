{
 "cells": [
  {
   "cell_type": "code",
   "execution_count": 14,
   "id": "357a921c-e371-4acf-ace4-2449ee335ac3",
   "metadata": {},
   "outputs": [],
   "source": [
    "std_age1 = 20\n",
    "std_age2 = 15\n",
    "std_age3 = 16"
   ]
  },
  {
   "cell_type": "code",
   "execution_count": 16,
   "id": "aa827ed1-f5ad-4d71-9dd6-dfb9bb5d55d1",
   "metadata": {},
   "outputs": [],
   "source": [
    "std_age_list = [20, 15, 16]"
   ]
  },
  {
   "cell_type": "code",
   "execution_count": 18,
   "id": "f296e3b8-f450-47a4-9e47-ea24c79e652d",
   "metadata": {},
   "outputs": [
    {
     "name": "stdout",
     "output_type": "stream",
     "text": [
      "the age of three students:  [20, 15, 16]\n"
     ]
    }
   ],
   "source": [
    "print(\"the age of three students: \", std_age_list)"
   ]
  },
  {
   "cell_type": "code",
   "execution_count": 24,
   "id": "840f2859-474f-4807-bb08-33910f36b5aa",
   "metadata": {},
   "outputs": [
    {
     "data": {
      "text/plain": [
       "list"
      ]
     },
     "execution_count": 24,
     "metadata": {},
     "output_type": "execute_result"
    }
   ],
   "source": [
    "type (std_age_list) \n"
   ]
  },
  {
   "cell_type": "code",
   "execution_count": 26,
   "id": "a0de2f27-117c-444b-8780-91302b6b204d",
   "metadata": {},
   "outputs": [],
   "source": [
    "std_percentage1 = 83.23\n",
    "std_percentage2 = 54.98\n",
    "std_percentage3 = 90.54"
   ]
  },
  {
   "cell_type": "code",
   "execution_count": 28,
   "id": "ff27ec96-bee5-453d-ba12-04b90432866e",
   "metadata": {},
   "outputs": [
    {
     "name": "stdout",
     "output_type": "stream",
     "text": [
      "the percentages of three students: [82.23, 54.98, 90.54]\n"
     ]
    }
   ],
   "source": [
    "std_percentage_list = [82.23, 54.98, 90.54]\n",
    "print(\"the percentages of three students:\", std_percentage_list)"
   ]
  },
  {
   "cell_type": "code",
   "execution_count": 30,
   "id": "fb78e6b4-9951-42c8-bc68-b5abe29d8a29",
   "metadata": {},
   "outputs": [
    {
     "data": {
      "text/plain": [
       "[82.23, 54.98, 90.54]"
      ]
     },
     "execution_count": 30,
     "metadata": {},
     "output_type": "execute_result"
    }
   ],
   "source": [
    "std_percentage_list"
   ]
  },
  {
   "cell_type": "code",
   "execution_count": null,
   "id": "2dc521c7-2889-4425-acad-838475cdb143",
   "metadata": {},
   "outputs": [],
   "source": [
    "n = 10\n",
    "n-1 = 0-9\n",
    "#if the variable has 10 elements, first element is zero\n",
    "##if 5 elements are present we have n = 0-4"
   ]
  },
  {
   "cell_type": "code",
   "execution_count": 32,
   "id": "add430de-30db-4a34-95d9-9a54335783f2",
   "metadata": {},
   "outputs": [
    {
     "data": {
      "text/plain": [
       "90.54"
      ]
     },
     "execution_count": 32,
     "metadata": {},
     "output_type": "execute_result"
    }
   ],
   "source": [
    "#indexing\n",
    "std_percentage_list[2]"
   ]
  },
  {
   "cell_type": "code",
   "execution_count": 59,
   "id": "8eeb55ad-455f-4970-bf4a-8a1af477af33",
   "metadata": {},
   "outputs": [
    {
     "name": "stdout",
     "output_type": "stream",
     "text": [
      "student names: ['urwah', 'samra', 'uswah', 'aimal', 'ashar']\n"
     ]
    }
   ],
   "source": [
    "# indexing range\n",
    "std_name_list = (\"urwah\", \"samra\", \"uswah\", \"aimal\", \"ashar\")\n",
    "std_name_list = list(std_name_list)\n",
    "print(\"student names:\", std_name_list)\n",
    "std_name_list[0:3]\n",
    "std_name_list[1:2:4]"
   ]
  },
  {
   "cell_type": "code",
   "execution_count": 17,
   "id": "d602bd60-2701-4ece-b509-f91f574b0266",
   "metadata": {},
   "outputs": [
    {
     "name": "stdout",
     "output_type": "stream",
     "text": [
      "student list in reverse: ('ashar', 'aimal', 'uswah', 'samra', 'urwah')\n"
     ]
    }
   ],
   "source": [
    "#reverse order\n",
    "std_name_list[::-1]\n",
    "#to save the reverse list\n",
    "std_list_rev = std_name_list[::-1]\n",
    "print(\"student list in reverse:\", std_list_rev)"
   ]
  },
  {
   "cell_type": "code",
   "execution_count": 61,
   "id": "537b182f-5bfb-4a84-929c-7ef46cce8832",
   "metadata": {},
   "outputs": [
    {
     "data": {
      "text/plain": [
       "'ashar'"
      ]
     },
     "execution_count": 61,
     "metadata": {},
     "output_type": "execute_result"
    }
   ],
   "source": [
    "##list functions\n",
    "## adding a new name of a studnt to the list\n",
    "std_name_list = (\"urwah\",\"samra\",\"uswah\",\"aimal\", \"ashar\")\n",
    "std_name_list = list(std_name_list) #convert tuple to a list\n",
    "#need to use [] square brackets for lists\n",
    "std_name_list.append(\"usama\")\n",
    "#to remove the object\n",
    "std_name_list.remove(\"usama\")\n",
    "#using pop() function it will remove every last element in the list\n",
    "std_name_list.pop()"
   ]
  },
  {
   "cell_type": "code",
   "execution_count": 65,
   "id": "cd4c51c4-70c0-4ba8-a49d-b4d78291ced7",
   "metadata": {},
   "outputs": [],
   "source": [
    "std_name_list.remove(\"urwah\")"
   ]
  },
  {
   "cell_type": "code",
   "execution_count": 75,
   "id": "053fb786-11da-4c5b-bfb3-5d595df21ecb",
   "metadata": {},
   "outputs": [
    {
     "data": {
      "text/plain": [
       "['samra', 'uswah', 'urwah', 'usama']"
      ]
     },
     "execution_count": 75,
     "metadata": {},
     "output_type": "execute_result"
    }
   ],
   "source": [
    "std_name_lists = [\"samra\",\"uswah\",\"urwah\"]\n",
    "std_name_lists.append(\"usama\")\n",
    "std_name_lists #needed to add a square bracket for the list functions to work"
   ]
  },
  {
   "cell_type": "code",
   "execution_count": 77,
   "id": "105be921-996b-48ef-b684-e724d73ec44a",
   "metadata": {},
   "outputs": [],
   "source": [
    "# for soorting list\n",
    "\n",
    "std_name_list.sort()"
   ]
  },
  {
   "cell_type": "code",
   "execution_count": 79,
   "id": "0ce3b34a-0c28-42b7-b1e2-a7653db88600",
   "metadata": {},
   "outputs": [
    {
     "data": {
      "text/plain": [
       "['aimal', 'samra', 'usama', 'usama', 'uswah']"
      ]
     },
     "execution_count": 79,
     "metadata": {},
     "output_type": "execute_result"
    }
   ],
   "source": [
    "std_name_list"
   ]
  },
  {
   "cell_type": "code",
   "execution_count": 83,
   "id": "5e558986-7265-4dd6-b045-7bf552bdbdee",
   "metadata": {},
   "outputs": [],
   "source": [
    "# for sorting in descending order\n",
    "\n",
    "std_name_list.sort(reverse=True)"
   ]
  },
  {
   "cell_type": "code",
   "execution_count": 85,
   "id": "b1ecf394-d6b9-472a-9384-824d05ad2eb9",
   "metadata": {},
   "outputs": [
    {
     "data": {
      "text/plain": [
       "['uswah', 'usama', 'usama', 'samra', 'aimal']"
      ]
     },
     "execution_count": 85,
     "metadata": {},
     "output_type": "execute_result"
    }
   ],
   "source": [
    "std_name_list"
   ]
  },
  {
   "cell_type": "code",
   "execution_count": 89,
   "id": "334bd0ae-c3e0-41ff-89ef-50150e46608b",
   "metadata": {},
   "outputs": [],
   "source": [
    "std_per_list = [90.4,88.67,65.43,97.54,76.03]\n",
    "std_per_list.sort()"
   ]
  },
  {
   "cell_type": "code",
   "execution_count": 93,
   "id": "41d0ddf6-dfc3-4789-927f-3f7551ea1cd4",
   "metadata": {},
   "outputs": [
    {
     "data": {
      "text/plain": [
       "[65.43, 76.03, 88.67, 90.4, 97.54]"
      ]
     },
     "execution_count": 93,
     "metadata": {},
     "output_type": "execute_result"
    }
   ],
   "source": [
    "std_per_list #ascending order output "
   ]
  },
  {
   "cell_type": "code",
   "execution_count": 95,
   "id": "b710fa84-5631-4dc5-b358-4a66edd575fe",
   "metadata": {},
   "outputs": [],
   "source": [
    "std_per_list.sort(reverse=True)"
   ]
  },
  {
   "cell_type": "code",
   "execution_count": 97,
   "id": "76303b27-862f-4648-acb0-4da2d8cf8b8a",
   "metadata": {},
   "outputs": [
    {
     "data": {
      "text/plain": [
       "[97.54, 90.4, 88.67, 76.03, 65.43]"
      ]
     },
     "execution_count": 97,
     "metadata": {},
     "output_type": "execute_result"
    }
   ],
   "source": [
    "std_per_list #descending order"
   ]
  },
  {
   "cell_type": "code",
   "execution_count": 99,
   "id": "a31d23ce-24cf-4fb8-8c35-ebd9c417c183",
   "metadata": {},
   "outputs": [],
   "source": [
    "#to save sorted list\n",
    "sorted_list = std_name_list"
   ]
  },
  {
   "cell_type": "code",
   "execution_count": 101,
   "id": "5edaf974-fcd5-4fb1-8241-3289643aa72b",
   "metadata": {},
   "outputs": [
    {
     "name": "stdout",
     "output_type": "stream",
     "text": [
      "sorted list: ['uswah', 'usama', 'usama', 'samra', 'aimal']\n"
     ]
    }
   ],
   "source": [
    "print(\"sorted list:\",sorted_list)"
   ]
  },
  {
   "cell_type": "code",
   "execution_count": 103,
   "id": "6779364a-2462-43ec-9b41-43935b228947",
   "metadata": {},
   "outputs": [
    {
     "name": "stdout",
     "output_type": "stream",
     "text": [
      "student info: ['Ashar Ilyas', 88.76, 11]\n"
     ]
    }
   ],
   "source": [
    "#heterogenous list\n",
    "#n=3\n",
    "#n=0-2\n",
    "std_info_list = [\"Ashar Ilyas\", 88.76, 11]\n",
    "print(\"student info:\", std_info_list)"
   ]
  },
  {
   "cell_type": "code",
   "execution_count": 111,
   "id": "a47d9c1a-6f01-494a-8787-fdf4d8860126",
   "metadata": {},
   "outputs": [
    {
     "name": "stdout",
     "output_type": "stream",
     "text": [
      "student name: Ashar Ilyas\n",
      "student age: 11\n",
      "student percentage: 88.76\n"
     ]
    }
   ],
   "source": [
    "print(\"student name:\", std_info_list[0])\n",
    "print(\"student age:\", std_info_list[2])\n",
    "print(\"student percentage:\", std_info_list[1])"
   ]
  },
  {
   "cell_type": "code",
   "execution_count": 107,
   "id": "baa62809-7050-44e6-a63d-6d777b2f1c10",
   "metadata": {},
   "outputs": [],
   "source": [
    "std_info_list.append(\"asharilyas4@gmail.com\")"
   ]
  },
  {
   "cell_type": "code",
   "execution_count": 109,
   "id": "29406daf-8273-4f94-b7c8-e7d761755860",
   "metadata": {},
   "outputs": [
    {
     "data": {
      "text/plain": [
       "['Ashar Ilyas', 88.76, 11, 'asharilyas4@gmail.com']"
      ]
     },
     "execution_count": 109,
     "metadata": {},
     "output_type": "execute_result"
    }
   ],
   "source": [
    "std_info_list"
   ]
  },
  {
   "cell_type": "code",
   "execution_count": 113,
   "id": "bd577c1c-bd20-4e71-b021-535353e83b11",
   "metadata": {},
   "outputs": [],
   "source": [
    "# pop()\n",
    "## append()\n",
    "## reverse()\n",
    "## sort\n",
    "# print(std_info_list.clear()\n",
    "\n",
    "std_info_list.clear() #empties the list"
   ]
  },
  {
   "cell_type": "code",
   "execution_count": 115,
   "id": "eddf2a05-c4d8-4bb9-b522-1d80600012b6",
   "metadata": {},
   "outputs": [
    {
     "data": {
      "text/plain": [
       "[]"
      ]
     },
     "execution_count": 115,
     "metadata": {},
     "output_type": "execute_result"
    }
   ],
   "source": [
    "std_info_list"
   ]
  },
  {
   "cell_type": "code",
   "execution_count": 123,
   "id": "e2339865-2713-4388-9956-3f0255542ea0",
   "metadata": {},
   "outputs": [
    {
     "name": "stdout",
     "output_type": "stream",
     "text": [
      "{'banana', 'apple', 'mango'}\n",
      "{'Apple', 'banana', 'appple', 'mango'}\n"
     ]
    }
   ],
   "source": [
    "# set and tuples\n",
    "## used to store multiple values\n",
    "\n",
    "fruit_set = {\"apple\",\"banana\", \"apple\", \"mango\"}\n",
    "print(fruit_set)\n",
    "#output doesnt shows duplicate values in set\n",
    "#only unique values are allowed\n",
    "#duplicate valcues are allowed in lists\n",
    "fruits_set = {\"appple\", \"banana\", \"Apple\", \"mango\"}\n",
    "print(fruits_set)"
   ]
  },
  {
   "cell_type": "code",
   "execution_count": 125,
   "id": "972d383c-d566-4ad0-84df-e4c0ab7ee1e2",
   "metadata": {},
   "outputs": [
    {
     "name": "stdout",
     "output_type": "stream",
     "text": [
      "('apple', 'mango', 'banana', 'apple')\n"
     ]
    }
   ],
   "source": [
    "#tuple\n",
    "# used to store multiple values\n",
    "fruits_tuple = (\"apple\",\"mango\", \"banana\", \"apple\")\n",
    "print(fruits_tuple)\n",
    "## tuple does print duplicate values \n"
   ]
  },
  {
   "cell_type": "code",
   "execution_count": 129,
   "id": "83f7db04-a9eb-414f-adee-8f2484d62f72",
   "metadata": {},
   "outputs": [],
   "source": [
    "## task is to add new value in the fruits_set and fruits_tuple\n",
    "#3 value sjould be grape\n",
    "\n",
    "fruits_set.add(\"grape\")"
   ]
  },
  {
   "cell_type": "code",
   "execution_count": 131,
   "id": "e070ff19-b8ac-4cec-bf00-ed623e4b9658",
   "metadata": {},
   "outputs": [
    {
     "data": {
      "text/plain": [
       "{'Apple', 'appple', 'banana', 'grape', 'mango'}"
      ]
     },
     "execution_count": 131,
     "metadata": {},
     "output_type": "execute_result"
    }
   ],
   "source": [
    "fruits_set #sets can be changed"
   ]
  },
  {
   "cell_type": "code",
   "execution_count": 135,
   "id": "4a693715-5bb8-4e6e-85bf-ac1a32c8fbcb",
   "metadata": {},
   "outputs": [],
   "source": [
    "# for tuple\n",
    "#fruits_tuple.add(\"grape\") #shows error\n",
    "# tuple is unchangeable\n"
   ]
  },
  {
   "cell_type": "code",
   "execution_count": 137,
   "id": "a9f827e7-0cfa-4a40-894a-305f7f7f5e40",
   "metadata": {},
   "outputs": [
    {
     "name": "stdout",
     "output_type": "stream",
     "text": [
      "{'name': 'urwa kashaf', 'age': 18, 'percentage': 77.7}\n"
     ]
    }
   ],
   "source": [
    "## dictionary\n",
    "# also used for collection\n",
    "## it is based on key values\n",
    "# starts from curly brackets\n",
    "##key is name, value is urwa kashaf\n",
    "\n",
    "\n",
    "std_info = {\"name\": \"urwa kashaf\", \"age\": 18, \"percentage\":77.7}\n",
    "print(std_info)"
   ]
  },
  {
   "cell_type": "code",
   "execution_count": 139,
   "id": "8342d6d3-9a22-4f8f-bd49-1a9ec8c00aaf",
   "metadata": {},
   "outputs": [
    {
     "data": {
      "text/plain": [
       "18"
      ]
     },
     "execution_count": 139,
     "metadata": {},
     "output_type": "execute_result"
    }
   ],
   "source": [
    "std_info[\"age\"]"
   ]
  },
  {
   "cell_type": "code",
   "execution_count": 143,
   "id": "01650d70-806a-4c40-8453-17481e58c4a8",
   "metadata": {},
   "outputs": [
    {
     "name": "stdout",
     "output_type": "stream",
     "text": [
      "urwa kashaf\n"
     ]
    }
   ],
   "source": [
    "print(std_info[\"name\"])"
   ]
  },
  {
   "cell_type": "code",
   "execution_count": 159,
   "id": "767addd9-d28c-4f43-a218-d4fc670b70a5",
   "metadata": {},
   "outputs": [
    {
     "name": "stdout",
     "output_type": "stream",
     "text": [
      "{'Account Title': 'Urwa Kashaf', 'Account Number': 'PKBL2435446657', 'Amount': 5000, 'Account Type': 'bank account', 'Date of Opening': '12-06-2023'}\n"
     ]
    }
   ],
   "source": [
    "#3 creatw a dictionary that contains acc number, owner name, amount and acc type and date of opening\n",
    "\n",
    "Acc_details = {\"Account Title\": \"Urwa Kashaf\", \"Account Number\": \"PKBL2435446657\", \"Amount\":43000, \n",
    "               \"Account Type\": \"bank account\", \"Date of Opening\": \"12-06-2023\"}\n",
    "print(Acc_details)"
   ]
  },
  {
   "cell_type": "code",
   "execution_count": 159,
   "id": "f1c01a37-20e7-48df-b19a-d4ddf7565910",
   "metadata": {},
   "outputs": [
    {
     "name": "stdout",
     "output_type": "stream",
     "text": [
      "{'Account Title': 'Urwa Kashaf', 'Account Number': 'PKBL2435446657', 'Amount': 5000, 'Account Type': 'bank account', 'Date of Opening': '12-06-2023'}\n"
     ]
    }
   ],
   "source": [
    "#3 creatw a dictionary that contains acc number, owner name, amount and acc type and date of opening\n",
    "\n",
    "Acc_details = {\"Account Title\": \"Urwa Kashaf\", \"Account Number\": \"PKBL2435446657\", \"Amount\":43000, \n",
    "               \"Account Type\": \"bank account\", \"Date of Opening\": \"12-06-2023\", \"Amount\":5000} #adding same key again overwrites the value\n",
    "print(Acc_details)"
   ]
  },
  {
   "cell_type": "code",
   "execution_count": 157,
   "id": "edb27a5e-db1f-4844-8572-9d80dc04e93e",
   "metadata": {},
   "outputs": [
    {
     "name": "stdout",
     "output_type": "stream",
     "text": [
      "<class 'dict'>\n"
     ]
    }
   ],
   "source": [
    "#3 creatw a dictionary that contains acc number, owner name, amount and acc type and date of opening\n",
    "\n",
    "Acc_details = {\"Account Title\": \"Urwa Kashaf\", \"Account Number\": \"PKBL2435446657\", \"Amount\":43000, \n",
    "               \"Account Type\": \"bank account\", \"Date of Opening\": \"12-06-2023\"}\n",
    "print(type(Acc_details)) #adding type()) tells data type"
   ]
  },
  {
   "cell_type": "code",
   "execution_count": 153,
   "id": "adfef700-fa99-43e4-a6f5-917ddceea19c",
   "metadata": {},
   "outputs": [
    {
     "data": {
      "text/plain": [
       "'PKBL2435446657'"
      ]
     },
     "execution_count": 153,
     "metadata": {},
     "output_type": "execute_result"
    }
   ],
   "source": [
    "Acc_details[\"Account Number\"]"
   ]
  },
  {
   "cell_type": "code",
   "execution_count": null,
   "id": "75b0d979-544f-46fe-8041-de0db0f5d539",
   "metadata": {},
   "outputs": [],
   "source": [
    "## task try to explore the functions of dictionary\n",
    "# w3schools\n",
    "# geekforgeek\n",
    "\n",
    "# dictionaries are changeable that means we can add,change or remive items\n",
    "## duplicates are not allowed in the dictionary i.e items with the same key\n",
    "# using same key will overwrite\n",
    "#print(type()) tells the data type of a dict [157]\n"
   ]
  }
 ],
 "metadata": {
  "kernelspec": {
   "display_name": "Python 3 (ipykernel)",
   "language": "python",
   "name": "python3"
  },
  "language_info": {
   "codemirror_mode": {
    "name": "ipython",
    "version": 3
   },
   "file_extension": ".py",
   "mimetype": "text/x-python",
   "name": "python",
   "nbconvert_exporter": "python",
   "pygments_lexer": "ipython3",
   "version": "3.12.4"
  }
 },
 "nbformat": 4,
 "nbformat_minor": 5
}
