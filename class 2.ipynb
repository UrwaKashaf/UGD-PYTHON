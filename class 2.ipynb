{
 "cells": [
  {
   "cell_type": "code",
   "execution_count": 1,
   "id": "1f898d53-7b32-4da8-a553-87ba96cb6000",
   "metadata": {},
   "outputs": [
    {
     "name": "stdin",
     "output_type": "stream",
     "text": [
      "enter your name: urwah\n"
     ]
    }
   ],
   "source": [
    "name = input('enter your name:')"
   ]
  },
  {
   "cell_type": "code",
   "execution_count": 3,
   "id": "5018681b-3f61-42aa-aec3-7f3d99b12834",
   "metadata": {},
   "outputs": [
    {
     "name": "stdout",
     "output_type": "stream",
     "text": [
      "name: urwah\n"
     ]
    }
   ],
   "source": [
    "print(\"name:\", name)"
   ]
  },
  {
   "cell_type": "code",
   "execution_count": 9,
   "id": "b7a05c74-5fe8-4570-9b9a-0c7f0f7a131f",
   "metadata": {},
   "outputs": [
    {
     "name": "stdin",
     "output_type": "stream",
     "text": [
      "enter your age: 18\n"
     ]
    },
    {
     "name": "stdout",
     "output_type": "stream",
     "text": [
      "Your Age: 18\n"
     ]
    }
   ],
   "source": [
    "age = int(input(\"enter your age:\"))\n",
    "\n",
    "print(\"Your Age:\",age)"
   ]
  },
  {
   "cell_type": "code",
   "execution_count": 7,
   "id": "7f892543-4d3c-4f67-af80-dd564b84b57a",
   "metadata": {},
   "outputs": [
    {
     "name": "stdout",
     "output_type": "stream",
     "text": [
      "your age: 18\n"
     ]
    }
   ],
   "source": [
    "print(\"your age:\", age)"
   ]
  },
  {
   "cell_type": "code",
   "execution_count": 15,
   "id": "c7816ebb-18a6-4c6d-a766-fc56766f78bf",
   "metadata": {},
   "outputs": [
    {
     "name": "stdin",
     "output_type": "stream",
     "text": [
      "enter your height: 5.8\n"
     ]
    }
   ],
   "source": [
    "height = float(input(\"enter your height:\",))"
   ]
  },
  {
   "cell_type": "code",
   "execution_count": 21,
   "id": "2cc9baf6-b678-469e-9855-c0244b66f5bf",
   "metadata": {},
   "outputs": [
    {
     "name": "stdin",
     "output_type": "stream",
     "text": [
      "Enter your name: urwah\n",
      "Enter your age: 18\n",
      "Enter your height: 5.2\n"
     ]
    },
    {
     "name": "stdout",
     "output_type": "stream",
     "text": [
      "Name: urwah\n",
      "Age: 18\n",
      "Height: 5.2\n"
     ]
    }
   ],
   "source": [
    "#user input\n",
    "name = input(\"Enter your name:\")\n",
    "age = int(input(\"Enter your age:\"))\n",
    "height = float(input(\"Enter your height:\"))\n",
    "\n",
    "#output\n",
    "print(\"Name:\", name)\n",
    "print(\"Age:\", age)\n",
    "print(\"Height:\", height)"
   ]
  },
  {
   "cell_type": "code",
   "execution_count": null,
   "id": "b67a0e05-203b-4d67-98e3-44a0a0a609b7",
   "metadata": {},
   "outputs": [],
   "source": [
    "# task write the program that takes the three inputs from the user\n",
    "# favouritte hobby, gravity value, work experience\n",
    "\n",
    "hobby = input(\"Enter your favourite hobby:\")\n",
    "gravity = float(input(\"Enter the value of gravity:\"))\n",
    "wrk_exp = int(input(\"Enter your work experience:\"))\n",
    "\n",
    "print(\"\\n\\n\")\n",
    "print(\"Favourite Hobby:\", hobby)\n",
    "print(\"Value of Gravity:\",gravity)\n",
    "print(\"Work Experience:\", wrk_exp, \"years\")"
   ]
  },
  {
   "cell_type": "markdown",
   "id": "26bc6546-8ee2-42bd-80cc-fc4bfbd5eb24",
   "metadata": {},
   "source": [
    "## Arthimetic operations\n",
    "\n",
    "\n"
   ]
  },
  {
   "cell_type": "code",
   "execution_count": 51,
   "id": "16c4c463-f03c-409e-a18b-74e211f7b319",
   "metadata": {},
   "outputs": [
    {
     "name": "stdin",
     "output_type": "stream",
     "text": [
      "enter first value: 6\n",
      "enter second value: 7\n"
     ]
    },
    {
     "name": "stdout",
     "output_type": "stream",
     "text": [
      "6 + 7 = 13\n"
     ]
    }
   ],
   "source": [
    "# sum of 2 numbers\n",
    "num1 = int(input(\"enter first value:\"))\n",
    "num2 = int(input(\"enter second value:\"))\n",
    "\n",
    "sum = num1 + num2\n",
    "\n",
    "print(num1, \"+\", num2, \"=\", sum)"
   ]
  },
  {
   "cell_type": "code",
   "execution_count": 55,
   "id": "64b087bf-8f20-496f-b794-578c8473b75e",
   "metadata": {},
   "outputs": [
    {
     "name": "stdin",
     "output_type": "stream",
     "text": [
      "enter first value: 6\n",
      "enter second value: 6\n"
     ]
    },
    {
     "name": "stdout",
     "output_type": "stream",
     "text": [
      "6 * 6 = 36\n"
     ]
    }
   ],
   "source": [
    "# sum of 2 numbers\n",
    "num1 = int(input(\"enter first value:\"))\n",
    "num2 = int(input(\"enter second value:\"))\n",
    "\n",
    "result = num1 * num2\n",
    "\n",
    "print(num1, \"*\", num2, \"=\", result)"
   ]
  },
  {
   "cell_type": "code",
   "execution_count": null,
   "id": "082fcfa2-1f6c-4d7a-a5be-4f0030925088",
   "metadata": {},
   "outputs": [],
   "source": []
  },
  {
   "cell_type": "code",
   "execution_count": 59,
   "id": "6820288f-6e0b-4f01-a8d4-235b3d2ff738",
   "metadata": {},
   "outputs": [
    {
     "name": "stdin",
     "output_type": "stream",
     "text": [
      "enter first value: 25\n",
      "enter second value: 90\n"
     ]
    },
    {
     "name": "stdout",
     "output_type": "stream",
     "text": [
      "\n",
      "Result of two numbers: 0.2777777777777778\n"
     ]
    }
   ],
   "source": [
    "# sum of 2 numbers\n",
    "num1 = int(input(\"enter first value:\"))\n",
    "num2 = int(input(\"enter second value:\"))\n",
    "result= num1 /num2\n",
    "\n",
    "#print(num1, \"/\", num2, \"=\", sum)\n",
    "print(\"\\nResult of two numbers:\", result)"
   ]
  },
  {
   "cell_type": "code",
   "execution_count": 63,
   "id": "81c88f88-eeac-4a10-8a9b-c9e2b05a1f9c",
   "metadata": {},
   "outputs": [
    {
     "name": "stdin",
     "output_type": "stream",
     "text": [
      "enter your fare: 200\n"
     ]
    },
    {
     "name": "stdout",
     "output_type": "stream",
     "text": [
      "\n",
      "Total fare: 224.0\n"
     ]
    }
   ],
   "source": [
    "## calculate the peak hours rate of bykea\n",
    "# 200\n",
    "\n",
    "fare = int(input(\"enter your fare:\"))\n",
    "peak_ft = 0.12 #12% = 12/100\n",
    "\n",
    "total_fare = (fare * peak_ft) + fare\n",
    "\n",
    "print(\"\\nTotal fare:\", total_fare)"
   ]
  },
  {
   "cell_type": "code",
   "execution_count": 67,
   "id": "46656d3f-05ae-41ac-a241-b224173dbbaf",
   "metadata": {},
   "outputs": [
    {
     "name": "stdin",
     "output_type": "stream",
     "text": [
      "Enter your temperature: 45\n"
     ]
    },
    {
     "name": "stdout",
     "output_type": "stream",
     "text": [
      "your temperature is: 7.222222222222222\n"
     ]
    }
   ],
   "source": [
    "## write a programme to convrt the temp in to celsius\n",
    "## C= 5/9 * (F-32)\n",
    "\n",
    "farenhite = int(input(\"Enter your temperature:\"))\n",
    "temperature = 5/9 * (farenhite-32) \n",
    "\n",
    "print(\"your temperature is:\", temperature)"
   ]
  },
  {
   "cell_type": "code",
   "execution_count": 69,
   "id": "890446aa-d117-4d60-b0d5-da0c4863383a",
   "metadata": {},
   "outputs": [
    {
     "name": "stdin",
     "output_type": "stream",
     "text": [
      "enter the length of square : 6\n"
     ]
    },
    {
     "name": "stdout",
     "output_type": "stream",
     "text": [
      "\n",
      "Area of square is : 36\n"
     ]
    }
   ],
   "source": [
    "# take write a programme to take user input and calculate the area of square\n",
    "#\n",
    "\n",
    "length = int(input(\"enter the length of square :\"))\n",
    "\n",
    "area_sq = length **2\n",
    "print(\"\\nArea of square is :\", area_sq)"
   ]
  },
  {
   "cell_type": "code",
   "execution_count": 79,
   "id": "2f061f3e-e001-4c03-b9db-b313b4bc9b9b",
   "metadata": {},
   "outputs": [
    {
     "name": "stdin",
     "output_type": "stream",
     "text": [
      "Enter breadth of triangle: 6\n",
      "Enter height of triangle: 8\n"
     ]
    },
    {
     "name": "stdout",
     "output_type": "stream",
     "text": [
      "\n",
      "Area of triangle: 24.0\n"
     ]
    }
   ],
   "source": [
    "#task 3\n",
    "#calculate area of rtriangle = 1/2 b*h\n",
    "#calculate area of rectange = l*W\n",
    "\n",
    "brth = float(input(\"Enter breadth of triangle:\"))\n",
    "hght = float(input(\"Enter height of triangle:\"))\n",
    "\n",
    "area_tri = 1/2 * ( brth*hght)\n",
    "print(\"\\nArea of triangle:\",area_tri)\n"
   ]
  },
  {
   "cell_type": "code",
   "execution_count": 81,
   "id": "691285fa-7fa3-400d-8b30-99141f1b21ed",
   "metadata": {},
   "outputs": [
    {
     "name": "stdin",
     "output_type": "stream",
     "text": [
      "Enter length of rectange: 6\n",
      "Enter width of rectangle: 5\n"
     ]
    },
    {
     "name": "stdout",
     "output_type": "stream",
     "text": [
      "\n",
      "Area of rectangle: 30.0\n"
     ]
    }
   ],
   "source": [
    "#task 3\n",
    "#calculate area of rtriangle = 1/2 b*h\n",
    "#calculate area of rectange = l*W\n",
    "\n",
    "lnth = float(input(\"Enter length of rectange:\"))\n",
    "wid = float(input(\"Enter width of rectangle:\"))\n",
    "\n",
    "area_rec = lnth*wid\n",
    "print(\"\\nArea of rectangle:\", area_rec)"
   ]
  },
  {
   "cell_type": "code",
   "execution_count": 83,
   "id": "0f202c3e-8472-4ac4-a180-0331d0797a43",
   "metadata": {},
   "outputs": [
    {
     "name": "stdin",
     "output_type": "stream",
     "text": [
      "Enter a number: 6\n"
     ]
    },
    {
     "name": "stdout",
     "output_type": "stream",
     "text": [
      "square of number: 36\n",
      "cube of number: 216\n"
     ]
    }
   ],
   "source": [
    "#write a programme to write s input display in cube and square form\n",
    "\n",
    "\n",
    "num = int(input(\"Enter a number:\"))\n",
    "cub_val = num**3\n",
    "sq_val = num**2\n",
    "\n",
    "print(\"square of number:\", sq_val)\n",
    "print(\"cube of number:\", cub_val)"
   ]
  },
  {
   "cell_type": "code",
   "execution_count": null,
   "id": "98b85d75-0ba9-4821-b8e1-6116a61d99a0",
   "metadata": {},
   "outputs": [],
   "source": []
  }
 ],
 "metadata": {
  "kernelspec": {
   "display_name": "Python 3 (ipykernel)",
   "language": "python",
   "name": "python3"
  },
  "language_info": {
   "codemirror_mode": {
    "name": "ipython",
    "version": 3
   },
   "file_extension": ".py",
   "mimetype": "text/x-python",
   "name": "python",
   "nbconvert_exporter": "python",
   "pygments_lexer": "ipython3",
   "version": "3.12.4"
  }
 },
 "nbformat": 4,
 "nbformat_minor": 5
}
